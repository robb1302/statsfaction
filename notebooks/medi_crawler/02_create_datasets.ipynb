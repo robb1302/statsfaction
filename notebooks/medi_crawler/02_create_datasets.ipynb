{
 "cells": [
  {
   "cell_type": "code",
   "execution_count": null,
   "metadata": {},
   "outputs": [],
   "source": [
    "import pandas as pd\n",
    "import numpy as np\n",
    "import metapub\n",
    "from tqdm import tqdm\n",
    " # import biopython"
   ]
  },
  {
   "cell_type": "code",
   "execution_count": null,
   "metadata": {},
   "outputs": [],
   "source": [
    "import os\n",
    "os.chdir(os.getcwd().replace('notebooks','').replace('medi_crawler',''))"
   ]
  },
  {
   "cell_type": "code",
   "execution_count": null,
   "metadata": {},
   "outputs": [],
   "source": [
    "keyword=\"sepsis\"\n",
    "num_of_articles=3\n",
    "from metapub import PubMedFetcher\n",
    "fetch = PubMedFetcher()\n",
    "# get the  PMID for first 3 articles with keyword sepsis\n",
    "pmids = fetch.pmids_for_query(keyword, retmax=num_of_articles)"
   ]
  },
  {
   "cell_type": "code",
   "execution_count": null,
   "metadata": {},
   "outputs": [],
   "source": [
    "# creates a raw data set with given pmids:\n",
    "titles = {}\n",
    "abstracts = {}\n",
    "for pmid in tqdm(pmids):\n",
    "    try:\n",
    "        titles[pmid] = fetch.article_by_pmid(pmid).title\n",
    "    except:\n",
    "        print('Fehler Title',pmid)\n",
    "        pass\n",
    "    try:\n",
    "        abstracts[pmid] = fetch.article_by_pmid(pmid).abstract\n",
    "    except:\n",
    "        print('Fehler Abstract',pmid)\n",
    "        pass\n",
    "\n",
    "# \n",
    "Title = pd.DataFrame(list(titles.items()),columns = ['pmid','Title'])\n",
    "# get abstract for each article:\n",
    "Abstract = pd.DataFrame(list(abstracts.items()),columns = ['pmid','Abstract'])\n",
    "\n",
    "\n",
    "Abstract.to_csv('abstracts.csv')\n",
    "Title.to_csv('titles.csv')\n",
    "\n",
    "Title = Title.set_index('pmid')\n",
    "Abstract = Abstract.set_index('pmid')\n",
    "\n",
    "df = Abstract.join(Title,how='outer')\n",
    "df.to_csv('raw_research_data.csv')"
   ]
  },
  {
   "cell_type": "code",
   "execution_count": null,
   "metadata": {},
   "outputs": [],
   "source": [
    "# get unlabeled and labeled data\n",
    "\n",
    "#TODO:"
   ]
  },
  {
   "cell_type": "code",
   "execution_count": null,
   "metadata": {},
   "outputs": [],
   "source": [
    "# connect unlabeld and labeled pmids\n",
    "y = pd.concat([pd.DataFrame(index=unlabeled.pmid,columns=[\"label\"]),pd.DataFrame(labeled['label'],columns=[\"label\"])],axis=0)\n",
    "y.to_csv('labeled_pmids.csv')\n",
    "\n",
    "# create labeled and unlabeled data\n",
    "labeled_dataset = y[~y.label.isna()].join(df)\n",
    "labeled_dataset.to_csv('labeled_data.csv')\n",
    "unlabeled_dataset = y[y.label.isna()].join(df)\n",
    "unlabeled_dataset.to_csv('unlabeled_data.csv')"
   ]
  }
 ],
 "metadata": {
  "kernelspec": {
   "display_name": "Python 3.7.3 64-bit",
   "language": "python",
   "name": "python3"
  },
  "language_info": {
   "codemirror_mode": {
    "name": "ipython",
    "version": 3
   },
   "file_extension": ".py",
   "mimetype": "text/x-python",
   "name": "python",
   "nbconvert_exporter": "python",
   "pygments_lexer": "ipython3",
   "version": "3.7.3"
  },
  "orig_nbformat": 4,
  "vscode": {
   "interpreter": {
    "hash": "66a68a27e31420371b4e10fa01710111289cd6836e33b740a73554a2c7583218"
   }
  }
 },
 "nbformat": 4,
 "nbformat_minor": 2
}
