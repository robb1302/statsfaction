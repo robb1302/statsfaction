{
 "cells": [
  {
   "cell_type": "code",
   "execution_count": 1,
   "metadata": {},
   "outputs": [
    {
     "name": "stderr",
     "output_type": "stream",
     "text": [
      "\u001b[32m2023-03-20 20:32:42\u001b[0m \u001b[35mLAPTOP-G25AO21J\u001b[0m \u001b[34mmetapub.config[11128]\u001b[0m \u001b[1;30mWARNING\u001b[0m \u001b[33mNCBI_API_KEY was not set.\u001b[0m\n"
     ]
    }
   ],
   "source": [
    "import pandas as pd\n",
    "import numpy as np\n",
    "import metapub\n",
    " # import biopython"
   ]
  },
  {
   "cell_type": "code",
   "execution_count": 2,
   "metadata": {},
   "outputs": [],
   "source": [
    "keyword=\"sepsis\"\n",
    "num_of_articles=3"
   ]
  },
  {
   "cell_type": "code",
   "execution_count": 3,
   "metadata": {},
   "outputs": [],
   "source": [
    "from metapub import PubMedFetcher\n",
    "fetch = PubMedFetcher()\n",
    "\n",
    "# get the  PMID for first 3 articles with keyword sepsis\n",
    "pmids = fetch.pmids_for_query(keyword, retmax=num_of_articles)\n",
    "\n",
    "# get  articles\n",
    "articles = {}\n",
    "for pmid in pmids:\n",
    "    articles[pmid] = fetch.article_by_pmid(pmid)"
   ]
  },
  {
   "cell_type": "code",
   "execution_count": 4,
   "metadata": {},
   "outputs": [
    {
     "data": {
      "text/html": [
       "<div>\n",
       "<style scoped>\n",
       "    .dataframe tbody tr th:only-of-type {\n",
       "        vertical-align: middle;\n",
       "    }\n",
       "\n",
       "    .dataframe tbody tr th {\n",
       "        vertical-align: top;\n",
       "    }\n",
       "\n",
       "    .dataframe thead th {\n",
       "        text-align: right;\n",
       "    }\n",
       "</style>\n",
       "<table border=\"1\" class=\"dataframe\">\n",
       "  <thead>\n",
       "    <tr style=\"text-align: right;\">\n",
       "      <th></th>\n",
       "      <th>pmid</th>\n",
       "      <th>Title</th>\n",
       "    </tr>\n",
       "  </thead>\n",
       "  <tbody>\n",
       "    <tr>\n",
       "      <th>0</th>\n",
       "      <td>36939682</td>\n",
       "      <td>PROPHYLACTIC nCMT-3 ATTENUATES SEPSIS-INDUCED ...</td>\n",
       "    </tr>\n",
       "    <tr>\n",
       "      <th>1</th>\n",
       "      <td>36939512</td>\n",
       "      <td>Bullous ecthyma gangrenosum of the scalp durin...</td>\n",
       "    </tr>\n",
       "    <tr>\n",
       "      <th>2</th>\n",
       "      <td>36938691</td>\n",
       "      <td>Caring for Two in the ICU: Pharmacotherapy in ...</td>\n",
       "    </tr>\n",
       "  </tbody>\n",
       "</table>\n",
       "</div>"
      ],
      "text/plain": [
       "       pmid                                              Title\n",
       "0  36939682  PROPHYLACTIC nCMT-3 ATTENUATES SEPSIS-INDUCED ...\n",
       "1  36939512  Bullous ecthyma gangrenosum of the scalp durin...\n",
       "2  36938691  Caring for Two in the ICU: Pharmacotherapy in ..."
      ]
     },
     "execution_count": 4,
     "metadata": {},
     "output_type": "execute_result"
    }
   ],
   "source": [
    "# get title for each article:\n",
    "titles = {}\n",
    "for pmid in pmids:\n",
    "    titles[pmid] = fetch.article_by_pmid(pmid).title\n",
    "Title = pd.DataFrame(list(titles.items()),columns = ['pmid','Title'])\n",
    "Title"
   ]
  },
  {
   "cell_type": "code",
   "execution_count": 5,
   "metadata": {},
   "outputs": [
    {
     "data": {
      "text/html": [
       "<div>\n",
       "<style scoped>\n",
       "    .dataframe tbody tr th:only-of-type {\n",
       "        vertical-align: middle;\n",
       "    }\n",
       "\n",
       "    .dataframe tbody tr th {\n",
       "        vertical-align: top;\n",
       "    }\n",
       "\n",
       "    .dataframe thead th {\n",
       "        text-align: right;\n",
       "    }\n",
       "</style>\n",
       "<table border=\"1\" class=\"dataframe\">\n",
       "  <thead>\n",
       "    <tr style=\"text-align: right;\">\n",
       "      <th></th>\n",
       "      <th>pmid</th>\n",
       "      <th>Abstract</th>\n",
       "    </tr>\n",
       "  </thead>\n",
       "  <tbody>\n",
       "    <tr>\n",
       "      <th>0</th>\n",
       "      <td>36939682</td>\n",
       "      <td>BACKGROUND: The kidney is the most common extr...</td>\n",
       "    </tr>\n",
       "    <tr>\n",
       "      <th>1</th>\n",
       "      <td>36939512</td>\n",
       "      <td>None</td>\n",
       "    </tr>\n",
       "    <tr>\n",
       "      <th>2</th>\n",
       "      <td>36938691</td>\n",
       "      <td>Safe and thoughtful medication management of p...</td>\n",
       "    </tr>\n",
       "  </tbody>\n",
       "</table>\n",
       "</div>"
      ],
      "text/plain": [
       "       pmid                                           Abstract\n",
       "0  36939682  BACKGROUND: The kidney is the most common extr...\n",
       "1  36939512                                               None\n",
       "2  36938691  Safe and thoughtful medication management of p..."
      ]
     },
     "execution_count": 5,
     "metadata": {},
     "output_type": "execute_result"
    }
   ],
   "source": [
    "# get abstract for each article:\n",
    "abstracts = {}\n",
    "for pmid in pmids:\n",
    "    abstracts[pmid] = fetch.article_by_pmid(pmid).abstract\n",
    "Abstract = pd.DataFrame(list(abstracts.items()),columns = ['pmid','Abstract'])\n",
    "Abstract"
   ]
  },
  {
   "cell_type": "code",
   "execution_count": 6,
   "metadata": {},
   "outputs": [
    {
     "data": {
      "text/html": [
       "<div>\n",
       "<style scoped>\n",
       "    .dataframe tbody tr th:only-of-type {\n",
       "        vertical-align: middle;\n",
       "    }\n",
       "\n",
       "    .dataframe tbody tr th {\n",
       "        vertical-align: top;\n",
       "    }\n",
       "\n",
       "    .dataframe thead th {\n",
       "        text-align: right;\n",
       "    }\n",
       "</style>\n",
       "<table border=\"1\" class=\"dataframe\">\n",
       "  <thead>\n",
       "    <tr style=\"text-align: right;\">\n",
       "      <th></th>\n",
       "      <th>pmid</th>\n",
       "      <th>Author</th>\n",
       "    </tr>\n",
       "  </thead>\n",
       "  <tbody>\n",
       "    <tr>\n",
       "      <th>0</th>\n",
       "      <td>36939682</td>\n",
       "      <td>[Ma J, Wang X, Gu R, Guo D, Shi C, Kollisch-Si...</td>\n",
       "    </tr>\n",
       "    <tr>\n",
       "      <th>1</th>\n",
       "      <td>36939512</td>\n",
       "      <td>[Cortese A, Manara S, Pancetti S, Toso F, Fior...</td>\n",
       "    </tr>\n",
       "    <tr>\n",
       "      <th>2</th>\n",
       "      <td>36938691</td>\n",
       "      <td>[Heavner MS, Erdman G, Barlow B, Aldhaeefi M, ...</td>\n",
       "    </tr>\n",
       "  </tbody>\n",
       "</table>\n",
       "</div>"
      ],
      "text/plain": [
       "       pmid                                             Author\n",
       "0  36939682  [Ma J, Wang X, Gu R, Guo D, Shi C, Kollisch-Si...\n",
       "1  36939512  [Cortese A, Manara S, Pancetti S, Toso F, Fior...\n",
       "2  36938691  [Heavner MS, Erdman G, Barlow B, Aldhaeefi M, ..."
      ]
     },
     "execution_count": 6,
     "metadata": {},
     "output_type": "execute_result"
    }
   ],
   "source": [
    "authors = {}\n",
    "for pmid in pmids:\n",
    "    authors[pmid] = fetch.article_by_pmid(pmid).authors\n",
    "Author = pd.DataFrame(list(authors.items()),columns = ['pmid','Author'])\n",
    "Author"
   ]
  },
  {
   "cell_type": "code",
   "execution_count": null,
   "metadata": {},
   "outputs": [],
   "source": []
  }
 ],
 "metadata": {
  "kernelspec": {
   "display_name": "Python 3.7.3 64-bit",
   "language": "python",
   "name": "python3"
  },
  "language_info": {
   "codemirror_mode": {
    "name": "ipython",
    "version": 3
   },
   "file_extension": ".py",
   "mimetype": "text/x-python",
   "name": "python",
   "nbconvert_exporter": "python",
   "pygments_lexer": "ipython3",
   "version": "3.7.3"
  },
  "orig_nbformat": 4,
  "vscode": {
   "interpreter": {
    "hash": "66a68a27e31420371b4e10fa01710111289cd6836e33b740a73554a2c7583218"
   }
  }
 },
 "nbformat": 4,
 "nbformat_minor": 2
}
