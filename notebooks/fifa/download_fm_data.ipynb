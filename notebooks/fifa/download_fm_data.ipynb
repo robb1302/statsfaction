{
 "cells": [
  {
   "cell_type": "code",
   "execution_count": null,
   "metadata": {},
   "outputs": [],
   "source": [
    "import pandas as pd\n",
    "import numpy as np\n",
    "import sys\n",
    "import os\n",
    "from os import listdir\n",
    "\n",
    "\n",
    "pd.set_option('display.max_columns', 500)\n",
    "\n",
    "\n",
    "\n",
    "def find_and_append_module_path():\n",
    "    current_dir = os.getcwd()\n",
    "    substring_to_find = 'statsfaction'\n",
    "    index = current_dir.rfind(substring_to_find)\n",
    "    \n",
    "    if index != -1:\n",
    "        # Extract the directory path up to and including the last \"mypath\" occurrence\n",
    "        new_dir = current_dir[:index + (len(substring_to_find))]\n",
    "\n",
    "        # Change the current working directory to the new directory\n",
    "        os.chdir(new_dir)\n",
    "        sys.path.append(new_dir)\n",
    "        # Verify the new current directory\n",
    "        print(\"New current directory:\", os.getcwd())\n",
    "    else:\n",
    "        print(\"No 'mypath' found in the current directory\")\n",
    "find_and_append_module_path()\n"
   ]
  },
  {
   "cell_type": "code",
   "execution_count": null,
   "metadata": {},
   "outputs": [],
   "source": [
    "os.getcwd()"
   ]
  },
  {
   "cell_type": "code",
   "execution_count": null,
   "metadata": {},
   "outputs": [],
   "source": [
    "import requests\n",
    "from bs4 import BeautifulSoup\n",
    "\n",
    "# Send an HTTP GET request to the website\n",
    "url = \"https://fminside.net/players\"\n",
    "response = requests.get(url)\n",
    "\n",
    "# Check if the request was successful\n",
    "if response.status_code == 200:\n",
    "    # Parse the HTML content of the page\n",
    "    soup = BeautifulSoup(response.text, 'html.parser')\n",
    "    \n",
    "    # Find the main container element containing player data\n",
    "    player_container = soup.find('div', class_='players')\n",
    "    \n",
    "    # Find all player elements within the container\n",
    "    player_ul_elements = player_container.find_all('ul', class_='player')\n",
    "    \n",
    "    # Initialize a list to store player data\n",
    "    players_data = []\n",
    "    \n",
    "    # Loop through each player <ul> element and extract the desired information\n",
    "    for player_ul in player_ul_elements:\n",
    "        # Extract player data here\n",
    "        # Modify the code to extract name, ID, age, rating, and potential\n",
    "        \n",
    "        name = player_ul.find('span', class_='name').a.get('title')\n",
    "        player_id = player_ul.find('span', class_='name').a.get('href')\n",
    "        age = int(player_ul.find('li', class_='age').text)\n",
    "        rating = int(player_ul.find('li', class_='rating').span.text)\n",
    "        potential = int(player_ul.find('li', class_='potential').span.text)\n",
    "        \n",
    "        player_info = {\n",
    "            'Name': name,\n",
    "            'Player ID': player_id,\n",
    "            'Age': age,\n",
    "            'Rating': rating,\n",
    "            'Potential': potential\n",
    "        }\n",
    "        \n",
    "        # Append the player's data to the list\n",
    "        players_data.append(player_info)\n",
    "    \n",
    "    # Print or process the extracted player data\n",
    "    for player_info in players_data:\n",
    "        print(player_info)\n",
    "else:\n",
    "    print(\"Failed to retrieve the webpage. Status code:\", response.status_code)\n"
   ]
  },
  {
   "cell_type": "code",
   "execution_count": null,
   "metadata": {},
   "outputs": [],
   "source": []
  },
  {
   "cell_type": "markdown",
   "metadata": {},
   "source": [
    "# Load more"
   ]
  },
  {
   "cell_type": "code",
   "execution_count": 6,
   "metadata": {},
   "outputs": [
    {
     "ename": "RuntimeError",
     "evalue": "This event loop is already running",
     "output_type": "error",
     "traceback": [
      "\u001b[1;31m---------------------------------------------------------------------------\u001b[0m",
      "\u001b[1;31mRuntimeError\u001b[0m                              Traceback (most recent call last)",
      "\u001b[1;32mc:\\Users\\Robert\\Documents\\Projekte\\dev\\statsfaction\\notebooks\\fifa\\download_fm_data.ipynb Cell 6\u001b[0m line \u001b[0;36m6\n\u001b[0;32m     <a href='vscode-notebook-cell:/c%3A/Users/Robert/Documents/Projekte/dev/statsfaction/notebooks/fifa/download_fm_data.ipynb#W4sZmlsZQ%3D%3D?line=65'>66</a>\u001b[0m \u001b[39mif\u001b[39;00m \u001b[39m__name__\u001b[39m \u001b[39m==\u001b[39m \u001b[39m\"\u001b[39m\u001b[39m__main__\u001b[39m\u001b[39m\"\u001b[39m:\n\u001b[0;32m     <a href='vscode-notebook-cell:/c%3A/Users/Robert/Documents/Projekte/dev/statsfaction/notebooks/fifa/download_fm_data.ipynb#W4sZmlsZQ%3D%3D?line=66'>67</a>\u001b[0m     loop \u001b[39m=\u001b[39m asyncio\u001b[39m.\u001b[39mget_event_loop()\n\u001b[1;32m---> <a href='vscode-notebook-cell:/c%3A/Users/Robert/Documents/Projekte/dev/statsfaction/notebooks/fifa/download_fm_data.ipynb#W4sZmlsZQ%3D%3D?line=67'>68</a>\u001b[0m     loop\u001b[39m.\u001b[39;49mrun_until_complete(scrape_data())\n",
      "File \u001b[1;32m~\\AppData\\Local\\Programs\\Python\\Python311\\Lib\\asyncio\\base_events.py:629\u001b[0m, in \u001b[0;36mBaseEventLoop.run_until_complete\u001b[1;34m(self, future)\u001b[0m\n\u001b[0;32m    618\u001b[0m \u001b[39m\u001b[39m\u001b[39m\"\"\"Run until the Future is done.\u001b[39;00m\n\u001b[0;32m    619\u001b[0m \n\u001b[0;32m    620\u001b[0m \u001b[39mIf the argument is a coroutine, it is wrapped in a Task.\u001b[39;00m\n\u001b[1;32m   (...)\u001b[0m\n\u001b[0;32m    626\u001b[0m \u001b[39mReturn the Future's result, or raise its exception.\u001b[39;00m\n\u001b[0;32m    627\u001b[0m \u001b[39m\"\"\"\u001b[39;00m\n\u001b[0;32m    628\u001b[0m \u001b[39mself\u001b[39m\u001b[39m.\u001b[39m_check_closed()\n\u001b[1;32m--> 629\u001b[0m \u001b[39mself\u001b[39;49m\u001b[39m.\u001b[39;49m_check_running()\n\u001b[0;32m    631\u001b[0m new_task \u001b[39m=\u001b[39m \u001b[39mnot\u001b[39;00m futures\u001b[39m.\u001b[39misfuture(future)\n\u001b[0;32m    632\u001b[0m future \u001b[39m=\u001b[39m tasks\u001b[39m.\u001b[39mensure_future(future, loop\u001b[39m=\u001b[39m\u001b[39mself\u001b[39m)\n",
      "File \u001b[1;32m~\\AppData\\Local\\Programs\\Python\\Python311\\Lib\\asyncio\\base_events.py:588\u001b[0m, in \u001b[0;36mBaseEventLoop._check_running\u001b[1;34m(self)\u001b[0m\n\u001b[0;32m    586\u001b[0m \u001b[39mdef\u001b[39;00m \u001b[39m_check_running\u001b[39m(\u001b[39mself\u001b[39m):\n\u001b[0;32m    587\u001b[0m     \u001b[39mif\u001b[39;00m \u001b[39mself\u001b[39m\u001b[39m.\u001b[39mis_running():\n\u001b[1;32m--> 588\u001b[0m         \u001b[39mraise\u001b[39;00m \u001b[39mRuntimeError\u001b[39;00m(\u001b[39m'\u001b[39m\u001b[39mThis event loop is already running\u001b[39m\u001b[39m'\u001b[39m)\n\u001b[0;32m    589\u001b[0m     \u001b[39mif\u001b[39;00m events\u001b[39m.\u001b[39m_get_running_loop() \u001b[39mis\u001b[39;00m \u001b[39mnot\u001b[39;00m \u001b[39mNone\u001b[39;00m:\n\u001b[0;32m    590\u001b[0m         \u001b[39mraise\u001b[39;00m \u001b[39mRuntimeError\u001b[39;00m(\n\u001b[0;32m    591\u001b[0m             \u001b[39m'\u001b[39m\u001b[39mCannot run the event loop while another loop is running\u001b[39m\u001b[39m'\u001b[39m)\n",
      "\u001b[1;31mRuntimeError\u001b[0m: This event loop is already running"
     ]
    }
   ],
   "source": [
    "import asyncio\n",
    "from pyppeteer import launch\n",
    "\n",
    "async def scrape_data():\n",
    "    # Launch a headless Chromium browser\n",
    "    browser = await launch(headless=True)\n",
    "\n",
    "    # Create a new page/tab\n",
    "    page = await browser.newPage()\n",
    "\n",
    "    # Navigate to the website\n",
    "    await page.goto('https://fminside.net/players')\n",
    "\n",
    "    # Initialize a list to store player data\n",
    "    players_data = []\n",
    "\n",
    "    while True:\n",
    "        # Wait for the player data to load\n",
    "        await page.waitForSelector('ul.player')\n",
    "\n",
    "        # Extract player data from the current page using JavaScript evaluation\n",
    "        player_data = await page.evaluate('''() => {\n",
    "            const playerElements = Array.from(document.querySelectorAll('ul.player'));\n",
    "            const data = [];\n",
    "\n",
    "            for (const playerElement of playerElements) {\n",
    "                const name = playerElement.querySelector('span.name a').getAttribute('title');\n",
    "                const playerID = playerElement.querySelector('span.name a').getAttribute('href');\n",
    "                const age = parseInt(playerElement.querySelector('li.age').textContent, 10);\n",
    "                const rating = parseInt(playerElement.querySelector('li.rating').textContent, 10);\n",
    "                const potential = parseInt(playerElement.querySelector('li.potential').textContent, 10);\n",
    "\n",
    "                data.push({\n",
    "                    'Name': name,\n",
    "                    'Player ID': playerID,\n",
    "                    'Age': age,\n",
    "                    'Rating': rating,\n",
    "                    'Potential': potential\n",
    "                });\n",
    "            }\n",
    "\n",
    "            return data;\n",
    "        }''')\n",
    "\n",
    "        # Add the player data to the array\n",
    "        players_data.extend(player_data)\n",
    "\n",
    "        # Check if there's a \"Load more players\" button\n",
    "        load_more_button = await page.querySelector('a.loadmore')\n",
    "        if not load_more_button:\n",
    "            break  # No more players to load\n",
    "\n",
    "        # Click the \"Load more players\" button\n",
    "        await load_more_button.click()\n",
    "\n",
    "        # Wait briefly to allow new content to load\n",
    "        await page.waitForTimeout(2000)  # Adjust the wait time as needed\n",
    "\n",
    "    # Close the browser\n",
    "    await browser.close()\n",
    "\n",
    "    # Print or process the scraped player data\n",
    "    for player_info in players_data:\n",
    "        print(player_info)\n",
    "\n",
    "if __name__ == \"__main__\":\n",
    "    loop = asyncio.get_event_loop()\n",
    "    loop.run_until_complete(scrape_data())\n"
   ]
  },
  {
   "cell_type": "code",
   "execution_count": null,
   "metadata": {},
   "outputs": [],
   "source": [
    "load_more_link"
   ]
  },
  {
   "cell_type": "code",
   "execution_count": null,
   "metadata": {},
   "outputs": [],
   "source": [
    "players_data"
   ]
  },
  {
   "cell_type": "code",
   "execution_count": null,
   "metadata": {},
   "outputs": [],
   "source": []
  }
 ],
 "metadata": {
  "kernelspec": {
   "display_name": ".venv",
   "language": "python",
   "name": "python3"
  },
  "language_info": {
   "codemirror_mode": {
    "name": "ipython",
    "version": 3
   },
   "file_extension": ".py",
   "mimetype": "text/x-python",
   "name": "python",
   "nbconvert_exporter": "python",
   "pygments_lexer": "ipython3",
   "version": "3.11.4"
  },
  "orig_nbformat": 4
 },
 "nbformat": 4,
 "nbformat_minor": 2
}
