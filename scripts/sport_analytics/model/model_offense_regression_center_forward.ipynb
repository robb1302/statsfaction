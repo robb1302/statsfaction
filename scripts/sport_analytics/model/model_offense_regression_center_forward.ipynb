{
 "cells": [
  {
   "cell_type": "markdown",
   "metadata": {},
   "source": [
    "Find Players with low potentials but high actual Rating\n",
    "- Label Players has a potential higher than 83 but never reaches this potential"
   ]
  },
  {
   "cell_type": "code",
   "execution_count": 1,
   "metadata": {},
   "outputs": [
    {
     "ename": "SyntaxError",
     "evalue": "invalid syntax (4036224451.py, line 45)",
     "output_type": "error",
     "traceback": [
      "\u001b[1;36m  Cell \u001b[1;32mIn[1], line 45\u001b[1;36m\u001b[0m\n\u001b[1;33m    'age_based_Positioning', 'age_based_Vision',,\u001b[0m\n\u001b[1;37m                                                ^\u001b[0m\n\u001b[1;31mSyntaxError\u001b[0m\u001b[1;31m:\u001b[0m invalid syntax\n"
     ]
    }
   ],
   "source": [
    "HYPERTRAINING = False\n",
    "CV = 5\n",
    "SCORING = 'r2'\n",
    "AUTO_FEATURE_SELECT = 'backward'\n",
    "# forward eher schlecht\n",
    "#'neg_mean_squared_error'   nope\n",
    "#r2 sehr gut -> 0.45\n",
    "# 'explained_variance'\n",
    "# HUBER\n",
    "if SCORING in ['neg_mean_squared_error']:\n",
    "    DIRECTION = \"minimize\"\n",
    "else:\n",
    "    DIRECTION = \"maximize\"\n",
    "TRIALS = 30    \n",
    "SAVE_MODEL_NAME = 'offense_regressor'\n",
    "CLASS_WEIGHTS = 'balanced'\n",
    "EXPERIEMENT_NAME = \"offense_potential_predictor_regression_metrics_no_winger\"\n",
    "RUN_NAME = None\n",
    "TARGET_OVERALL = 80\n",
    "\n",
    "PLAYER_ATTRIBUTES = [ 'central','winger','offense','Finishing',  'ShortPassing', 'Volleys', 'Dribbling',  'FKAccuracy', 'LongPassing', 'BallControl',\n",
    "                      'Acceleration', 'SprintSpeed', 'Agility',    'Reactions', 'Balance', \n",
    "                      'ShotPower', 'Jumping',  'LongShots', 'Positioning', 'Vision' ]\n",
    "# PLAYER_ATTRIBUTES = [ 'Age' ,'Dribbling',  'FKAccuracy',  'BallControl','ShotPower','Positioning', 'Penalties' ]\n",
    "PLAYER_ATTRIBUTES = [  'central','offense','Age','Crossing', 'Finishing', 'HeadingAccuracy', 'ShortPassing', 'Volleys', 'Dribbling', 'Curve', 'FKAccuracy', 'LongPassing', 'BallControl',\n",
    "                      'Acceleration', 'SprintSpeed', 'Agility', 'GKPositioning', 'GKReflexes', 'Composure', 'Defensive awareness', 'Reactions', 'Balance', \n",
    "                      'ShotPower', 'Jumping', 'Stamina', 'Strength', 'LongShots', 'Aggression', 'Interceptions', 'Positioning', 'Vision', 'Penalties', 'Marking', \n",
    "                      'StandingTackleshooting_technique', 'SlidingTackle', 'GKDiving', 'GKHandling', 'GKKicking']\n",
    "PLAYER_ATTRIBUTES = ['Reactions', 'age_based_Stamina', 'Positioning', 'ShortPassing',  'Dribbling', 'BallControl',    'Aggression',   'Vision',  'SprintSpeed','shooting']\n",
    "PLAYER_ATTRIBUTES = ['Crossing', 'Finishing','shooting_technique','mental',\n",
    "       'ShortPassing', 'Volleys', 'Dribbling', 'Curve', 'FKAccuracy',\n",
    "       'LongPassing', 'BallControl',  'SprintSpeed', 'Agility',\n",
    "       'Reactions', 'Balance', 'ShotPower', 'Jumping', 'Stamina', 'Strength',\n",
    "       'LongShots', 'Aggression',  'Positioning', 'Vision',\n",
    "       'Penalties',  \n",
    "        'youth_player', 'shooting', \n",
    "       'mental', 'physique', 'Speed', 'ball_handling', 'age_based_Reactions',\n",
    "       'age_based_physique', 'age_based_shooting_technique',\n",
    "       'age_based_Stamina', 'age_based_Positioning', 'age_based_Vision',\n",
    "       'age_based_Finishing', 'age_based_BallControl']\n",
    "\n",
    "PLAYER_ATTRIBUTES = [ 'shooting',\n",
    "       'mental', 'Strength', 'Speed', 'ball_handling', 'age_based_Reactions','Stamina',\n",
    "       'age_based_shooting_technique','age_based_Dribbling'\n",
    "       'age_based_Positioning', 'age_based_Vision',\n",
    "       'age_based_BallControl']\n",
    "# PLAYER_ATTRIBUTES = [ 'shooting','ShortPassing','Dribbling','BallControl',\n",
    "#                      'Speed',  'Reactions', 'Aggression','mental','age_based_Stamina','Positioning', 'Vision']\n",
    "# PLAYER_ATTRIBUTES = [ 'Finishing',   'LongShots','ShotPower',   'Volleys',   'FKAccuracy',  'HeadingAccuracy',\n",
    "#                       'Positioning', 'Vision' ,'ShortPassing','LongPassing',\n",
    "#                      'BallControl','Dribbling', \n",
    "#                       'Acceleration', 'SprintSpeed', 'Agility','Reactions', \n",
    "#                       'Balance', 'Stamina','Jumping','Composure']\n"
   ]
  },
  {
   "cell_type": "code",
   "execution_count": null,
   "metadata": {},
   "outputs": [
    {
     "name": "stdout",
     "output_type": "stream",
     "text": [
      "New current directory: c:\\Users\\Robert\\Documents\\Projekte\\dev\\statsfaction\n"
     ]
    }
   ],
   "source": [
    "import os\n",
    "import pandas as pd\n",
    "import numpy as np\n",
    "import sys\n",
    "import os\n",
    "\n",
    "def find_and_append_module_path():\n",
    "    current_dir = os.getcwd()\n",
    "    substring_to_find = 'statsfaction'\n",
    "    index = current_dir.rfind(substring_to_find)\n",
    "    \n",
    "    if index != -1:\n",
    "        # Extract the directory path up to and including the last \"mypath\" occurrence\n",
    "        new_dir = current_dir[:index + (len(substring_to_find))]\n",
    "\n",
    "        # Change the current working directory to the new directory\n",
    "        os.chdir(new_dir)\n",
    "        sys.path.append(new_dir)\n",
    "        # Verify the new current directory\n",
    "        print(\"New current directory:\", os.getcwd())\n",
    "    else:\n",
    "        print(\"No 'mypath' found in the current directory\")\n",
    "find_and_append_module_path()\n",
    "os.getcwd()\n",
    "\n",
    "from src.sport_analytics.model.prepare import add_features_raw_datadf_raw\n",
    "from src.sport_analytics.model.eval import plot_feature_importance,plot_shap_summary,plot_auc_curves\n",
    "import config as CONFIG"
   ]
  },
  {
   "cell_type": "markdown",
   "metadata": {},
   "source": [
    "### Get Data"
   ]
  },
  {
   "cell_type": "code",
   "execution_count": null,
   "metadata": {},
   "outputs": [],
   "source": [
    "sql_prime = \"\"\"\n",
    "SELECT max(Age) as prime_age,* FROM(SELECT MAX(Overall) AS PrimeOverall,*\n",
    "  FROM fifa\n",
    "  GROUP BY ID ) \n",
    "  GROUP BY ID\n",
    "  order by PrimeOverall DESC;\n",
    "\"\"\"\n",
    "\n",
    "sql_potentials = f\"\"\"\n",
    "SELECT min(Age) as potential_age,* FROM  (SELECT *,Potential as max_potential FROM fifa WHERE Potential>={TARGET_OVERALL})\n",
    "GROUP BY ID\n",
    "order by potential DESC;\n",
    "\"\"\"\n",
    "\n"
   ]
  },
  {
   "cell_type": "code",
   "execution_count": null,
   "metadata": {},
   "outputs": [
    {
     "name": "stdout",
     "output_type": "stream",
     "text": [
      "The autoreload extension is already loaded. To reload it, use:\n",
      "  %reload_ext autoreload\n"
     ]
    },
    {
     "data": {
      "text/html": [
       "<div>\n",
       "<style scoped>\n",
       "    .dataframe tbody tr th:only-of-type {\n",
       "        vertical-align: middle;\n",
       "    }\n",
       "\n",
       "    .dataframe tbody tr th {\n",
       "        vertical-align: top;\n",
       "    }\n",
       "\n",
       "    .dataframe thead th {\n",
       "        text-align: right;\n",
       "    }\n",
       "</style>\n",
       "<table border=\"1\" class=\"dataframe\">\n",
       "  <thead>\n",
       "    <tr style=\"text-align: right;\">\n",
       "      <th></th>\n",
       "      <th></th>\n",
       "      <th></th>\n",
       "      <th>potential_age</th>\n",
       "      <th>Age</th>\n",
       "      <th>Photo</th>\n",
       "      <th>Nationality</th>\n",
       "      <th>Flag</th>\n",
       "      <th>Overall</th>\n",
       "      <th>Potential</th>\n",
       "      <th>Club</th>\n",
       "      <th>Club Logo</th>\n",
       "      <th>Value</th>\n",
       "      <th>...</th>\n",
       "      <th>ball_handling</th>\n",
       "      <th>age_based_Reactions</th>\n",
       "      <th>age_based_physique</th>\n",
       "      <th>age_based_shooting_technique</th>\n",
       "      <th>age_based_Stamina</th>\n",
       "      <th>age_based_Positioning</th>\n",
       "      <th>age_based_Vision</th>\n",
       "      <th>age_based_Finishing</th>\n",
       "      <th>age_based_BallControl</th>\n",
       "      <th>age_based_shooting</th>\n",
       "    </tr>\n",
       "    <tr>\n",
       "      <th>ID</th>\n",
       "      <th>Name</th>\n",
       "      <th>FIFA</th>\n",
       "      <th></th>\n",
       "      <th></th>\n",
       "      <th></th>\n",
       "      <th></th>\n",
       "      <th></th>\n",
       "      <th></th>\n",
       "      <th></th>\n",
       "      <th></th>\n",
       "      <th></th>\n",
       "      <th></th>\n",
       "      <th></th>\n",
       "      <th></th>\n",
       "      <th></th>\n",
       "      <th></th>\n",
       "      <th></th>\n",
       "      <th></th>\n",
       "      <th></th>\n",
       "      <th></th>\n",
       "      <th></th>\n",
       "      <th></th>\n",
       "      <th></th>\n",
       "    </tr>\n",
       "  </thead>\n",
       "  <tbody>\n",
       "    <tr>\n",
       "      <th>158023</th>\n",
       "      <th>L. Messi</th>\n",
       "      <th>2011</th>\n",
       "      <td>23.0</td>\n",
       "      <td>23.0</td>\n",
       "      <td>https://cdn.sofifa.net/players/158/023/11_60.png</td>\n",
       "      <td>Argentina</td>\n",
       "      <td>https://cdn.sofifa.net/flags/ar.png</td>\n",
       "      <td>90.0</td>\n",
       "      <td>95.0</td>\n",
       "      <td>FC Barcelona</td>\n",
       "      <td>https://cdn.sofifa.net/meta/team/83/30.png</td>\n",
       "      <td>€0</td>\n",
       "      <td>...</td>\n",
       "      <td>94.2</td>\n",
       "      <td>17.502664</td>\n",
       "      <td>-3.713144</td>\n",
       "      <td>29.699822</td>\n",
       "      <td>2.902309</td>\n",
       "      <td>31.346359</td>\n",
       "      <td>27.808171</td>\n",
       "      <td>36.721137</td>\n",
       "      <td>27.376554</td>\n",
       "      <td>33.410894</td>\n",
       "    </tr>\n",
       "    <tr>\n",
       "      <th>20801</th>\n",
       "      <th>Cristiano Ronaldo</th>\n",
       "      <th>2011</th>\n",
       "      <td>25.0</td>\n",
       "      <td>25.0</td>\n",
       "      <td>https://cdn.sofifa.net/players/020/801/11_60.png</td>\n",
       "      <td>Portugal</td>\n",
       "      <td>https://cdn.sofifa.net/flags/pt.png</td>\n",
       "      <td>89.0</td>\n",
       "      <td>94.0</td>\n",
       "      <td>Real Madrid</td>\n",
       "      <td>https://cdn.sofifa.net/meta/team/3468/30.png</td>\n",
       "      <td>€0</td>\n",
       "      <td>...</td>\n",
       "      <td>92.2</td>\n",
       "      <td>13.717460</td>\n",
       "      <td>9.719048</td>\n",
       "      <td>32.160635</td>\n",
       "      <td>11.850794</td>\n",
       "      <td>28.977778</td>\n",
       "      <td>15.171429</td>\n",
       "      <td>34.958730</td>\n",
       "      <td>26.241270</td>\n",
       "      <td>33.225397</td>\n",
       "    </tr>\n",
       "    <tr>\n",
       "      <th>244778</th>\n",
       "      <th>Trincão</th>\n",
       "      <th>2021</th>\n",
       "      <td>20.0</td>\n",
       "      <td>20.0</td>\n",
       "      <td>https://cdn.sofifa.net/players/244/778/21_60.png</td>\n",
       "      <td>Portugal</td>\n",
       "      <td>https://cdn.sofifa.net/flags/pt.png</td>\n",
       "      <td>78.0</td>\n",
       "      <td>91.0</td>\n",
       "      <td>FC Barcelona</td>\n",
       "      <td>https://cdn.sofifa.net/meta/team/83/30.png</td>\n",
       "      <td>€34M</td>\n",
       "      <td>...</td>\n",
       "      <td>80.2</td>\n",
       "      <td>12.830986</td>\n",
       "      <td>8.190781</td>\n",
       "      <td>16.056082</td>\n",
       "      <td>9.382843</td>\n",
       "      <td>16.982074</td>\n",
       "      <td>15.554417</td>\n",
       "      <td>20.797695</td>\n",
       "      <td>15.592830</td>\n",
       "      <td>15.660265</td>\n",
       "    </tr>\n",
       "    <tr>\n",
       "      <th>183277</th>\n",
       "      <th>E. Hazard</th>\n",
       "      <th>2011</th>\n",
       "      <td>19.0</td>\n",
       "      <td>19.0</td>\n",
       "      <td>https://cdn.sofifa.net/players/183/277/11_60.png</td>\n",
       "      <td>Belgium</td>\n",
       "      <td>https://cdn.sofifa.net/flags/be.png</td>\n",
       "      <td>81.0</td>\n",
       "      <td>91.0</td>\n",
       "      <td>LOSC Lille</td>\n",
       "      <td>https://cdn.sofifa.net/meta/team/690/30.png</td>\n",
       "      <td>€0</td>\n",
       "      <td>...</td>\n",
       "      <td>83.0</td>\n",
       "      <td>14.938728</td>\n",
       "      <td>2.326590</td>\n",
       "      <td>19.198382</td>\n",
       "      <td>9.764162</td>\n",
       "      <td>23.989595</td>\n",
       "      <td>23.932948</td>\n",
       "      <td>24.187283</td>\n",
       "      <td>20.012717</td>\n",
       "      <td>22.174181</td>\n",
       "    </tr>\n",
       "    <tr>\n",
       "      <th>243812</th>\n",
       "      <th>Rodrygo</th>\n",
       "      <th>2021</th>\n",
       "      <td>19.0</td>\n",
       "      <td>19.0</td>\n",
       "      <td>https://cdn.sofifa.net/players/243/812/21_60.png</td>\n",
       "      <td>Brazil</td>\n",
       "      <td>https://cdn.sofifa.net/flags/br.png</td>\n",
       "      <td>79.0</td>\n",
       "      <td>90.0</td>\n",
       "      <td>Real Madrid</td>\n",
       "      <td>https://cdn.sofifa.net/meta/team/3468/30.png</td>\n",
       "      <td>€38M</td>\n",
       "      <td>...</td>\n",
       "      <td>83.2</td>\n",
       "      <td>14.938728</td>\n",
       "      <td>0.326590</td>\n",
       "      <td>20.598382</td>\n",
       "      <td>16.764162</td>\n",
       "      <td>26.989595</td>\n",
       "      <td>12.932948</td>\n",
       "      <td>26.187283</td>\n",
       "      <td>14.012717</td>\n",
       "      <td>26.840848</td>\n",
       "    </tr>\n",
       "  </tbody>\n",
       "</table>\n",
       "<p>5 rows × 74 columns</p>\n",
       "</div>"
      ],
      "text/plain": [
       "                               potential_age   Age  \\\n",
       "ID     Name              FIFA                        \n",
       "158023 L. Messi          2011           23.0  23.0   \n",
       "20801  Cristiano Ronaldo 2011           25.0  25.0   \n",
       "244778 Trincão           2021           20.0  20.0   \n",
       "183277 E. Hazard         2011           19.0  19.0   \n",
       "243812 Rodrygo           2021           19.0  19.0   \n",
       "\n",
       "                                                                          Photo  \\\n",
       "ID     Name              FIFA                                                     \n",
       "158023 L. Messi          2011  https://cdn.sofifa.net/players/158/023/11_60.png   \n",
       "20801  Cristiano Ronaldo 2011  https://cdn.sofifa.net/players/020/801/11_60.png   \n",
       "244778 Trincão           2021  https://cdn.sofifa.net/players/244/778/21_60.png   \n",
       "183277 E. Hazard         2011  https://cdn.sofifa.net/players/183/277/11_60.png   \n",
       "243812 Rodrygo           2021  https://cdn.sofifa.net/players/243/812/21_60.png   \n",
       "\n",
       "                              Nationality  \\\n",
       "ID     Name              FIFA               \n",
       "158023 L. Messi          2011   Argentina   \n",
       "20801  Cristiano Ronaldo 2011    Portugal   \n",
       "244778 Trincão           2021    Portugal   \n",
       "183277 E. Hazard         2011     Belgium   \n",
       "243812 Rodrygo           2021      Brazil   \n",
       "\n",
       "                                                              Flag  Overall  \\\n",
       "ID     Name              FIFA                                                 \n",
       "158023 L. Messi          2011  https://cdn.sofifa.net/flags/ar.png     90.0   \n",
       "20801  Cristiano Ronaldo 2011  https://cdn.sofifa.net/flags/pt.png     89.0   \n",
       "244778 Trincão           2021  https://cdn.sofifa.net/flags/pt.png     78.0   \n",
       "183277 E. Hazard         2011  https://cdn.sofifa.net/flags/be.png     81.0   \n",
       "243812 Rodrygo           2021  https://cdn.sofifa.net/flags/br.png     79.0   \n",
       "\n",
       "                               Potential          Club  \\\n",
       "ID     Name              FIFA                            \n",
       "158023 L. Messi          2011       95.0  FC Barcelona   \n",
       "20801  Cristiano Ronaldo 2011       94.0   Real Madrid   \n",
       "244778 Trincão           2021       91.0  FC Barcelona   \n",
       "183277 E. Hazard         2011       91.0    LOSC Lille   \n",
       "243812 Rodrygo           2021       90.0   Real Madrid   \n",
       "\n",
       "                                                                  Club Logo  \\\n",
       "ID     Name              FIFA                                                 \n",
       "158023 L. Messi          2011    https://cdn.sofifa.net/meta/team/83/30.png   \n",
       "20801  Cristiano Ronaldo 2011  https://cdn.sofifa.net/meta/team/3468/30.png   \n",
       "244778 Trincão           2021    https://cdn.sofifa.net/meta/team/83/30.png   \n",
       "183277 E. Hazard         2011   https://cdn.sofifa.net/meta/team/690/30.png   \n",
       "243812 Rodrygo           2021  https://cdn.sofifa.net/meta/team/3468/30.png   \n",
       "\n",
       "                              Value  ... ball_handling  age_based_Reactions  \\\n",
       "ID     Name              FIFA        ...                                      \n",
       "158023 L. Messi          2011    €0  ...          94.2            17.502664   \n",
       "20801  Cristiano Ronaldo 2011    €0  ...          92.2            13.717460   \n",
       "244778 Trincão           2021  €34M  ...          80.2            12.830986   \n",
       "183277 E. Hazard         2011    €0  ...          83.0            14.938728   \n",
       "243812 Rodrygo           2021  €38M  ...          83.2            14.938728   \n",
       "\n",
       "                              age_based_physique  \\\n",
       "ID     Name              FIFA                      \n",
       "158023 L. Messi          2011          -3.713144   \n",
       "20801  Cristiano Ronaldo 2011           9.719048   \n",
       "244778 Trincão           2021           8.190781   \n",
       "183277 E. Hazard         2011           2.326590   \n",
       "243812 Rodrygo           2021           0.326590   \n",
       "\n",
       "                               age_based_shooting_technique  \\\n",
       "ID     Name              FIFA                                 \n",
       "158023 L. Messi          2011                     29.699822   \n",
       "20801  Cristiano Ronaldo 2011                     32.160635   \n",
       "244778 Trincão           2021                     16.056082   \n",
       "183277 E. Hazard         2011                     19.198382   \n",
       "243812 Rodrygo           2021                     20.598382   \n",
       "\n",
       "                               age_based_Stamina  age_based_Positioning  \\\n",
       "ID     Name              FIFA                                             \n",
       "158023 L. Messi          2011           2.902309              31.346359   \n",
       "20801  Cristiano Ronaldo 2011          11.850794              28.977778   \n",
       "244778 Trincão           2021           9.382843              16.982074   \n",
       "183277 E. Hazard         2011           9.764162              23.989595   \n",
       "243812 Rodrygo           2021          16.764162              26.989595   \n",
       "\n",
       "                               age_based_Vision  age_based_Finishing  \\\n",
       "ID     Name              FIFA                                          \n",
       "158023 L. Messi          2011         27.808171            36.721137   \n",
       "20801  Cristiano Ronaldo 2011         15.171429            34.958730   \n",
       "244778 Trincão           2021         15.554417            20.797695   \n",
       "183277 E. Hazard         2011         23.932948            24.187283   \n",
       "243812 Rodrygo           2021         12.932948            26.187283   \n",
       "\n",
       "                               age_based_BallControl  age_based_shooting  \n",
       "ID     Name              FIFA                                             \n",
       "158023 L. Messi          2011              27.376554           33.410894  \n",
       "20801  Cristiano Ronaldo 2011              26.241270           33.225397  \n",
       "244778 Trincão           2021              15.592830           15.660265  \n",
       "183277 E. Hazard         2011              20.012717           22.174181  \n",
       "243812 Rodrygo           2021              14.012717           26.840848  \n",
       "\n",
       "[5 rows x 74 columns]"
      ]
     },
     "execution_count": 90,
     "metadata": {},
     "output_type": "execute_result"
    }
   ],
   "source": [
    "%load_ext autoreload\n",
    "%autoreload 2\n",
    "import pandas as pd\n",
    "import sqlite3\n",
    "DATABASE_PATH = \"data/sport_analytics/database/football.db\"\n",
    "# Step 1: Establish a database connection\n",
    "conn = sqlite3.connect(DATABASE_PATH)\n",
    "\n",
    "df_potentials = pd.read_sql_query(sql_potentials, conn)\n",
    "df_prime = pd.read_sql_query(sql_prime, conn)\n",
    "\n",
    "conn.close()\n",
    "\n",
    "df_potentials = df_potentials.set_index(['ID'])\n",
    "df_prime = df_prime.set_index(['ID'])\n",
    "\n",
    "df_raw = df_potentials.join(df_prime[[\"prime_age\",\"PrimeOverall\"]])\n",
    "df_raw = df_raw.reset_index(['ID'])\n",
    "df_raw = add_features_raw_datadf_raw(df_raw)\n",
    "\n",
    "df_raw.head()\n"
   ]
  },
  {
   "cell_type": "markdown",
   "metadata": {},
   "source": [
    "# "
   ]
  },
  {
   "cell_type": "code",
   "execution_count": null,
   "metadata": {},
   "outputs": [],
   "source": [
    "df = df_raw.copy()\n",
    "\n",
    "year_to_category = {2011: 'drop', 2012: 'train', 2013: 'train', 2014: 'train', 2015: 'train', 2016: 'train', 2017: 'train', 2018: 'train', 2019: 'train', 2020: 'test', 2021: 'test', 2022: 'valid', 2023: 'valid', 2024: 'valid'}\n",
    "df['set'] = df.index.get_level_values('FIFA').values\n",
    "# Apply the mapping to the \"FIFA\" column\n",
    "df['set'] = df['set'].map(year_to_category)\n",
    "\n",
    "df_potentials = df[(df.set==\"valid\")&(df.Age<26)&(df.Potential>=TARGET_OVERALL)]"
   ]
  },
  {
   "cell_type": "code",
   "execution_count": null,
   "metadata": {},
   "outputs": [
    {
     "name": "stdout",
     "output_type": "stream",
     "text": [
      "target\n",
      "75.0    29\n",
      "78.0    26\n",
      "77.0    23\n",
      "73.0    22\n",
      "74.0    19\n",
      "76.0    19\n",
      "72.0    14\n",
      "71.0    13\n",
      "81.0    13\n",
      "80.0    12\n",
      "70.0    12\n",
      "79.0    12\n",
      "68.0    12\n",
      "69.0    11\n",
      "84.0    11\n",
      "67.0    10\n",
      "83.0     9\n",
      "82.0     9\n",
      "64.0     8\n",
      "66.0     7\n",
      "88.0     4\n",
      "87.0     4\n",
      "89.0     3\n",
      "65.0     2\n",
      "86.0     2\n",
      "62.0     2\n",
      "63.0     2\n",
      "90.0     1\n",
      "61.0     1\n",
      "85.0     1\n",
      "92.0     1\n",
      "91.0     1\n",
      "57.0     1\n",
      "Name: count, dtype: int64\n"
     ]
    }
   ],
   "source": [
    "df = df[df.winger == 0]\n",
    "\n",
    "# Training nur auf High Potentials\n",
    "df = df[df.max_potential>TARGET_OVERALL]\n",
    "\n",
    "# nur Entwicklugnsfähige Spieler\n",
    "df = df[df.prime_age>df.potential_age]\n",
    "df = df[df.PrimeOverall>df.Overall]\n",
    "df['target'] = df.PrimeOverall\n",
    "df = df[df.potential_age<23]\n",
    "\n",
    "df = df[df.offense>0.5]\n",
    "print(df.target.value_counts())\n",
    "PREDICTION_NAME = \"Offense\"\n",
    "\n",
    "df_processed = df.copy()"
   ]
  },
  {
   "cell_type": "code",
   "execution_count": null,
   "metadata": {},
   "outputs": [
    {
     "data": {
      "text/html": [
       "<div>\n",
       "<style scoped>\n",
       "    .dataframe tbody tr th:only-of-type {\n",
       "        vertical-align: middle;\n",
       "    }\n",
       "\n",
       "    .dataframe tbody tr th {\n",
       "        vertical-align: top;\n",
       "    }\n",
       "\n",
       "    .dataframe thead th {\n",
       "        text-align: right;\n",
       "    }\n",
       "</style>\n",
       "<table border=\"1\" class=\"dataframe\">\n",
       "  <thead>\n",
       "    <tr style=\"text-align: right;\">\n",
       "      <th></th>\n",
       "      <th></th>\n",
       "      <th></th>\n",
       "      <th>potential_age</th>\n",
       "      <th>Age</th>\n",
       "      <th>prime_age</th>\n",
       "      <th>max_potential</th>\n",
       "      <th>Potential</th>\n",
       "      <th>Overall</th>\n",
       "      <th>PrimeOverall</th>\n",
       "      <th>target</th>\n",
       "      <th>set</th>\n",
       "      <th>best_position</th>\n",
       "    </tr>\n",
       "    <tr>\n",
       "      <th>ID</th>\n",
       "      <th>Name</th>\n",
       "      <th>FIFA</th>\n",
       "      <th></th>\n",
       "      <th></th>\n",
       "      <th></th>\n",
       "      <th></th>\n",
       "      <th></th>\n",
       "      <th></th>\n",
       "      <th></th>\n",
       "      <th></th>\n",
       "      <th></th>\n",
       "      <th></th>\n",
       "    </tr>\n",
       "  </thead>\n",
       "  <tbody>\n",
       "    <tr>\n",
       "      <th>186405</th>\n",
       "      <th>F. di Santo</th>\n",
       "      <th>2011</th>\n",
       "      <td>21.0</td>\n",
       "      <td>21.0</td>\n",
       "      <td>27.0</td>\n",
       "      <td>90.0</td>\n",
       "      <td>90.0</td>\n",
       "      <td>74.0</td>\n",
       "      <td>77.0</td>\n",
       "      <td>77.0</td>\n",
       "      <td>drop</td>\n",
       "      <td>ST</td>\n",
       "    </tr>\n",
       "    <tr>\n",
       "      <th>199266</th>\n",
       "      <th>Ji Dong Won</th>\n",
       "      <th>2011</th>\n",
       "      <td>19.0</td>\n",
       "      <td>19.0</td>\n",
       "      <td>22.0</td>\n",
       "      <td>89.0</td>\n",
       "      <td>89.0</td>\n",
       "      <td>66.0</td>\n",
       "      <td>72.0</td>\n",
       "      <td>72.0</td>\n",
       "      <td>drop</td>\n",
       "      <td>ST</td>\n",
       "    </tr>\n",
       "    <tr>\n",
       "      <th>253002</th>\n",
       "      <th>G. Raspadori</th>\n",
       "      <th>2022</th>\n",
       "      <td>21.0</td>\n",
       "      <td>21.0</td>\n",
       "      <td>22.0</td>\n",
       "      <td>88.0</td>\n",
       "      <td>88.0</td>\n",
       "      <td>74.0</td>\n",
       "      <td>79.0</td>\n",
       "      <td>79.0</td>\n",
       "      <td>valid</td>\n",
       "      <td>ST</td>\n",
       "    </tr>\n",
       "    <tr>\n",
       "      <th>240833</th>\n",
       "      <th>Y. Moukoko</th>\n",
       "      <th>2023</th>\n",
       "      <td>17.0</td>\n",
       "      <td>17.0</td>\n",
       "      <td>18.0</td>\n",
       "      <td>88.0</td>\n",
       "      <td>88.0</td>\n",
       "      <td>69.0</td>\n",
       "      <td>77.0</td>\n",
       "      <td>77.0</td>\n",
       "      <td>valid</td>\n",
       "      <td>ST</td>\n",
       "    </tr>\n",
       "    <tr>\n",
       "      <th>231677</th>\n",
       "      <th>M. Rashford</th>\n",
       "      <th>2017</th>\n",
       "      <td>18.0</td>\n",
       "      <td>18.0</td>\n",
       "      <td>24.0</td>\n",
       "      <td>88.0</td>\n",
       "      <td>88.0</td>\n",
       "      <td>76.0</td>\n",
       "      <td>81.0</td>\n",
       "      <td>81.0</td>\n",
       "      <td>train</td>\n",
       "      <td>ST</td>\n",
       "    </tr>\n",
       "  </tbody>\n",
       "</table>\n",
       "</div>"
      ],
      "text/plain": [
       "                          potential_age   Age  prime_age  max_potential  \\\n",
       "ID     Name         FIFA                                                  \n",
       "186405 F. di Santo  2011           21.0  21.0       27.0           90.0   \n",
       "199266 Ji Dong Won  2011           19.0  19.0       22.0           89.0   \n",
       "253002 G. Raspadori 2022           21.0  21.0       22.0           88.0   \n",
       "240833 Y. Moukoko   2023           17.0  17.0       18.0           88.0   \n",
       "231677 M. Rashford  2017           18.0  18.0       24.0           88.0   \n",
       "\n",
       "                          Potential  Overall  PrimeOverall  target    set  \\\n",
       "ID     Name         FIFA                                                    \n",
       "186405 F. di Santo  2011       90.0     74.0          77.0    77.0   drop   \n",
       "199266 Ji Dong Won  2011       89.0     66.0          72.0    72.0   drop   \n",
       "253002 G. Raspadori 2022       88.0     74.0          79.0    79.0  valid   \n",
       "240833 Y. Moukoko   2023       88.0     69.0          77.0    77.0  valid   \n",
       "231677 M. Rashford  2017       88.0     76.0          81.0    81.0  train   \n",
       "\n",
       "                         best_position  \n",
       "ID     Name         FIFA                \n",
       "186405 F. di Santo  2011            ST  \n",
       "199266 Ji Dong Won  2011            ST  \n",
       "253002 G. Raspadori 2022            ST  \n",
       "240833 Y. Moukoko   2023            ST  \n",
       "231677 M. Rashford  2017            ST  "
      ]
     },
     "execution_count": 93,
     "metadata": {},
     "output_type": "execute_result"
    }
   ],
   "source": [
    "df[[\"potential_age\",\"Age\",\"prime_age\",\"max_potential\",\"Potential\",\"Overall\",\"PrimeOverall\",\"target\",\"set\",\"best_position\"]].head()"
   ]
  },
  {
   "cell_type": "code",
   "execution_count": null,
   "metadata": {},
   "outputs": [],
   "source": [
    "# if True:\n",
    "#     df = df[[any(pos in i for pos in ['CF', 'LW', 'ST', 'RW']) for i in df['Position']]]\n",
    "#     df.shape\n",
    "# else:\n",
    "#     select_position = lambda x: x in [\"ST\",\"CF\",\"LW\",\"RW\"]\n",
    "#     df[\"select\"] = df['Position'].apply(select_position)\n",
    "#     df = df[df[\"select\"]]\n",
    "#     df.shape"
   ]
  },
  {
   "cell_type": "markdown",
   "metadata": {},
   "source": [
    "###  Feature Engineering"
   ]
  },
  {
   "cell_type": "code",
   "execution_count": null,
   "metadata": {},
   "outputs": [
    {
     "data": {
      "text/plain": [
       "Index(['Club', 'Marking', 'Composure', 'Defensive awareness', 'mental'], dtype='object')"
      ]
     },
     "execution_count": 95,
     "metadata": {},
     "output_type": "execute_result"
    }
   ],
   "source": [
    "df_processed.columns[df_processed.isna().sum()>0]"
   ]
  },
  {
   "cell_type": "markdown",
   "metadata": {},
   "source": [
    "#### Transform Value"
   ]
  },
  {
   "cell_type": "code",
   "execution_count": null,
   "metadata": {},
   "outputs": [],
   "source": [
    "df_processed = df_processed.fillna(0)\n",
    "df_potentials = df_potentials.fillna(0)"
   ]
  },
  {
   "cell_type": "code",
   "execution_count": null,
   "metadata": {},
   "outputs": [
    {
     "data": {
      "text/plain": [
       "<Axes: >"
      ]
     },
     "execution_count": 97,
     "metadata": {},
     "output_type": "execute_result"
    },
    {
     "data": {
      "image/png": "[encoded data removed]",
      "text/plain": [
       "<Figure size 640x480 with 1 Axes>"
      ]
     },
     "metadata": {},
     "output_type": "display_data"
    }
   ],
   "source": [
    "df['target'].hist()"
   ]
  },
  {
   "cell_type": "code",
   "execution_count": null,
   "metadata": {},
   "outputs": [],
   "source": [
    "X = df_processed.drop(\"target\", axis=1, errors='ignore')\n",
    "y = df['target']  # Use df_processed here instead of df\n",
    "# Split the data into training and testing sets"
   ]
  },
  {
   "cell_type": "code",
   "execution_count": null,
   "metadata": {},
   "outputs": [
    {
     "ename": "KeyError",
     "evalue": "\"['Dribblingage_based_Positioning'] not in index\"",
     "output_type": "error",
     "traceback": [
      "\u001b[1;31m---------------------------------------------------------------------------\u001b[0m",
      "\u001b[1;31mKeyError\u001b[0m                                  Traceback (most recent call last)",
      "\u001b[1;32mc:\\Users\\Robert\\Documents\\Projekte\\dev\\statsfaction\\scripts\\sport_analytics\\model\\model_offense_regression_center_forward.ipynb Cell 18\u001b[0m line \u001b[0;36m1\n\u001b[0;32m      <a href='vscode-notebook-cell:/c%3A/Users/Robert/Documents/Projekte/dev/statsfaction/scripts/sport_analytics/model/model_offense_regression_center_forward.ipynb#X23sZmlsZQ%3D%3D?line=6'>7</a>\u001b[0m     X_test \u001b[39m=\u001b[39m X_test[PLAYER_ATTRIBUTES]\n\u001b[0;32m      <a href='vscode-notebook-cell:/c%3A/Users/Robert/Documents/Projekte/dev/statsfaction/scripts/sport_analytics/model/model_offense_regression_center_forward.ipynb#X23sZmlsZQ%3D%3D?line=8'>9</a>\u001b[0m \u001b[39melse\u001b[39;00m:\n\u001b[1;32m---> <a href='vscode-notebook-cell:/c%3A/Users/Robert/Documents/Projekte/dev/statsfaction/scripts/sport_analytics/model/model_offense_regression_center_forward.ipynb#X23sZmlsZQ%3D%3D?line=10'>11</a>\u001b[0m     X_train \u001b[39m=\u001b[39m X[X\u001b[39m.\u001b[39;49mset\u001b[39m==\u001b[39;49m\u001b[39m\"\u001b[39;49m\u001b[39mtrain\u001b[39;49m\u001b[39m\"\u001b[39;49m][PLAYER_ATTRIBUTES]\n\u001b[0;32m     <a href='vscode-notebook-cell:/c%3A/Users/Robert/Documents/Projekte/dev/statsfaction/scripts/sport_analytics/model/model_offense_regression_center_forward.ipynb#X23sZmlsZQ%3D%3D?line=11'>12</a>\u001b[0m     y_train \u001b[39m=\u001b[39m y[X\u001b[39m.\u001b[39mset\u001b[39m==\u001b[39m\u001b[39m\"\u001b[39m\u001b[39mtrain\u001b[39m\u001b[39m\"\u001b[39m]\n\u001b[0;32m     <a href='vscode-notebook-cell:/c%3A/Users/Robert/Documents/Projekte/dev/statsfaction/scripts/sport_analytics/model/model_offense_regression_center_forward.ipynb#X23sZmlsZQ%3D%3D?line=13'>14</a>\u001b[0m     X_test \u001b[39m=\u001b[39m X[X\u001b[39m.\u001b[39mset\u001b[39m==\u001b[39m\u001b[39m\"\u001b[39m\u001b[39mtest\u001b[39m\u001b[39m\"\u001b[39m][PLAYER_ATTRIBUTES]\n",
      "File \u001b[1;32mc:\\Users\\Robert\\AppData\\Local\\Programs\\Python\\Python311\\Lib\\site-packages\\pandas\\core\\frame.py:3767\u001b[0m, in \u001b[0;36mDataFrame.__getitem__\u001b[1;34m(self, key)\u001b[0m\n\u001b[0;32m   3765\u001b[0m     \u001b[39mif\u001b[39;00m is_iterator(key):\n\u001b[0;32m   3766\u001b[0m         key \u001b[39m=\u001b[39m \u001b[39mlist\u001b[39m(key)\n\u001b[1;32m-> 3767\u001b[0m     indexer \u001b[39m=\u001b[39m \u001b[39mself\u001b[39;49m\u001b[39m.\u001b[39;49mcolumns\u001b[39m.\u001b[39;49m_get_indexer_strict(key, \u001b[39m\"\u001b[39;49m\u001b[39mcolumns\u001b[39;49m\u001b[39m\"\u001b[39;49m)[\u001b[39m1\u001b[39m]\n\u001b[0;32m   3769\u001b[0m \u001b[39m# take() does not accept boolean indexers\u001b[39;00m\n\u001b[0;32m   3770\u001b[0m \u001b[39mif\u001b[39;00m \u001b[39mgetattr\u001b[39m(indexer, \u001b[39m\"\u001b[39m\u001b[39mdtype\u001b[39m\u001b[39m\"\u001b[39m, \u001b[39mNone\u001b[39;00m) \u001b[39m==\u001b[39m \u001b[39mbool\u001b[39m:\n",
      "File \u001b[1;32mc:\\Users\\Robert\\AppData\\Local\\Programs\\Python\\Python311\\Lib\\site-packages\\pandas\\core\\indexes\\base.py:5877\u001b[0m, in \u001b[0;36mIndex._get_indexer_strict\u001b[1;34m(self, key, axis_name)\u001b[0m\n\u001b[0;32m   5874\u001b[0m \u001b[39melse\u001b[39;00m:\n\u001b[0;32m   5875\u001b[0m     keyarr, indexer, new_indexer \u001b[39m=\u001b[39m \u001b[39mself\u001b[39m\u001b[39m.\u001b[39m_reindex_non_unique(keyarr)\n\u001b[1;32m-> 5877\u001b[0m \u001b[39mself\u001b[39;49m\u001b[39m.\u001b[39;49m_raise_if_missing(keyarr, indexer, axis_name)\n\u001b[0;32m   5879\u001b[0m keyarr \u001b[39m=\u001b[39m \u001b[39mself\u001b[39m\u001b[39m.\u001b[39mtake(indexer)\n\u001b[0;32m   5880\u001b[0m \u001b[39mif\u001b[39;00m \u001b[39misinstance\u001b[39m(key, Index):\n\u001b[0;32m   5881\u001b[0m     \u001b[39m# GH 42790 - Preserve name from an Index\u001b[39;00m\n",
      "File \u001b[1;32mc:\\Users\\Robert\\AppData\\Local\\Programs\\Python\\Python311\\Lib\\site-packages\\pandas\\core\\indexes\\base.py:5941\u001b[0m, in \u001b[0;36mIndex._raise_if_missing\u001b[1;34m(self, key, indexer, axis_name)\u001b[0m\n\u001b[0;32m   5938\u001b[0m     \u001b[39mraise\u001b[39;00m \u001b[39mKeyError\u001b[39;00m(\u001b[39mf\u001b[39m\u001b[39m\"\u001b[39m\u001b[39mNone of [\u001b[39m\u001b[39m{\u001b[39;00mkey\u001b[39m}\u001b[39;00m\u001b[39m] are in the [\u001b[39m\u001b[39m{\u001b[39;00maxis_name\u001b[39m}\u001b[39;00m\u001b[39m]\u001b[39m\u001b[39m\"\u001b[39m)\n\u001b[0;32m   5940\u001b[0m not_found \u001b[39m=\u001b[39m \u001b[39mlist\u001b[39m(ensure_index(key)[missing_mask\u001b[39m.\u001b[39mnonzero()[\u001b[39m0\u001b[39m]]\u001b[39m.\u001b[39munique())\n\u001b[1;32m-> 5941\u001b[0m \u001b[39mraise\u001b[39;00m \u001b[39mKeyError\u001b[39;00m(\u001b[39mf\u001b[39m\u001b[39m\"\u001b[39m\u001b[39m{\u001b[39;00mnot_found\u001b[39m}\u001b[39;00m\u001b[39m not in index\u001b[39m\u001b[39m\"\u001b[39m)\n",
      "\u001b[1;31mKeyError\u001b[0m: \"['Dribblingage_based_Positioning'] not in index\""
     ]
    }
   ],
   "source": [
    "\n",
    "\n",
    "from sklearn.model_selection import train_test_split\n",
    "if False:\n",
    "    # Step 1: Split the data into training and testing sets\n",
    "    X_train, X_test, y_train, y_test = train_test_split(X, y, test_size=0.2, random_state=42)\n",
    "\n",
    "    X_train = X_train[PLAYER_ATTRIBUTES]\n",
    "    X_test = X_test[PLAYER_ATTRIBUTES]\n",
    "\n",
    "else:\n",
    "\n",
    "    X_train = X[X.set==\"train\"][PLAYER_ATTRIBUTES]\n",
    "    y_train = y[X.set==\"train\"]\n",
    "\n",
    "    X_test = X[X.set==\"test\"][PLAYER_ATTRIBUTES]\n",
    "    y_test = y[X.set==\"test\"]\n"
   ]
  },
  {
   "cell_type": "code",
   "execution_count": null,
   "metadata": {},
   "outputs": [
    {
     "data": {
      "text/plain": [
       "count    154.000000\n",
       "mean      75.876623\n",
       "std        5.575774\n",
       "min       57.000000\n",
       "25%       73.000000\n",
       "50%       76.000000\n",
       "75%       79.000000\n",
       "max       89.000000\n",
       "Name: target, dtype: float64"
      ]
     },
     "execution_count": 59,
     "metadata": {},
     "output_type": "execute_result"
    }
   ],
   "source": [
    "y_train.describe()"
   ]
  },
  {
   "cell_type": "code",
   "execution_count": null,
   "metadata": {},
   "outputs": [],
   "source": [
    "import warnings\n",
    "\n",
    "# Ignore all warnings\n",
    "warnings.filterwarnings(\"ignore\")\n",
    "# Load your dataset or replace df_processed and df with your data\n",
    "# df_processed = pd.read_csv('your_dataset.csv')\n",
    "\n",
    "import pandas as pd\n",
    "\n",
    "from sklearn.preprocessing import StandardScaler\n",
    "# Step 2: Initialize a StandardScaler\n",
    "scaler = StandardScaler()\n",
    "\n",
    "# Step 3: Fit the scaler on the training data and transform both training \n",
    "# and testing data\n",
    "X_train_scaled = scaler.fit_transform(X_train)\n",
    "X_test_scaled = scaler.transform(X_test)\n",
    "\n",
    "df_potentials_scaled = scaler.transform(df_potentials[PLAYER_ATTRIBUTES].fillna(0))\n",
    "\n",
    "# Step 4: Create new DataFrames with the scaled data while preserving the index and columns\n",
    "X_train_scaled_df = pd.DataFrame(X_train_scaled, index=X_train.index, columns=PLAYER_ATTRIBUTES)\n",
    "X_test_scaled_df = pd.DataFrame(X_test_scaled, index=X_test.index, columns=PLAYER_ATTRIBUTES)\n",
    "df_potentials_scaled_df = pd.DataFrame(df_potentials_scaled, index=df_potentials.index, columns=PLAYER_ATTRIBUTES)"
   ]
  },
  {
   "cell_type": "markdown",
   "metadata": {},
   "source": [
    "# Hyperparametertuning"
   ]
  },
  {
   "cell_type": "code",
   "execution_count": null,
   "metadata": {},
   "outputs": [],
   "source": [
    "import optuna\n",
    "from sklearn.ensemble import RandomForestRegressor\n",
    "from sklearn.metrics import mean_squared_error\n",
    "from sklearn.model_selection import cross_val_score\n",
    "\n",
    "if HYPERTRAINING:\n",
    "    def objective(trial):\n",
    "        # Define hyperparameters to optimize\n",
    "        params = {\n",
    "            'n_estimators': trial.suggest_int('n_estimators', 100, 500),\n",
    "            'max_depth': trial.suggest_int('max_depth', 1, 8),\n",
    "            'min_samples_split': trial.suggest_float('min_samples_split', 0.1, 1.0),\n",
    "            'min_samples_leaf': trial.suggest_float('min_samples_leaf', 0.1, 0.5),\n",
    "            'max_features': trial.suggest_float('max_features', 0.2, 1.0),\n",
    "            'random_state': 42\n",
    "        }\n",
    "\n",
    "        # Implement cross-validation\n",
    "        cv_scores = cross_val_score(RandomForestRegressor(**params), X_train_scaled_df, y_train, cv=CV, scoring=SCORING)\n",
    "        mean_mse = cv_scores.mean()  # Note the negative sign for mean_squared_error\n",
    "\n",
    "        return mean_mse\n",
    "\n",
    "    # Create an Optuna study for minimizing Mean Squared Error\n",
    "    study = optuna.create_study(direction=DIRECTION)\n",
    "    study.optimize(objective, n_trials=TRIALS)  # You can increase n_trials for more optimization\n",
    "\n",
    "    PARAMS_RF = study.best_params\n",
    "    best_mse = study.best_value  # Note the negative sign for mean_squared_error\n",
    "\n",
    "    print(\"Best hyperparameters:\", PARAMS_RF)\n",
    "    print(f\"Best Mean {SCORING}:\", best_mse)\n",
    "else:\n",
    "    PARAMS_RF = {}\n"
   ]
  },
  {
   "cell_type": "code",
   "execution_count": null,
   "metadata": {},
   "outputs": [],
   "source": [
    "import optuna\n",
    "from sklearn.ensemble import GradientBoostingRegressor\n",
    "from sklearn.metrics import mean_squared_error\n",
    "from sklearn.model_selection import cross_val_score, KFold\n",
    "\n",
    "if HYPERTRAINING:\n",
    "    def objective(trial):\n",
    "        # Define hyperparameters to optimize\n",
    "        params = {\n",
    "            'n_estimators': trial.suggest_int('n_estimators', 100, 500),\n",
    "            'max_depth': trial.suggest_int('max_depth', 1, 8),\n",
    "            'min_samples_split': trial.suggest_float('min_samples_split', 0.1, 1.0),\n",
    "            'min_samples_leaf': trial.suggest_float('min_samples_leaf', 0.1, 0.5),\n",
    "            'max_features': trial.suggest_float('max_features', 0.6, 1.0),\n",
    "            'random_state': 42\n",
    "        }\n",
    "\n",
    "        # Implement cross-validation\n",
    "        cv_scores = cross_val_score(GradientBoostingRegressor(**params), X_train_scaled_df, y_train, cv=CV, scoring=SCORING)\n",
    "        mean_mse = cv_scores.mean()  # Note the negative sign for mean_squared_error\n",
    "\n",
    "        return mean_mse\n",
    "\n",
    "    # Create an Optuna study for minimizing Mean Squared Error\n",
    "    study = optuna.create_study(direction=DIRECTION)\n",
    "    study.optimize(objective, n_trials=TRIALS)  # You can increase n_trials for more optimization\n",
    "\n",
    "    PARAMS_GB = study.best_params\n",
    "    best_mse = study.best_value  # Note the negative sign for mean_squared_error\n",
    "\n",
    "    print(\"Best hyperparameters:\", PARAMS_GB)\n",
    "    print(f\"Best Mean {SCORING}:\", best_mse)\n",
    "else:\n",
    "    PARAMS_GB = {}\n"
   ]
  },
  {
   "cell_type": "code",
   "execution_count": null,
   "metadata": {},
   "outputs": [],
   "source": [
    "import optuna\n",
    "from sklearn.linear_model import Ridge\n",
    "from sklearn.metrics import mean_squared_error\n",
    "from sklearn.model_selection import cross_val_score, KFold\n",
    "\n",
    "if HYPERTRAINING:\n",
    "    def objective(trial):\n",
    "        # Define hyperparameters to optimize\n",
    "        params = {\n",
    "            'alpha': trial.suggest_float('alpha', 0.01, 10.0),\n",
    "            'fit_intercept': trial.suggest_categorical('fit_intercept', [True, False]),\n",
    "        }\n",
    "\n",
    "        # Implement cross-validation\n",
    "        cv_scores = cross_val_score(Ridge(**params), X_train_scaled_df, y_train, cv=CV, scoring=SCORING)\n",
    "        mean_mse = cv_scores.mean()  # Note the negative sign for mean_squared_error\n",
    "\n",
    "        return mean_mse\n",
    "\n",
    "    # Create an Optuna study for minimizing Mean Squared Error\n",
    "    study = optuna.create_study(direction=DIRECTION)\n",
    "    study.optimize(objective, n_trials=TRIALS)  # You can increase n_trials for more optimization\n",
    "\n",
    "    PARAMS_RIDGE = study.best_params\n",
    "    best_mse = study.best_value  # Note the negative sign for mean_squared_error\n",
    "\n",
    "    print(\"Best hyperparameters:\", PARAMS_RIDGE)\n",
    "    print(f\"Best Mean {SCORING}:\", best_mse)\n",
    "else:\n",
    "    PARAMS_RIDGE = {}\n"
   ]
  },
  {
   "cell_type": "markdown",
   "metadata": {},
   "source": [
    "# TODOS\n",
    "- SHAP Values for Regression Models -> DONE\n",
    "- SCV and Logistic Regression -> nope\n",
    "- Hyperparameter Tuning -> nope\n",
    "- classification model einbauen -> DONE\n",
    "- Make Usable in Deployment  -> DONE\n",
    "- Finishing + FKAccuaracy -> Shooting\n",
    "- Blog umschreiben\n",
    "- Video machen :)"
   ]
  },
  {
   "cell_type": "code",
   "execution_count": null,
   "metadata": {},
   "outputs": [
    {
     "name": "stdout",
     "output_type": "stream",
     "text": [
      "Ridge Regression training----->\n"
     ]
    },
    {
     "data": {
      "image/png": "[encoded data removed]",
      "text/plain": [
       "<Figure size 1000x800 with 1 Axes>"
      ]
     },
     "metadata": {},
     "output_type": "display_data"
    },
    {
     "name": "stderr",
     "output_type": "stream",
     "text": [
      "100%|██████████| 30/30 [00:01<00:00, 17.39it/s]\n"
     ]
    },
    {
     "data": {
      "image/png": "[encoded data removed]",
      "text/plain": [
       "<Figure size 800x390 with 2 Axes>"
      ]
     },
     "metadata": {},
     "output_type": "display_data"
    },
    {
     "name": "stdout",
     "output_type": "stream",
     "text": [
      "              precision    recall  f1-score   support\n",
      "\n",
      "       False       0.94      0.94      0.94        54\n",
      "        True       0.40      0.40      0.40         5\n",
      "\n",
      "    accuracy                           0.90        59\n",
      "   macro avg       0.67      0.67      0.67        59\n",
      "weighted avg       0.90      0.90      0.90        59\n",
      "\n",
      "Huber Regression training----->\n"
     ]
    },
    {
     "data": {
      "image/png": "[encoded data removed]",
      "text/plain": [
       "<Figure size 1000x800 with 1 Axes>"
      ]
     },
     "metadata": {},
     "output_type": "display_data"
    },
    {
     "name": "stderr",
     "output_type": "stream",
     "text": [
      "100%|██████████| 30/30 [00:01<00:00, 24.63it/s]\n"
     ]
    },
    {
     "data": {
      "image/png": "[encoded data removed]",
      "text/plain": [
       "<Figure size 800x390 with 2 Axes>"
      ]
     },
     "metadata": {},
     "output_type": "display_data"
    },
    {
     "name": "stdout",
     "output_type": "stream",
     "text": [
      "              precision    recall  f1-score   support\n",
      "\n",
      "       False       0.95      0.96      0.95        54\n",
      "        True       0.50      0.40      0.44         5\n",
      "\n",
      "    accuracy                           0.92        59\n",
      "   macro avg       0.72      0.68      0.70        59\n",
      "weighted avg       0.91      0.92      0.91        59\n",
      "\n",
      "Linear Regression training----->\n"
     ]
    },
    {
     "data": {
      "image/png": "[encoded data removed]",
      "text/plain": [
       "<Figure size 1000x800 with 1 Axes>"
      ]
     },
     "metadata": {},
     "output_type": "display_data"
    },
    {
     "name": "stderr",
     "output_type": "stream",
     "text": [
      "100%|██████████| 30/30 [00:01<00:00, 20.04it/s]\n"
     ]
    },
    {
     "data": {
      "image/png": "[encoded data removed]",
      "text/plain": [
       "<Figure size 800x390 with 2 Axes>"
      ]
     },
     "metadata": {},
     "output_type": "display_data"
    },
    {
     "name": "stdout",
     "output_type": "stream",
     "text": [
      "              precision    recall  f1-score   support\n",
      "\n",
      "       False       0.94      0.94      0.94        54\n",
      "        True       0.40      0.40      0.40         5\n",
      "\n",
      "    accuracy                           0.90        59\n",
      "   macro avg       0.67      0.67      0.67        59\n",
      "weighted avg       0.90      0.90      0.90        59\n",
      "\n",
      "Model: Ridge Regression\n",
      "Mean Squared Error: 18.48\n",
      "Mean Absolute Error: 3.58\n",
      "R2 Score: 0.38\n",
      "\n",
      "Model: Huber Regression\n",
      "Mean Squared Error: 18.15\n",
      "Mean Absolute Error: 3.54\n",
      "R2 Score: 0.39\n",
      "\n",
      "Model: Linear Regression\n",
      "Mean Squared Error: 18.49\n",
      "Mean Absolute Error: 3.58\n",
      "R2 Score: 0.38\n",
      "\n"
     ]
    }
   ],
   "source": [
    "from sklearn.linear_model import LinearRegression,HuberRegressor\n",
    "from sklearn.tree import DecisionTreeRegressor\n",
    "from sklearn.ensemble import RandomForestRegressor\n",
    "from sklearn.svm import SVR\n",
    "import xgboost as xgb\n",
    "import lightgbm as lgb\n",
    "\n",
    "from src.sport_analytics.model.eval import plot_feature_importance, log_metrics_in_mlflow_regression,log_metrics_in_mlflow, log_feature_list_as_artifact, plot_shap_summary\n",
    "from src.sport_analytics.utils import *\n",
    "import mlflow\n",
    "import mlflow.sklearn\n",
    "import mlflow.xgboost\n",
    "import mlflow.lightgbm\n",
    "import pandas as pd\n",
    "from sklearn.metrics import mean_squared_error, mean_absolute_error, r2_score\n",
    "\n",
    "\n",
    "\n",
    "from sklearn.linear_model import Ridge, Lasso, ElasticNet\n",
    "from sklearn.svm import SVR\n",
    "from sklearn.neighbors import KNeighborsRegressor\n",
    "from sklearn.ensemble import GradientBoostingRegressor\n",
    "from sklearn.neural_network import MLPRegressor\n",
    "from sklearn.ensemble import AdaBoostRegressor\n",
    "\n",
    "regression_models = {\n",
    "    'Ridge Regression': Ridge(**PARAMS_RIDGE),\n",
    "    'Huber Regression':HuberRegressor(),\n",
    "    # 'AdaBoost Regressor': AdaBoostRegressor(random_state=42),\n",
    "\n",
    "    # 'Lasso Regression': Lasso(),\n",
    "    # 'ElasticNet Regression': ElasticNet(),\n",
    "    'Linear Regression': LinearRegression(),\n",
    "    # 'Random Forest Regressor': RandomForestRegressor(**PARAMS_RF,random_state=42),\n",
    "    # 'Gradient Boosting Regressor': GradientBoostingRegressor(**PARAMS_GB,random_state=42),\n",
    "    # 'XGBoost Regressor': xgb.XGBRegressor(random_state=42),\n",
    "    # 'LightGBM Regressor': lgb.LGBMRegressor(random_state=42)\n",
    "    # Add more models as needed\n",
    "}\n",
    "\n",
    "\n",
    "regression_results = {}\n",
    "import datetime\n",
    "# Set the experiment name\n",
    "mlflow.set_experiment(EXPERIEMENT_NAME)\n",
    "\n",
    "# Start MLflow run with a specific run name and description\n",
    "for model_name, model in regression_models.items():\n",
    "    from datetime import datetime\n",
    "\n",
    "    # Get the current timestamp\n",
    "    timestamp = datetime.now().strftime(\"%Y%m%d%H%M%S\")\n",
    "    with mlflow.start_run(run_name=f\"{model_name}_{timestamp}\"):\n",
    "\n",
    "        print(model_name, \"training----->\")\n",
    "\n",
    "        # Log parameters\n",
    "        mlflow.log_param(\"Model_Name\", model_name)\n",
    "        mlflow.log_params(model.get_params())\n",
    "        from sklearn.feature_selection import SelectFromModel\n",
    "        \n",
    "        # featres = X_train_scaled_df.columns\n",
    "        if AUTO_FEATURE_SELECT == 'AUTO':\n",
    "            sfm = SelectFromModel(model).fit(X_train_scaled_df, y_train)\n",
    "            features = X_train_scaled_df.columns[sfm.get_support()]\n",
    "        elif AUTO_FEATURE_SELECT in  ['backward','forward']:\n",
    "            from sklearn.feature_selection import SequentialFeatureSelector\n",
    "            sfm = SequentialFeatureSelector(\n",
    "                model, direction=AUTO_FEATURE_SELECT\n",
    "            ).fit(X_train_scaled_df, y_train)\n",
    "            features = X_train_scaled_df.columns[sfm.get_support()]\n",
    "        else:\n",
    "            features = X_train_scaled_df.columns\n",
    "        \n",
    "\n",
    "        model.fit(X_train_scaled_df[features], y_train)\n",
    "       \n",
    "        y_pred = model.predict(X_test_scaled_df[features])\n",
    "        \n",
    "        # Log Params\n",
    "        log_feature_list_as_artifact(PLAYER_ATTRIBUTES, filename=\"feature_list.txt\")\n",
    "\n",
    "        # Create a dictionary with parameters and their values\n",
    "        params_to_log = {\n",
    "            'HYPERTRAINING': HYPERTRAINING,\n",
    "            'CV': CV,\n",
    "            'SCORING': SCORING,\n",
    "            'features_anzahl': len(features),\n",
    "            # 'y_train_positives': y_train.sum(),\n",
    "            # 'y_train_negatives': (~y_train).sum(),\n",
    "            # 'y_test_positives': y_test.sum(),\n",
    "            # 'y_test_negatives': (~y_test).sum(),\n",
    "            'TARGET_OVERALL': TARGET_OVERALL\n",
    "        }\n",
    "\n",
    "        # Log parameters using log_params\n",
    "        mlflow.log_params(params_to_log)\n",
    "\n",
    "        # Log artifacts\n",
    "        mlflow.sklearn.log_model(model, model_name)\n",
    "\n",
    "        # Evaluation Metrics\n",
    "        log_metrics_in_mlflow_regression(y_test=y_test, y_pred=y_pred,X = X_test_scaled_df[features])\n",
    "        log_metrics_in_mlflow(y_test=y_test>TARGET_OVERALL,y_prob=None,y_pred=y_pred>TARGET_OVERALL)\n",
    "\n",
    "        # Evaluation Plots (Note: Regression models may not have ROC curves, so adapt this as needed)\n",
    "        plot_feature_importance(model, '', top_n=20)\n",
    "        plot_shap_summary(model=model,df=X_test_scaled_df[features],K = 30)\n",
    "\n",
    "        # Output for quick evaluation\n",
    "        mse = mean_squared_error(y_test, y_pred)\n",
    "        mae = mean_absolute_error(y_test, y_pred)\n",
    "        r2 = r2_score(y_test, y_pred)\n",
    "        \n",
    "        from sklearn.metrics import  classification_report\n",
    "        report = classification_report(y_test>TARGET_OVERALL, y_pred>TARGET_OVERALL)\n",
    "        print(report)\n",
    "\n",
    "     \n",
    "        regression_results[model_name] = {\n",
    "            'Model': model,\n",
    "            'Scaler': scaler,\n",
    "            'attributes': features,\n",
    "            'Classification Report': report,\n",
    "            'Mean Squared Error': mse,\n",
    "            'Mean Absolute Error': mae,\n",
    "            'R2 Score': r2\n",
    "        }\n",
    "\n",
    "# Evaluate and print results for each model\n",
    "for model_name, results in regression_results.items():\n",
    "    print(f\"Model: {model_name}\")\n",
    "    print(f\"Mean Squared Error: {results['Mean Squared Error']:.2f}\")\n",
    "    print(f\"Mean Absolute Error: {results['Mean Absolute Error']:.2f}\")\n",
    "    print(f\"R2 Score: {results['R2 Score']:.2f}\")\n",
    "    print()\n",
    "\n",
    "\n"
   ]
  },
  {
   "cell_type": "code",
   "execution_count": null,
   "metadata": {},
   "outputs": [],
   "source": [
    "from src.sport_analytics.model.utils import *\n",
    "if SAVE_MODEL_NAME!=\"\":\n",
    "    save_dict_as_pickle(data_dict = regression_results, file_path=f\"{CONFIG.TRAINED_MODELS}/{SAVE_MODEL_NAME}.pkl\")"
   ]
  },
  {
   "cell_type": "markdown",
   "metadata": {},
   "source": [
    "# evaluate Model"
   ]
  },
  {
   "cell_type": "code",
   "execution_count": null,
   "metadata": {},
   "outputs": [
    {
     "data": {
      "text/html": [
       "<div>\n",
       "<style scoped>\n",
       "    .dataframe tbody tr th:only-of-type {\n",
       "        vertical-align: middle;\n",
       "    }\n",
       "\n",
       "    .dataframe tbody tr th {\n",
       "        vertical-align: top;\n",
       "    }\n",
       "\n",
       "    .dataframe thead th {\n",
       "        text-align: right;\n",
       "    }\n",
       "</style>\n",
       "<table border=\"1\" class=\"dataframe\">\n",
       "  <thead>\n",
       "    <tr style=\"text-align: right;\">\n",
       "      <th></th>\n",
       "      <th>mental</th>\n",
       "      <th>physique</th>\n",
       "      <th>Speed</th>\n",
       "      <th>ball_handling</th>\n",
       "      <th>age_based_Reactions</th>\n",
       "      <th>Stamina</th>\n",
       "      <th>age_based_physique</th>\n",
       "      <th>age_based_shooting_technique</th>\n",
       "      <th>age_based_Positioning</th>\n",
       "      <th>age_based_Vision</th>\n",
       "      <th>age_based_BallControl</th>\n",
       "    </tr>\n",
       "  </thead>\n",
       "  <tbody>\n",
       "    <tr>\n",
       "      <th>count</th>\n",
       "      <td>154.000000</td>\n",
       "      <td>154.000000</td>\n",
       "      <td>154.000000</td>\n",
       "      <td>154.000000</td>\n",
       "      <td>154.000000</td>\n",
       "      <td>154.000000</td>\n",
       "      <td>154.000000</td>\n",
       "      <td>154.000000</td>\n",
       "      <td>154.000000</td>\n",
       "      <td>154.000000</td>\n",
       "      <td>154.000000</td>\n",
       "    </tr>\n",
       "    <tr>\n",
       "      <th>mean</th>\n",
       "      <td>30.379870</td>\n",
       "      <td>64.522727</td>\n",
       "      <td>77.808442</td>\n",
       "      <td>70.284416</td>\n",
       "      <td>2.009901</td>\n",
       "      <td>64.746753</td>\n",
       "      <td>1.918175</td>\n",
       "      <td>10.523632</td>\n",
       "      <td>13.007868</td>\n",
       "      <td>0.635893</td>\n",
       "      <td>4.288347</td>\n",
       "    </tr>\n",
       "    <tr>\n",
       "      <th>std</th>\n",
       "      <td>31.157048</td>\n",
       "      <td>8.585659</td>\n",
       "      <td>7.670970</td>\n",
       "      <td>6.571588</td>\n",
       "      <td>6.600657</td>\n",
       "      <td>10.275653</td>\n",
       "      <td>7.880141</td>\n",
       "      <td>5.697822</td>\n",
       "      <td>6.565193</td>\n",
       "      <td>8.625203</td>\n",
       "      <td>5.730430</td>\n",
       "    </tr>\n",
       "    <tr>\n",
       "      <th>min</th>\n",
       "      <td>0.000000</td>\n",
       "      <td>37.500000</td>\n",
       "      <td>53.000000</td>\n",
       "      <td>50.600000</td>\n",
       "      <td>-14.367030</td>\n",
       "      <td>31.000000</td>\n",
       "      <td>-21.720062</td>\n",
       "      <td>-4.801618</td>\n",
       "      <td>-1.062315</td>\n",
       "      <td>-25.445583</td>\n",
       "      <td>-10.987283</td>\n",
       "    </tr>\n",
       "    <tr>\n",
       "      <th>25%</th>\n",
       "      <td>0.000000</td>\n",
       "      <td>58.625000</td>\n",
       "      <td>73.500000</td>\n",
       "      <td>66.200000</td>\n",
       "      <td>-1.630333</td>\n",
       "      <td>59.000000</td>\n",
       "      <td>-2.653446</td>\n",
       "      <td>6.732676</td>\n",
       "      <td>7.983955</td>\n",
       "      <td>-4.350950</td>\n",
       "      <td>1.012717</td>\n",
       "    </tr>\n",
       "    <tr>\n",
       "      <th>50%</th>\n",
       "      <td>0.000000</td>\n",
       "      <td>64.500000</td>\n",
       "      <td>78.000000</td>\n",
       "      <td>70.500000</td>\n",
       "      <td>1.830986</td>\n",
       "      <td>65.500000</td>\n",
       "      <td>2.593192</td>\n",
       "      <td>10.198382</td>\n",
       "      <td>13.629860</td>\n",
       "      <td>0.565617</td>\n",
       "      <td>4.164564</td>\n",
       "    </tr>\n",
       "    <tr>\n",
       "      <th>75%</th>\n",
       "      <td>61.000000</td>\n",
       "      <td>70.500000</td>\n",
       "      <td>83.000000</td>\n",
       "      <td>74.400000</td>\n",
       "      <td>5.830986</td>\n",
       "      <td>70.750000</td>\n",
       "      <td>7.213816</td>\n",
       "      <td>13.970251</td>\n",
       "      <td>16.987715</td>\n",
       "      <td>5.841115</td>\n",
       "      <td>7.907745</td>\n",
       "    </tr>\n",
       "    <tr>\n",
       "      <th>max</th>\n",
       "      <td>73.500000</td>\n",
       "      <td>84.000000</td>\n",
       "      <td>92.000000</td>\n",
       "      <td>87.200000</td>\n",
       "      <td>18.938728</td>\n",
       "      <td>91.000000</td>\n",
       "      <td>26.293769</td>\n",
       "      <td>26.289937</td>\n",
       "      <td>28.937685</td>\n",
       "      <td>20.565617</td>\n",
       "      <td>18.589239</td>\n",
       "    </tr>\n",
       "  </tbody>\n",
       "</table>\n",
       "</div>"
      ],
      "text/plain": [
       "           mental    physique       Speed  ball_handling  age_based_Reactions  \\\n",
       "count  154.000000  154.000000  154.000000     154.000000           154.000000   \n",
       "mean    30.379870   64.522727   77.808442      70.284416             2.009901   \n",
       "std     31.157048    8.585659    7.670970       6.571588             6.600657   \n",
       "min      0.000000   37.500000   53.000000      50.600000           -14.367030   \n",
       "25%      0.000000   58.625000   73.500000      66.200000            -1.630333   \n",
       "50%      0.000000   64.500000   78.000000      70.500000             1.830986   \n",
       "75%     61.000000   70.500000   83.000000      74.400000             5.830986   \n",
       "max     73.500000   84.000000   92.000000      87.200000            18.938728   \n",
       "\n",
       "          Stamina  age_based_physique  age_based_shooting_technique  \\\n",
       "count  154.000000          154.000000                    154.000000   \n",
       "mean    64.746753            1.918175                     10.523632   \n",
       "std     10.275653            7.880141                      5.697822   \n",
       "min     31.000000          -21.720062                     -4.801618   \n",
       "25%     59.000000           -2.653446                      6.732676   \n",
       "50%     65.500000            2.593192                     10.198382   \n",
       "75%     70.750000            7.213816                     13.970251   \n",
       "max     91.000000           26.293769                     26.289937   \n",
       "\n",
       "       age_based_Positioning  age_based_Vision  age_based_BallControl  \n",
       "count             154.000000        154.000000             154.000000  \n",
       "mean               13.007868          0.635893               4.288347  \n",
       "std                 6.565193          8.625203               5.730430  \n",
       "min                -1.062315        -25.445583             -10.987283  \n",
       "25%                 7.983955         -4.350950               1.012717  \n",
       "50%                13.629860          0.565617               4.164564  \n",
       "75%                16.987715          5.841115               7.907745  \n",
       "max                28.937685         20.565617              18.589239  "
      ]
     },
     "execution_count": 66,
     "metadata": {},
     "output_type": "execute_result"
    }
   ],
   "source": [
    "X_train.describe()"
   ]
  },
  {
   "cell_type": "code",
   "execution_count": null,
   "metadata": {},
   "outputs": [
    {
     "data": {
      "text/plain": [
       "count    59.000000\n",
       "mean     73.338983\n",
       "std       5.504262\n",
       "min      63.000000\n",
       "25%      69.000000\n",
       "50%      73.000000\n",
       "75%      76.500000\n",
       "max      91.000000\n",
       "Name: target, dtype: float64"
      ]
     },
     "execution_count": 67,
     "metadata": {},
     "output_type": "execute_result"
    }
   ],
   "source": [
    "y_test.describe()"
   ]
  },
  {
   "cell_type": "code",
   "execution_count": null,
   "metadata": {},
   "outputs": [],
   "source": [
    "my_model = regression_results['Huber Regression']['Model']\n",
    "my_features = regression_results['Huber Regression']['attributes']\n"
   ]
  },
  {
   "cell_type": "code",
   "execution_count": null,
   "metadata": {},
   "outputs": [
    {
     "data": {
      "text/plain": [
       "59"
      ]
     },
     "execution_count": 69,
     "metadata": {},
     "output_type": "execute_result"
    }
   ],
   "source": [
    "result_df = pd.Series(my_model.predict(X_test_scaled_df[my_features]),index=X_test_scaled_df.index)\n",
    "len(result_df)"
   ]
  },
  {
   "cell_type": "code",
   "execution_count": null,
   "metadata": {},
   "outputs": [
    {
     "data": {
      "text/plain": [
       "<Axes: >"
      ]
     },
     "execution_count": 70,
     "metadata": {},
     "output_type": "execute_result"
    },
    {
     "data": {
      "image/png": "[encoded data removed]",
      "text/plain": [
       "<Figure size 640x480 with 1 Axes>"
      ]
     },
     "metadata": {},
     "output_type": "display_data"
    }
   ],
   "source": [
    "(y_test-result_df).sort_values(ascending=False).hist()"
   ]
  },
  {
   "cell_type": "code",
   "execution_count": null,
   "metadata": {},
   "outputs": [
    {
     "data": {
      "text/plain": [
       "<Axes: >"
      ]
     },
     "execution_count": 71,
     "metadata": {},
     "output_type": "execute_result"
    },
    {
     "data": {
      "image/png": "[encoded data removed]",
      "text/plain": [
       "<Figure size 640x480 with 1 Axes>"
      ]
     },
     "metadata": {},
     "output_type": "display_data"
    }
   ],
   "source": [
    "result_df.sort_values(ascending=False).hist()"
   ]
  },
  {
   "cell_type": "code",
   "execution_count": null,
   "metadata": {},
   "outputs": [
    {
     "data": {
      "text/plain": [
       "count    59.000000\n",
       "mean     -1.441295\n",
       "std       4.043621\n",
       "min      -7.731055\n",
       "25%      -4.377148\n",
       "50%      -2.009171\n",
       "75%       1.057699\n",
       "max       8.437208\n",
       "dtype: float64"
      ]
     },
     "execution_count": 72,
     "metadata": {},
     "output_type": "execute_result"
    }
   ],
   "source": [
    "(y_test-result_df).describe()"
   ]
  },
  {
   "cell_type": "code",
   "execution_count": null,
   "metadata": {},
   "outputs": [
    {
     "data": {
      "text/html": [
       "<div>\n",
       "<style scoped>\n",
       "    .dataframe tbody tr th:only-of-type {\n",
       "        vertical-align: middle;\n",
       "    }\n",
       "\n",
       "    .dataframe tbody tr th {\n",
       "        vertical-align: top;\n",
       "    }\n",
       "\n",
       "    .dataframe thead th {\n",
       "        text-align: right;\n",
       "    }\n",
       "</style>\n",
       "<table border=\"1\" class=\"dataframe\">\n",
       "  <thead>\n",
       "    <tr style=\"text-align: right;\">\n",
       "      <th></th>\n",
       "      <th></th>\n",
       "      <th></th>\n",
       "      <th>mental</th>\n",
       "      <th>physique</th>\n",
       "      <th>Speed</th>\n",
       "      <th>ball_handling</th>\n",
       "      <th>age_based_Reactions</th>\n",
       "      <th>Stamina</th>\n",
       "      <th>age_based_physique</th>\n",
       "      <th>age_based_shooting_technique</th>\n",
       "      <th>age_based_Positioning</th>\n",
       "      <th>age_based_Vision</th>\n",
       "      <th>age_based_BallControl</th>\n",
       "    </tr>\n",
       "    <tr>\n",
       "      <th>ID</th>\n",
       "      <th>Name</th>\n",
       "      <th>FIFA</th>\n",
       "      <th></th>\n",
       "      <th></th>\n",
       "      <th></th>\n",
       "      <th></th>\n",
       "      <th></th>\n",
       "      <th></th>\n",
       "      <th></th>\n",
       "      <th></th>\n",
       "      <th></th>\n",
       "      <th></th>\n",
       "      <th></th>\n",
       "    </tr>\n",
       "  </thead>\n",
       "  <tbody>\n",
       "    <tr>\n",
       "      <th>251852</th>\n",
       "      <th>K. Adeyemi</th>\n",
       "      <th>2021</th>\n",
       "      <td>68.0</td>\n",
       "      <td>57.0</td>\n",
       "      <td>88.5</td>\n",
       "      <td>76.8</td>\n",
       "      <td>3.632970</td>\n",
       "      <td>58.0</td>\n",
       "      <td>-2.220062</td>\n",
       "      <td>17.116330</td>\n",
       "      <td>10.629860</td>\n",
       "      <td>11.164852</td>\n",
       "      <td>10.059098</td>\n",
       "    </tr>\n",
       "    <tr>\n",
       "      <th>241721</th>\n",
       "      <th>Rafael Leão</th>\n",
       "      <th>2020</th>\n",
       "      <td>69.5</td>\n",
       "      <td>73.5</td>\n",
       "      <td>87.0</td>\n",
       "      <td>72.2</td>\n",
       "      <td>6.830986</td>\n",
       "      <td>70.0</td>\n",
       "      <td>7.690781</td>\n",
       "      <td>15.056082</td>\n",
       "      <td>20.982074</td>\n",
       "      <td>9.554417</td>\n",
       "      <td>7.592830</td>\n",
       "    </tr>\n",
       "    <tr>\n",
       "      <th>246191</th>\n",
       "      <th>J. Álvarez</th>\n",
       "      <th>2020</th>\n",
       "      <td>61.5</td>\n",
       "      <td>51.5</td>\n",
       "      <td>75.0</td>\n",
       "      <td>73.8</td>\n",
       "      <td>2.938728</td>\n",
       "      <td>63.0</td>\n",
       "      <td>-11.173410</td>\n",
       "      <td>14.598382</td>\n",
       "      <td>8.989595</td>\n",
       "      <td>1.932948</td>\n",
       "      <td>6.012717</td>\n",
       "    </tr>\n",
       "    <tr>\n",
       "      <th>239085</th>\n",
       "      <th>E. Håland</th>\n",
       "      <th>2020</th>\n",
       "      <td>75.0</td>\n",
       "      <td>78.5</td>\n",
       "      <td>81.0</td>\n",
       "      <td>70.2</td>\n",
       "      <td>12.632970</td>\n",
       "      <td>73.0</td>\n",
       "      <td>19.279938</td>\n",
       "      <td>16.916330</td>\n",
       "      <td>20.629860</td>\n",
       "      <td>2.164852</td>\n",
       "      <td>11.059098</td>\n",
       "    </tr>\n",
       "    <tr>\n",
       "      <th>253072</th>\n",
       "      <th>D. Núñez</th>\n",
       "      <th>2021</th>\n",
       "      <td>67.0</td>\n",
       "      <td>68.0</td>\n",
       "      <td>80.5</td>\n",
       "      <td>67.4</td>\n",
       "      <td>-1.325459</td>\n",
       "      <td>57.0</td>\n",
       "      <td>0.316273</td>\n",
       "      <td>15.460892</td>\n",
       "      <td>11.727034</td>\n",
       "      <td>-13.434383</td>\n",
       "      <td>1.589239</td>\n",
       "    </tr>\n",
       "    <tr>\n",
       "      <th>256853</th>\n",
       "      <th>M. Tillman</th>\n",
       "      <th>2021</th>\n",
       "      <td>56.0</td>\n",
       "      <td>60.5</td>\n",
       "      <td>66.0</td>\n",
       "      <td>61.0</td>\n",
       "      <td>-5.367030</td>\n",
       "      <td>62.0</td>\n",
       "      <td>1.279938</td>\n",
       "      <td>5.916330</td>\n",
       "      <td>4.629860</td>\n",
       "      <td>-1.835148</td>\n",
       "      <td>-0.940902</td>\n",
       "    </tr>\n",
       "    <tr>\n",
       "      <th>246430</th>\n",
       "      <th>D. Vlahović</th>\n",
       "      <th>2021</th>\n",
       "      <td>65.0</td>\n",
       "      <td>62.0</td>\n",
       "      <td>61.5</td>\n",
       "      <td>63.4</td>\n",
       "      <td>1.830986</td>\n",
       "      <td>56.0</td>\n",
       "      <td>-3.809219</td>\n",
       "      <td>11.656082</td>\n",
       "      <td>16.982074</td>\n",
       "      <td>-5.445583</td>\n",
       "      <td>4.592830</td>\n",
       "    </tr>\n",
       "    <tr>\n",
       "      <th>238616</th>\n",
       "      <th>Pedro Neto</th>\n",
       "      <th>2020</th>\n",
       "      <td>60.0</td>\n",
       "      <td>44.5</td>\n",
       "      <td>78.5</td>\n",
       "      <td>75.6</td>\n",
       "      <td>1.938728</td>\n",
       "      <td>49.0</td>\n",
       "      <td>-18.173410</td>\n",
       "      <td>4.798382</td>\n",
       "      <td>7.989595</td>\n",
       "      <td>-2.067052</td>\n",
       "      <td>5.012717</td>\n",
       "    </tr>\n",
       "  </tbody>\n",
       "</table>\n",
       "</div>"
      ],
      "text/plain": [
       "                         mental  physique  Speed  ball_handling  \\\n",
       "ID     Name        FIFA                                           \n",
       "251852 K. Adeyemi  2021    68.0      57.0   88.5           76.8   \n",
       "241721 Rafael Leão 2020    69.5      73.5   87.0           72.2   \n",
       "246191 J. Álvarez  2020    61.5      51.5   75.0           73.8   \n",
       "239085 E. Håland   2020    75.0      78.5   81.0           70.2   \n",
       "253072 D. Núñez    2021    67.0      68.0   80.5           67.4   \n",
       "256853 M. Tillman  2021    56.0      60.5   66.0           61.0   \n",
       "246430 D. Vlahović 2021    65.0      62.0   61.5           63.4   \n",
       "238616 Pedro Neto  2020    60.0      44.5   78.5           75.6   \n",
       "\n",
       "                         age_based_Reactions  Stamina  age_based_physique  \\\n",
       "ID     Name        FIFA                                                     \n",
       "251852 K. Adeyemi  2021             3.632970     58.0           -2.220062   \n",
       "241721 Rafael Leão 2020             6.830986     70.0            7.690781   \n",
       "246191 J. Álvarez  2020             2.938728     63.0          -11.173410   \n",
       "239085 E. Håland   2020            12.632970     73.0           19.279938   \n",
       "253072 D. Núñez    2021            -1.325459     57.0            0.316273   \n",
       "256853 M. Tillman  2021            -5.367030     62.0            1.279938   \n",
       "246430 D. Vlahović 2021             1.830986     56.0           -3.809219   \n",
       "238616 Pedro Neto  2020             1.938728     49.0          -18.173410   \n",
       "\n",
       "                         age_based_shooting_technique  age_based_Positioning  \\\n",
       "ID     Name        FIFA                                                        \n",
       "251852 K. Adeyemi  2021                     17.116330              10.629860   \n",
       "241721 Rafael Leão 2020                     15.056082              20.982074   \n",
       "246191 J. Álvarez  2020                     14.598382               8.989595   \n",
       "239085 E. Håland   2020                     16.916330              20.629860   \n",
       "253072 D. Núñez    2021                     15.460892              11.727034   \n",
       "256853 M. Tillman  2021                      5.916330               4.629860   \n",
       "246430 D. Vlahović 2021                     11.656082              16.982074   \n",
       "238616 Pedro Neto  2020                      4.798382               7.989595   \n",
       "\n",
       "                         age_based_Vision  age_based_BallControl  \n",
       "ID     Name        FIFA                                           \n",
       "251852 K. Adeyemi  2021         11.164852              10.059098  \n",
       "241721 Rafael Leão 2020          9.554417               7.592830  \n",
       "246191 J. Álvarez  2020          1.932948               6.012717  \n",
       "239085 E. Håland   2020          2.164852              11.059098  \n",
       "253072 D. Núñez    2021        -13.434383               1.589239  \n",
       "256853 M. Tillman  2021         -1.835148              -0.940902  \n",
       "246430 D. Vlahović 2021         -5.445583               4.592830  \n",
       "238616 Pedro Neto  2020         -2.067052               5.012717  "
      ]
     },
     "execution_count": 73,
     "metadata": {},
     "output_type": "execute_result"
    }
   ],
   "source": [
    "outlier = (y_test-result_df)>3\n",
    "X_test[outlier]\n"
   ]
  },
  {
   "cell_type": "code",
   "execution_count": null,
   "metadata": {},
   "outputs": [
    {
     "data": {
      "text/plain": [
       "ID      Name         FIFA\n",
       "251852  K. Adeyemi   2021    80.0\n",
       "241721  Rafael Leão  2020    86.0\n",
       "246191  J. Álvarez   2020    80.0\n",
       "239085  E. Håland    2020    91.0\n",
       "253072  D. Núñez     2021    82.0\n",
       "256853  M. Tillman   2021    74.0\n",
       "246430  D. Vlahović  2021    84.0\n",
       "238616  Pedro Neto   2020    78.0\n",
       "Name: target, dtype: float64"
      ]
     },
     "execution_count": 74,
     "metadata": {},
     "output_type": "execute_result"
    }
   ],
   "source": [
    "y_test[outlier]"
   ]
  },
  {
   "cell_type": "code",
   "execution_count": null,
   "metadata": {},
   "outputs": [
    {
     "data": {
      "text/plain": [
       "ID      Name         FIFA\n",
       "251852  K. Adeyemi   2021    76.445616\n",
       "241721  Rafael Leão  2020    81.384194\n",
       "246191  J. Álvarez   2020    71.976877\n",
       "239085  E. Håland    2020    83.341667\n",
       "253072  D. Núñez     2021    76.089102\n",
       "256853  M. Tillman   2021    69.374919\n",
       "246430  D. Vlahović  2021    75.562792\n",
       "238616  Pedro Neto   2020    71.742924\n",
       "dtype: float64"
      ]
     },
     "execution_count": 75,
     "metadata": {},
     "output_type": "execute_result"
    }
   ],
   "source": [
    "result_df[outlier]"
   ]
  },
  {
   "cell_type": "code",
   "execution_count": null,
   "metadata": {},
   "outputs": [
    {
     "data": {
      "text/plain": [
       "count    59.000000\n",
       "mean      0.980492\n",
       "std       0.053835\n",
       "min       0.890698\n",
       "25%       0.941212\n",
       "50%       0.973910\n",
       "75%       1.013592\n",
       "max       1.111658\n",
       "dtype: float64"
      ]
     },
     "execution_count": 76,
     "metadata": {},
     "output_type": "execute_result"
    }
   ],
   "source": [
    "(y_test/result_df).describe()"
   ]
  },
  {
   "cell_type": "code",
   "execution_count": null,
   "metadata": {},
   "outputs": [
    {
     "data": {
      "text/plain": [
       "count    59.000000\n",
       "mean      0.980492\n",
       "std       0.053835\n",
       "min       0.890698\n",
       "25%       0.941212\n",
       "50%       0.973910\n",
       "75%       1.013592\n",
       "max       1.111658\n",
       "dtype: float64"
      ]
     },
     "execution_count": 77,
     "metadata": {},
     "output_type": "execute_result"
    }
   ],
   "source": [
    "(y_test/result_df).describe()"
   ]
  },
  {
   "cell_type": "code",
   "execution_count": null,
   "metadata": {},
   "outputs": [
    {
     "data": {
      "text/plain": [
       "array([[1.        , 0.68187341],\n",
       "       [0.68187341, 1.        ]])"
      ]
     },
     "execution_count": 78,
     "metadata": {},
     "output_type": "execute_result"
    }
   ],
   "source": [
    "np.corrcoef(y_test,result_df)"
   ]
  },
  {
   "cell_type": "code",
   "execution_count": null,
   "metadata": {},
   "outputs": [
    {
     "data": {
      "image/png": "[encoded data removed]",
      "text/plain": [
       "<Figure size 640x480 with 1 Axes>"
      ]
     },
     "metadata": {},
     "output_type": "display_data"
    }
   ],
   "source": [
    "import matplotlib.pyplot as plt\n",
    "plt.scatter(y_test, result_df, color='blue', alpha=0.5)\n",
    "plt.plot([min(y_test), max(y_test)], [min(y_test), max(y_test)], color='red', linestyle='--', label='Diagonal line')\n",
    "\n",
    "plt.title('Scatter Plot of y_test vs result_df')\n",
    "plt.xlabel('y_test')\n",
    "plt.ylabel('result_df')\n",
    "plt.show()"
   ]
  },
  {
   "cell_type": "code",
   "execution_count": null,
   "metadata": {},
   "outputs": [],
   "source": [
    "result_df = result_df.sort_values(ascending=False)"
   ]
  },
  {
   "cell_type": "code",
   "execution_count": null,
   "metadata": {},
   "outputs": [
    {
     "data": {
      "text/plain": [
       "ID      Name              FIFA\n",
       "239085  E. Håland         2020    83.341667\n",
       "241721  Rafael Leão       2020    81.384194\n",
       "221479  D. Calvert-Lewin  2020    81.292451\n",
       "245158  L. Suárez         2021    80.659606\n",
       "252037  Fábio Silva       2020    79.792171\n",
       "252042  João Pedro        2021    79.228684\n",
       "235866  C. Kouamé         2020    79.165314\n",
       "231447  D. Malen          2020    79.046171\n",
       "246186  Arthur Cabral     2021    78.663597\n",
       "243630  J. David          2020    78.512772\n",
       "245396  V. Supryaga       2021    78.064153\n",
       "241522  J. Wind           2021    77.671692\n",
       "251105  D. Joveljić       2020    77.473306\n",
       "246762  S. Koita          2021    77.056864\n",
       "245940  S. Wamangituka    2020    77.009171\n",
       "246147  M. Greenwood      2020    76.838430\n",
       "251756  R. Nteka          2021    76.805669\n",
       "244622  Puado             2020    76.684765\n",
       "251852  K. Adeyemi        2021    76.445616\n",
       "241487  J. Ferreira       2020    76.174322\n",
       "253072  D. Núñez          2021    76.089102\n",
       "251470  C. De Ketelaere   2021    75.901709\n",
       "244797  P. Musa           2021    75.885924\n",
       "246430  D. Vlahović       2021    75.562792\n",
       "254267  B. Białek         2021    75.459309\n",
       "247888  S. Esposito       2021    75.449048\n",
       "252865  Iker Losada       2021    74.943128\n",
       "225668  K. Grant          2020    74.885687\n",
       "243315  Dani Gómez        2020    74.773754\n",
       "238900  E. Demirović      2021    74.238713\n",
       "246728  L. Traoré         2020    74.221323\n",
       "250807  H. Dervişoğlu     2020    74.092103\n",
       "245902  T. Parrott        2020    73.862544\n",
       "245437  A. Gaich          2020    73.724813\n",
       "257612  S. Mara           2021    73.705531\n",
       "240589  Miguel            2020    73.530857\n",
       "254849  Y. Badji          2021    73.421675\n",
       "239025  I. Niane          2020    73.407503\n",
       "248385  R. Piccoli        2020    73.374324\n",
       "248805  Sergio Camello    2020    72.973091\n",
       "250961  J. Zirkzee        2020    72.600758\n",
       "245762  A. Kutucu         2020    72.535528\n",
       "238460  R. Brewster       2020    72.455857\n",
       "255839  J. Antiste        2021    72.379971\n",
       "246044  Andrés Martín     2020    72.240441\n",
       "251198  E. Simms          2020    72.183771\n",
       "247122  D. Sikan          2020    72.001335\n",
       "246191  J. Álvarez        2020    71.976877\n",
       "238616  Pedro Neto        2020    71.742924\n",
       "256658  J. Ngankam        2021    71.521607\n",
       "dtype: float64"
      ]
     },
     "execution_count": 81,
     "metadata": {},
     "output_type": "execute_result"
    }
   ],
   "source": [
    "result_df.head(50)"
   ]
  },
  {
   "cell_type": "code",
   "execution_count": null,
   "metadata": {},
   "outputs": [
    {
     "name": "stdout",
     "output_type": "stream",
     "text": [
      "3\n"
     ]
    },
    {
     "data": {
      "text/plain": [
       "ID      Name              FIFA\n",
       "239085  E. Håland         2020    83.341667\n",
       "241721  Rafael Leão       2020    81.384194\n",
       "221479  D. Calvert-Lewin  2020    81.292451\n",
       "dtype: float64"
      ]
     },
     "execution_count": 82,
     "metadata": {},
     "output_type": "execute_result"
    }
   ],
   "source": [
    "bool_ = (result_df>=TARGET_OVERALL)&(y_test>=TARGET_OVERALL)\n",
    "print(bool_.sum())\n",
    "result_df[bool_]"
   ]
  },
  {
   "cell_type": "code",
   "execution_count": null,
   "metadata": {},
   "outputs": [
    {
     "name": "stdout",
     "output_type": "stream",
     "text": [
      "7\n"
     ]
    },
    {
     "data": {
      "text/plain": [
       "ID      Name           FIFA\n",
       "231447  D. Malen       2020    79.046171\n",
       "246186  Arthur Cabral  2021    78.663597\n",
       "243630  J. David       2020    78.512772\n",
       "251852  K. Adeyemi     2021    76.445616\n",
       "253072  D. Núñez       2021    76.089102\n",
       "246430  D. Vlahović    2021    75.562792\n",
       "246191  J. Álvarez     2020    71.976877\n",
       "dtype: float64"
      ]
     },
     "execution_count": 83,
     "metadata": {},
     "output_type": "execute_result"
    }
   ],
   "source": [
    "bool_ = (result_df<TARGET_OVERALL)&(y_test>=TARGET_OVERALL)\n",
    "print(bool_.sum())\n",
    "result_df[bool_]"
   ]
  },
  {
   "cell_type": "code",
   "execution_count": null,
   "metadata": {},
   "outputs": [
    {
     "name": "stdout",
     "output_type": "stream",
     "text": [
      "2\n"
     ]
    },
    {
     "data": {
      "text/plain": [
       "ID      Name              FIFA\n",
       "221479  D. Calvert-Lewin  2020    81.292451\n",
       "245158  L. Suárez         2021    80.659606\n",
       "dtype: float64"
      ]
     },
     "execution_count": 84,
     "metadata": {},
     "output_type": "execute_result"
    }
   ],
   "source": [
    "bool_ = (result_df>TARGET_OVERALL)&(y_test<=TARGET_OVERALL)\n",
    "print(bool_.sum())\n",
    "result_df[bool_]"
   ]
  },
  {
   "cell_type": "code",
   "execution_count": null,
   "metadata": {},
   "outputs": [
    {
     "name": "stdout",
     "output_type": "stream",
     "text": [
      "48\n"
     ]
    },
    {
     "data": {
      "text/plain": [
       "ID      Name             FIFA\n",
       "238900  E. Demirović     2021    74.238713\n",
       "243315  Dani Gómez       2020    74.773754\n",
       "225668  K. Grant         2020    74.885687\n",
       "252865  Iker Losada      2021    74.943128\n",
       "247888  S. Esposito      2021    75.449048\n",
       "254267  B. Białek        2021    75.459309\n",
       "244797  P. Musa          2021    75.885924\n",
       "251470  C. De Ketelaere  2021    75.901709\n",
       "241487  J. Ferreira      2020    76.174322\n",
       "244622  Puado            2020    76.684765\n",
       "251756  R. Nteka         2021    76.805669\n",
       "246147  M. Greenwood     2020    76.838430\n",
       "245940  S. Wamangituka   2020    77.009171\n",
       "246762  S. Koita         2021    77.056864\n",
       "251105  D. Joveljić      2020    77.473306\n",
       "241522  J. Wind          2021    77.671692\n",
       "245396  V. Supryaga      2021    78.064153\n",
       "235866  C. Kouamé        2020    79.165314\n",
       "252042  João Pedro       2021    79.228684\n",
       "252037  Fábio Silva      2020    79.792171\n",
       "dtype: float64"
      ]
     },
     "execution_count": 85,
     "metadata": {},
     "output_type": "execute_result"
    }
   ],
   "source": [
    "bool_ = (result_df<TARGET_OVERALL)&(y_test<TARGET_OVERALL)\n",
    "print(bool_.sum())\n",
    "result_df[bool_].sort_values().tail(20)"
   ]
  },
  {
   "cell_type": "code",
   "execution_count": null,
   "metadata": {},
   "outputs": [
    {
     "name": "stdout",
     "output_type": "stream",
     "text": [
      "              precision    recall  f1-score   support\n",
      "\n",
      "       False       0.79      0.63      0.70        41\n",
      "        True       0.42      0.61      0.50        18\n",
      "\n",
      "    accuracy                           0.63        59\n",
      "   macro avg       0.61      0.62      0.60        59\n",
      "weighted avg       0.68      0.63      0.64        59\n",
      "\n"
     ]
    }
   ],
   "source": [
    "from sklearn.metrics import  classification_report\n",
    "print(classification_report(y_test>75, result_df>75))"
   ]
  },
  {
   "cell_type": "code",
   "execution_count": null,
   "metadata": {},
   "outputs": [],
   "source": []
  }
 ],
 "metadata": {
  "kernelspec": {
   "display_name": "Python 3",
   "language": "python",
   "name": "python3"
  },
  "language_info": {
   "codemirror_mode": {
    "name": "ipython",
    "version": 3
   },
   "file_extension": ".py",
   "mimetype": "text/x-python",
   "name": "python",
   "nbconvert_exporter": "python",
   "pygments_lexer": "ipython3",
   "version": "3.11.4"
  },
  "orig_nbformat": 4
 },
 "nbformat": 4,
 "nbformat_minor": 2
}
