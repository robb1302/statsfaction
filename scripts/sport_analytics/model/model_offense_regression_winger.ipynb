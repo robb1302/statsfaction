{
 "cells": [
  {
   "cell_type": "markdown",
   "metadata": {},
   "source": [
    "Find Players with low potentials but high actual Rating\n",
    "- Label Players has a potential higher than 83 but never reaches this potential"
   ]
  },
  {
   "cell_type": "code",
   "execution_count": 1,
   "metadata": {},
   "outputs": [],
   "source": [
    "HYPERTRAINING = False\n",
    "CV = 5\n",
    "SCORING = 'r2'\n",
    "AUTO_FEATURE_SELECT = 'backward'\n",
    "# forward eher schlecht\n",
    "#'neg_mean_squared_error'   nope\n",
    "#r2 sehr gut -> 0.45\n",
    "# 'explained_variance'\n",
    "# HUBER\n",
    "if SCORING in ['neg_mean_squared_error']:\n",
    "    DIRECTION = \"minimize\"\n",
    "else:\n",
    "    DIRECTION = \"maximize\"\n",
    "TRIALS = 30    \n",
    "EXPERIEMENT_NAME = \"offense_potential_winger\"\n",
    "SAVE_MODEL_NAME = EXPERIEMENT_NAME\n",
    "CLASS_WEIGHTS = 'balanced'\n",
    "\n",
    "RUN_NAME = None\n",
    "TARGET_OVERALL = 78\n",
    "\n",
    "PLAYER_ATTRIBUTES = [ 'central','winger','offense','Finishing',  'ShortPassing', 'Volleys', 'Dribbling',  'FKAccuracy', 'LongPassing', 'BallControl',\n",
    "                      'Acceleration', 'SprintSpeed', 'Agility',    'Reactions', 'Balance', \n",
    "                      'ShotPower', 'Jumping',  'LongShots', 'Positioning', 'Vision' ]\n",
    "# PLAYER_ATTRIBUTES = [ 'Age' ,'Dribbling',  'FKAccuracy',  'BallControl','ShotPower','Positioning', 'Penalties' ]\n",
    "PLAYER_ATTRIBUTES = [  'central','offense','Age','Crossing', 'Finishing', 'HeadingAccuracy', 'ShortPassing', 'Volleys', 'Dribbling', 'Curve', 'FKAccuracy', 'LongPassing', 'BallControl',\n",
    "                      'Acceleration', 'SprintSpeed', 'Agility', 'GKPositioning', 'GKReflexes', 'Composure', 'Defensive awareness', 'Reactions', 'Balance', \n",
    "                      'ShotPower', 'Jumping', 'Stamina', 'Strength', 'LongShots', 'Aggression', 'Interceptions', 'Positioning', 'Vision', 'Penalties', 'Marking', \n",
    "                      'StandingTackleshooting_technique', 'SlidingTackle', 'GKDiving', 'GKHandling', 'GKKicking']\n",
    "PLAYER_ATTRIBUTES = ['Reactions', 'age_based_Stamina', 'Positioning', 'ShortPassing',  'Dribbling', 'BallControl',    'Aggression',   'Vision',  'SprintSpeed','shooting']\n",
    "PLAYER_ATTRIBUTES = ['Crossing', 'Finishing','shooting_technique','mental',\n",
    "       'ShortPassing', 'Volleys', 'Dribbling', 'Curve', 'FKAccuracy',\n",
    "       'LongPassing', 'BallControl',  'SprintSpeed', 'Agility',\n",
    "       'Reactions', 'Balance', 'ShotPower', 'Jumping', 'Stamina', 'Strength',\n",
    "       'LongShots', 'Aggression',  'Positioning', 'Vision',\n",
    "       'Penalties',  \n",
    "        'youth_player', 'shooting', \n",
    "       'mental', 'physique', 'Speed', 'ball_handling', 'age_based_Reactions',\n",
    "       'age_based_physique', 'age_based_shooting_technique',\n",
    "       'age_based_Stamina', 'age_based_Positioning', 'age_based_Vision',\n",
    "       'age_based_Finishing', 'age_based_BallControl']\n",
    "\n",
    "PLAYER_ATTRIBUTES = [ 'Finishing',\n",
    "       'ShortPassing', 'Dribbling',  'FKAccuracy',\n",
    "       'BallControl',  'SprintSpeed', 'Agility',\n",
    "       'Reactions', 'Balance',  \n",
    "       'Positioning'        ]\n"
   ]
  },
  {
   "cell_type": "code",
   "execution_count": 2,
   "metadata": {},
   "outputs": [
    {
     "name": "stdout",
     "output_type": "stream",
     "text": [
      "New current directory: c:\\Users\\Robert\\Documents\\Projekte\\dev\\statsfaction\n"
     ]
    },
    {
     "name": "stderr",
     "output_type": "stream",
     "text": [
      "IProgress not found. Please update jupyter and ipywidgets. See https://ipywidgets.readthedocs.io/en/stable/user_install.html\n"
     ]
    }
   ],
   "source": [
    "import os\n",
    "import pandas as pd\n",
    "import numpy as np\n",
    "import sys\n",
    "import os\n",
    "\n",
    "def find_and_append_module_path():\n",
    "    current_dir = os.getcwd()\n",
    "    substring_to_find = 'statsfaction'\n",
    "    index = current_dir.rfind(substring_to_find)\n",
    "    \n",
    "    if index != -1:\n",
    "        # Extract the directory path up to and including the last \"mypath\" occurrence\n",
    "        new_dir = current_dir[:index + (len(substring_to_find))]\n",
    "\n",
    "        # Change the current working directory to the new directory\n",
    "        os.chdir(new_dir)\n",
    "        sys.path.append(new_dir)\n",
    "        # Verify the new current directory\n",
    "        print(\"New current directory:\", os.getcwd())\n",
    "    else:\n",
    "        print(\"No 'mypath' found in the current directory\")\n",
    "find_and_append_module_path()\n",
    "os.getcwd()\n",
    "\n",
    "from src.sport_analytics.model.prepare import add_features_raw_datadf_raw\n",
    "from src.sport_analytics.model.eval import plot_feature_importance,plot_shap_summary,plot_auc_curves\n",
    "import config as CONFIG"
   ]
  },
  {
   "cell_type": "markdown",
   "metadata": {},
   "source": [
    "### Get Data"
   ]
  },
  {
   "cell_type": "code",
   "execution_count": 3,
   "metadata": {},
   "outputs": [],
   "source": [
    "sql_prime = \"\"\"\n",
    "SELECT max(Age) as prime_age,* FROM(SELECT MAX(Overall) AS PrimeOverall,*\n",
    "  FROM fifa\n",
    "  GROUP BY ID ) \n",
    "  GROUP BY ID\n",
    "  order by PrimeOverall DESC;\n",
    "\"\"\"\n",
    "\n",
    "sql_potentials = f\"\"\"\n",
    "SELECT min(Age) as potential_age,* FROM  (SELECT *,Potential as max_potential FROM fifa WHERE Potential>={TARGET_OVERALL})\n",
    "GROUP BY ID\n",
    "order by potential DESC;\n",
    "\"\"\"\n",
    "\n"
   ]
  },
  {
   "cell_type": "code",
   "execution_count": 4,
   "metadata": {},
   "outputs": [
    {
     "data": {
      "text/html": [
       "<div>\n",
       "<style scoped>\n",
       "    .dataframe tbody tr th:only-of-type {\n",
       "        vertical-align: middle;\n",
       "    }\n",
       "\n",
       "    .dataframe tbody tr th {\n",
       "        vertical-align: top;\n",
       "    }\n",
       "\n",
       "    .dataframe thead th {\n",
       "        text-align: right;\n",
       "    }\n",
       "</style>\n",
       "<table border=\"1\" class=\"dataframe\">\n",
       "  <thead>\n",
       "    <tr style=\"text-align: right;\">\n",
       "      <th></th>\n",
       "      <th></th>\n",
       "      <th></th>\n",
       "      <th>potential_age</th>\n",
       "      <th>Age</th>\n",
       "      <th>Photo</th>\n",
       "      <th>Nationality</th>\n",
       "      <th>Flag</th>\n",
       "      <th>Overall</th>\n",
       "      <th>Potential</th>\n",
       "      <th>Club</th>\n",
       "      <th>Club Logo</th>\n",
       "      <th>Value</th>\n",
       "      <th>...</th>\n",
       "      <th>age_based_Reactions</th>\n",
       "      <th>age_based_Dribbling</th>\n",
       "      <th>age_based_physique</th>\n",
       "      <th>age_based_shooting_technique</th>\n",
       "      <th>age_based_Stamina</th>\n",
       "      <th>age_based_Positioning</th>\n",
       "      <th>age_based_Vision</th>\n",
       "      <th>age_based_Finishing</th>\n",
       "      <th>age_based_BallControl</th>\n",
       "      <th>age_based_shooting</th>\n",
       "    </tr>\n",
       "    <tr>\n",
       "      <th>ID</th>\n",
       "      <th>Name</th>\n",
       "      <th>FIFA</th>\n",
       "      <th></th>\n",
       "      <th></th>\n",
       "      <th></th>\n",
       "      <th></th>\n",
       "      <th></th>\n",
       "      <th></th>\n",
       "      <th></th>\n",
       "      <th></th>\n",
       "      <th></th>\n",
       "      <th></th>\n",
       "      <th></th>\n",
       "      <th></th>\n",
       "      <th></th>\n",
       "      <th></th>\n",
       "      <th></th>\n",
       "      <th></th>\n",
       "      <th></th>\n",
       "      <th></th>\n",
       "      <th></th>\n",
       "      <th></th>\n",
       "      <th></th>\n",
       "    </tr>\n",
       "  </thead>\n",
       "  <tbody>\n",
       "    <tr>\n",
       "      <th>158023</th>\n",
       "      <th>L. Messi</th>\n",
       "      <th>2011</th>\n",
       "      <td>23.0</td>\n",
       "      <td>23.0</td>\n",
       "      <td>https://cdn.sofifa.net/players/158/023/11_60.png</td>\n",
       "      <td>Argentina</td>\n",
       "      <td>https://cdn.sofifa.net/flags/ar.png</td>\n",
       "      <td>90.0</td>\n",
       "      <td>95.0</td>\n",
       "      <td>FC Barcelona</td>\n",
       "      <td>https://cdn.sofifa.net/meta/team/83/30.png</td>\n",
       "      <td>€0</td>\n",
       "      <td>...</td>\n",
       "      <td>19.322854</td>\n",
       "      <td>33.796856</td>\n",
       "      <td>-2.312576</td>\n",
       "      <td>31.146554</td>\n",
       "      <td>4.535671</td>\n",
       "      <td>32.956469</td>\n",
       "      <td>29.762999</td>\n",
       "      <td>38.114873</td>\n",
       "      <td>29.291415</td>\n",
       "      <td>34.732366</td>\n",
       "    </tr>\n",
       "    <tr>\n",
       "      <th>20801</th>\n",
       "      <th>Cristiano Ronaldo</th>\n",
       "      <th>2011</th>\n",
       "      <td>25.0</td>\n",
       "      <td>25.0</td>\n",
       "      <td>https://cdn.sofifa.net/players/020/801/11_60.png</td>\n",
       "      <td>Portugal</td>\n",
       "      <td>https://cdn.sofifa.net/flags/pt.png</td>\n",
       "      <td>89.0</td>\n",
       "      <td>94.0</td>\n",
       "      <td>Real Madrid</td>\n",
       "      <td>https://cdn.sofifa.net/meta/team/3468/30.png</td>\n",
       "      <td>€0</td>\n",
       "      <td>...</td>\n",
       "      <td>16.004264</td>\n",
       "      <td>29.656716</td>\n",
       "      <td>10.965885</td>\n",
       "      <td>32.690832</td>\n",
       "      <td>12.825160</td>\n",
       "      <td>29.906183</td>\n",
       "      <td>16.801706</td>\n",
       "      <td>35.034115</td>\n",
       "      <td>27.253731</td>\n",
       "      <td>33.610519</td>\n",
       "    </tr>\n",
       "    <tr>\n",
       "      <th>244778</th>\n",
       "      <th>Trincão</th>\n",
       "      <th>2021</th>\n",
       "      <td>20.0</td>\n",
       "      <td>20.0</td>\n",
       "      <td>https://cdn.sofifa.net/players/244/778/21_60.png</td>\n",
       "      <td>Portugal</td>\n",
       "      <td>https://cdn.sofifa.net/flags/pt.png</td>\n",
       "      <td>78.0</td>\n",
       "      <td>91.0</td>\n",
       "      <td>FC Barcelona</td>\n",
       "      <td>https://cdn.sofifa.net/meta/team/83/30.png</td>\n",
       "      <td>€34M</td>\n",
       "      <td>...</td>\n",
       "      <td>15.187647</td>\n",
       "      <td>22.799062</td>\n",
       "      <td>9.627834</td>\n",
       "      <td>17.967787</td>\n",
       "      <td>11.164191</td>\n",
       "      <td>19.322909</td>\n",
       "      <td>17.932760</td>\n",
       "      <td>22.726349</td>\n",
       "      <td>18.115715</td>\n",
       "      <td>17.524889</td>\n",
       "    </tr>\n",
       "    <tr>\n",
       "      <th>183277</th>\n",
       "      <th>E. Hazard</th>\n",
       "      <th>2011</th>\n",
       "      <td>19.0</td>\n",
       "      <td>19.0</td>\n",
       "      <td>https://cdn.sofifa.net/players/183/277/11_60.png</td>\n",
       "      <td>Belgium</td>\n",
       "      <td>https://cdn.sofifa.net/flags/be.png</td>\n",
       "      <td>81.0</td>\n",
       "      <td>91.0</td>\n",
       "      <td>LOSC Lille</td>\n",
       "      <td>https://cdn.sofifa.net/meta/team/690/30.png</td>\n",
       "      <td>€0</td>\n",
       "      <td>...</td>\n",
       "      <td>16.753945</td>\n",
       "      <td>22.654950</td>\n",
       "      <td>3.631636</td>\n",
       "      <td>21.288953</td>\n",
       "      <td>11.442611</td>\n",
       "      <td>26.479197</td>\n",
       "      <td>26.281923</td>\n",
       "      <td>26.463415</td>\n",
       "      <td>22.559541</td>\n",
       "      <td>24.319464</td>\n",
       "    </tr>\n",
       "    <tr>\n",
       "      <th>243812</th>\n",
       "      <th>Rodrygo</th>\n",
       "      <th>2021</th>\n",
       "      <td>19.0</td>\n",
       "      <td>19.0</td>\n",
       "      <td>https://cdn.sofifa.net/players/243/812/21_60.png</td>\n",
       "      <td>Brazil</td>\n",
       "      <td>https://cdn.sofifa.net/flags/br.png</td>\n",
       "      <td>79.0</td>\n",
       "      <td>90.0</td>\n",
       "      <td>Real Madrid</td>\n",
       "      <td>https://cdn.sofifa.net/meta/team/3468/30.png</td>\n",
       "      <td>€38M</td>\n",
       "      <td>...</td>\n",
       "      <td>16.753945</td>\n",
       "      <td>22.654950</td>\n",
       "      <td>1.631636</td>\n",
       "      <td>22.688953</td>\n",
       "      <td>18.442611</td>\n",
       "      <td>29.479197</td>\n",
       "      <td>15.281923</td>\n",
       "      <td>28.463415</td>\n",
       "      <td>16.559541</td>\n",
       "      <td>28.986131</td>\n",
       "    </tr>\n",
       "  </tbody>\n",
       "</table>\n",
       "<p>5 rows × 76 columns</p>\n",
       "</div>"
      ],
      "text/plain": [
       "                               potential_age   Age  \\\n",
       "ID     Name              FIFA                        \n",
       "158023 L. Messi          2011           23.0  23.0   \n",
       "20801  Cristiano Ronaldo 2011           25.0  25.0   \n",
       "244778 Trincão           2021           20.0  20.0   \n",
       "183277 E. Hazard         2011           19.0  19.0   \n",
       "243812 Rodrygo           2021           19.0  19.0   \n",
       "\n",
       "                                                                          Photo  \\\n",
       "ID     Name              FIFA                                                     \n",
       "158023 L. Messi          2011  https://cdn.sofifa.net/players/158/023/11_60.png   \n",
       "20801  Cristiano Ronaldo 2011  https://cdn.sofifa.net/players/020/801/11_60.png   \n",
       "244778 Trincão           2021  https://cdn.sofifa.net/players/244/778/21_60.png   \n",
       "183277 E. Hazard         2011  https://cdn.sofifa.net/players/183/277/11_60.png   \n",
       "243812 Rodrygo           2021  https://cdn.sofifa.net/players/243/812/21_60.png   \n",
       "\n",
       "                              Nationality  \\\n",
       "ID     Name              FIFA               \n",
       "158023 L. Messi          2011   Argentina   \n",
       "20801  Cristiano Ronaldo 2011    Portugal   \n",
       "244778 Trincão           2021    Portugal   \n",
       "183277 E. Hazard         2011     Belgium   \n",
       "243812 Rodrygo           2021      Brazil   \n",
       "\n",
       "                                                              Flag  Overall  \\\n",
       "ID     Name              FIFA                                                 \n",
       "158023 L. Messi          2011  https://cdn.sofifa.net/flags/ar.png     90.0   \n",
       "20801  Cristiano Ronaldo 2011  https://cdn.sofifa.net/flags/pt.png     89.0   \n",
       "244778 Trincão           2021  https://cdn.sofifa.net/flags/pt.png     78.0   \n",
       "183277 E. Hazard         2011  https://cdn.sofifa.net/flags/be.png     81.0   \n",
       "243812 Rodrygo           2021  https://cdn.sofifa.net/flags/br.png     79.0   \n",
       "\n",
       "                               Potential          Club  \\\n",
       "ID     Name              FIFA                            \n",
       "158023 L. Messi          2011       95.0  FC Barcelona   \n",
       "20801  Cristiano Ronaldo 2011       94.0   Real Madrid   \n",
       "244778 Trincão           2021       91.0  FC Barcelona   \n",
       "183277 E. Hazard         2011       91.0    LOSC Lille   \n",
       "243812 Rodrygo           2021       90.0   Real Madrid   \n",
       "\n",
       "                                                                  Club Logo  \\\n",
       "ID     Name              FIFA                                                 \n",
       "158023 L. Messi          2011    https://cdn.sofifa.net/meta/team/83/30.png   \n",
       "20801  Cristiano Ronaldo 2011  https://cdn.sofifa.net/meta/team/3468/30.png   \n",
       "244778 Trincão           2021    https://cdn.sofifa.net/meta/team/83/30.png   \n",
       "183277 E. Hazard         2011   https://cdn.sofifa.net/meta/team/690/30.png   \n",
       "243812 Rodrygo           2021  https://cdn.sofifa.net/meta/team/3468/30.png   \n",
       "\n",
       "                              Value  ... age_based_Reactions  \\\n",
       "ID     Name              FIFA        ...                       \n",
       "158023 L. Messi          2011    €0  ...           19.322854   \n",
       "20801  Cristiano Ronaldo 2011    €0  ...           16.004264   \n",
       "244778 Trincão           2021  €34M  ...           15.187647   \n",
       "183277 E. Hazard         2011    €0  ...           16.753945   \n",
       "243812 Rodrygo           2021  €38M  ...           16.753945   \n",
       "\n",
       "                               age_based_Dribbling age_based_physique  \\\n",
       "ID     Name              FIFA                                           \n",
       "158023 L. Messi          2011            33.796856          -2.312576   \n",
       "20801  Cristiano Ronaldo 2011            29.656716          10.965885   \n",
       "244778 Trincão           2021            22.799062           9.627834   \n",
       "183277 E. Hazard         2011            22.654950           3.631636   \n",
       "243812 Rodrygo           2021            22.654950           1.631636   \n",
       "\n",
       "                               age_based_shooting_technique  \\\n",
       "ID     Name              FIFA                                 \n",
       "158023 L. Messi          2011                     31.146554   \n",
       "20801  Cristiano Ronaldo 2011                     32.690832   \n",
       "244778 Trincão           2021                     17.967787   \n",
       "183277 E. Hazard         2011                     21.288953   \n",
       "243812 Rodrygo           2021                     22.688953   \n",
       "\n",
       "                               age_based_Stamina  age_based_Positioning  \\\n",
       "ID     Name              FIFA                                             \n",
       "158023 L. Messi          2011           4.535671              32.956469   \n",
       "20801  Cristiano Ronaldo 2011          12.825160              29.906183   \n",
       "244778 Trincão           2021          11.164191              19.322909   \n",
       "183277 E. Hazard         2011          11.442611              26.479197   \n",
       "243812 Rodrygo           2021          18.442611              29.479197   \n",
       "\n",
       "                               age_based_Vision  age_based_Finishing  \\\n",
       "ID     Name              FIFA                                          \n",
       "158023 L. Messi          2011         29.762999            38.114873   \n",
       "20801  Cristiano Ronaldo 2011         16.801706            35.034115   \n",
       "244778 Trincão           2021         17.932760            22.726349   \n",
       "183277 E. Hazard         2011         26.281923            26.463415   \n",
       "243812 Rodrygo           2021         15.281923            28.463415   \n",
       "\n",
       "                               age_based_BallControl  age_based_shooting  \n",
       "ID     Name              FIFA                                             \n",
       "158023 L. Messi          2011              29.291415           34.732366  \n",
       "20801  Cristiano Ronaldo 2011              27.253731           33.610519  \n",
       "244778 Trincão           2021              18.115715           17.524889  \n",
       "183277 E. Hazard         2011              22.559541           24.319464  \n",
       "243812 Rodrygo           2021              16.559541           28.986131  \n",
       "\n",
       "[5 rows x 76 columns]"
      ]
     },
     "execution_count": 4,
     "metadata": {},
     "output_type": "execute_result"
    }
   ],
   "source": [
    "%load_ext autoreload\n",
    "%autoreload 2\n",
    "import pandas as pd\n",
    "import sqlite3\n",
    "DATABASE_PATH = \"data/sport_analytics/database/football.db\"\n",
    "# Step 1: Establish a database connection\n",
    "conn = sqlite3.connect(DATABASE_PATH)\n",
    "\n",
    "df_potentials = pd.read_sql_query(sql_potentials, conn)\n",
    "df_prime = pd.read_sql_query(sql_prime, conn)\n",
    "\n",
    "conn.close()\n",
    "\n",
    "df_potentials = df_potentials.set_index(['ID'])\n",
    "df_prime = df_prime.set_index(['ID'])\n",
    "\n",
    "df_raw = df_potentials.join(df_prime[[\"prime_age\",\"PrimeOverall\"]])\n",
    "df_raw = df_raw.reset_index(['ID'])\n",
    "df_raw = add_features_raw_datadf_raw(df_raw)\n",
    "\n",
    "df_raw.head()\n"
   ]
  },
  {
   "cell_type": "markdown",
   "metadata": {},
   "source": [
    "# "
   ]
  },
  {
   "cell_type": "code",
   "execution_count": 5,
   "metadata": {},
   "outputs": [],
   "source": [
    "df = df_raw.copy()\n",
    "\n",
    "year_to_category = {2011: 'drop', 2012: 'train', 2013: 'train', 2014: 'train', 2015: 'train', 2016: 'train', 2017: 'train', 2018: 'train', 2019: 'train', 2020: 'test', 2021: 'test', 2022: 'valid', 2023: 'valid', 2024: 'valid'}\n",
    "df['set'] = df.index.get_level_values('FIFA').values\n",
    "# Apply the mapping to the \"FIFA\" column\n",
    "df['set'] = df['set'].map(year_to_category)\n",
    "\n",
    "df_potentials = df[(df.set==\"valid\")&(df.Age<26)&(df.Potential>=TARGET_OVERALL)]"
   ]
  },
  {
   "cell_type": "code",
   "execution_count": 6,
   "metadata": {},
   "outputs": [
    {
     "name": "stdout",
     "output_type": "stream",
     "text": [
      "target\n",
      "77.0    30\n",
      "74.0    20\n",
      "71.0    17\n",
      "79.0    16\n",
      "75.0    16\n",
      "76.0    16\n",
      "78.0    15\n",
      "68.0    15\n",
      "72.0    14\n",
      "73.0    14\n",
      "69.0    14\n",
      "67.0    12\n",
      "70.0    10\n",
      "65.0     8\n",
      "84.0     8\n",
      "81.0     7\n",
      "82.0     7\n",
      "83.0     6\n",
      "85.0     4\n",
      "66.0     4\n",
      "80.0     4\n",
      "64.0     4\n",
      "87.0     3\n",
      "86.0     2\n",
      "63.0     2\n",
      "88.0     2\n",
      "91.0     2\n",
      "89.0     2\n",
      "60.0     1\n",
      "58.0     1\n",
      "92.0     1\n",
      "62.0     1\n",
      "90.0     1\n",
      "Name: count, dtype: int64\n"
     ]
    }
   ],
   "source": [
    "df = df[df.winger == 1]\n",
    "\n",
    "# Training nur auf High Potentials\n",
    "df = df[df.max_potential>TARGET_OVERALL]\n",
    "\n",
    "# nur Entwicklugnsfähige Spieler\n",
    "df = df[df.prime_age>df.potential_age]\n",
    "df = df[df.PrimeOverall>df.Overall]\n",
    "df['target'] = df.PrimeOverall\n",
    "df = df[df.potential_age<23]\n",
    "\n",
    "df = df[df.offense>0.5]\n",
    "print(df.target.value_counts())\n",
    "PREDICTION_NAME = \"Offense\"\n",
    "\n",
    "df_processed = df.copy()"
   ]
  },
  {
   "cell_type": "code",
   "execution_count": 7,
   "metadata": {},
   "outputs": [
    {
     "data": {
      "text/html": [
       "<div>\n",
       "<style scoped>\n",
       "    .dataframe tbody tr th:only-of-type {\n",
       "        vertical-align: middle;\n",
       "    }\n",
       "\n",
       "    .dataframe tbody tr th {\n",
       "        vertical-align: top;\n",
       "    }\n",
       "\n",
       "    .dataframe thead th {\n",
       "        text-align: right;\n",
       "    }\n",
       "</style>\n",
       "<table border=\"1\" class=\"dataframe\">\n",
       "  <thead>\n",
       "    <tr style=\"text-align: right;\">\n",
       "      <th></th>\n",
       "      <th></th>\n",
       "      <th></th>\n",
       "      <th>potential_age</th>\n",
       "      <th>Age</th>\n",
       "      <th>prime_age</th>\n",
       "      <th>max_potential</th>\n",
       "      <th>Potential</th>\n",
       "      <th>Overall</th>\n",
       "      <th>PrimeOverall</th>\n",
       "      <th>target</th>\n",
       "      <th>set</th>\n",
       "      <th>best_position</th>\n",
       "    </tr>\n",
       "    <tr>\n",
       "      <th>ID</th>\n",
       "      <th>Name</th>\n",
       "      <th>FIFA</th>\n",
       "      <th></th>\n",
       "      <th></th>\n",
       "      <th></th>\n",
       "      <th></th>\n",
       "      <th></th>\n",
       "      <th></th>\n",
       "      <th></th>\n",
       "      <th></th>\n",
       "      <th></th>\n",
       "      <th></th>\n",
       "    </tr>\n",
       "  </thead>\n",
       "  <tbody>\n",
       "    <tr>\n",
       "      <th>183277</th>\n",
       "      <th>E. Hazard</th>\n",
       "      <th>2011</th>\n",
       "      <td>19.0</td>\n",
       "      <td>19.0</td>\n",
       "      <td>27.0</td>\n",
       "      <td>91.0</td>\n",
       "      <td>91.0</td>\n",
       "      <td>81.0</td>\n",
       "      <td>91.0</td>\n",
       "      <td>91.0</td>\n",
       "      <td>drop</td>\n",
       "      <td>RW</td>\n",
       "    </tr>\n",
       "    <tr>\n",
       "      <th>243812</th>\n",
       "      <th>Rodrygo</th>\n",
       "      <th>2021</th>\n",
       "      <td>19.0</td>\n",
       "      <td>19.0</td>\n",
       "      <td>21.0</td>\n",
       "      <td>90.0</td>\n",
       "      <td>90.0</td>\n",
       "      <td>79.0</td>\n",
       "      <td>81.0</td>\n",
       "      <td>81.0</td>\n",
       "      <td>test</td>\n",
       "      <td>RW</td>\n",
       "    </tr>\n",
       "    <tr>\n",
       "      <th>208790</th>\n",
       "      <th>Z. Bakkali</th>\n",
       "      <th>2014</th>\n",
       "      <td>17.0</td>\n",
       "      <td>17.0</td>\n",
       "      <td>20.0</td>\n",
       "      <td>90.0</td>\n",
       "      <td>90.0</td>\n",
       "      <td>73.0</td>\n",
       "      <td>74.0</td>\n",
       "      <td>74.0</td>\n",
       "      <td>train</td>\n",
       "      <td>RW</td>\n",
       "    </tr>\n",
       "    <tr>\n",
       "      <th>255475</th>\n",
       "      <th>Antony</th>\n",
       "      <th>2021</th>\n",
       "      <td>20.0</td>\n",
       "      <td>20.0</td>\n",
       "      <td>22.0</td>\n",
       "      <td>88.0</td>\n",
       "      <td>88.0</td>\n",
       "      <td>78.0</td>\n",
       "      <td>82.0</td>\n",
       "      <td>82.0</td>\n",
       "      <td>test</td>\n",
       "      <td>RW</td>\n",
       "    </tr>\n",
       "    <tr>\n",
       "      <th>246045</th>\n",
       "      <th>P. De la Vega</th>\n",
       "      <th>2020</th>\n",
       "      <td>18.0</td>\n",
       "      <td>18.0</td>\n",
       "      <td>22.0</td>\n",
       "      <td>88.0</td>\n",
       "      <td>88.0</td>\n",
       "      <td>70.0</td>\n",
       "      <td>75.0</td>\n",
       "      <td>75.0</td>\n",
       "      <td>test</td>\n",
       "      <td>RW</td>\n",
       "    </tr>\n",
       "  </tbody>\n",
       "</table>\n",
       "</div>"
      ],
      "text/plain": [
       "                           potential_age   Age  prime_age  max_potential  \\\n",
       "ID     Name          FIFA                                                  \n",
       "183277 E. Hazard     2011           19.0  19.0       27.0           91.0   \n",
       "243812 Rodrygo       2021           19.0  19.0       21.0           90.0   \n",
       "208790 Z. Bakkali    2014           17.0  17.0       20.0           90.0   \n",
       "255475 Antony        2021           20.0  20.0       22.0           88.0   \n",
       "246045 P. De la Vega 2020           18.0  18.0       22.0           88.0   \n",
       "\n",
       "                           Potential  Overall  PrimeOverall  target    set  \\\n",
       "ID     Name          FIFA                                                    \n",
       "183277 E. Hazard     2011       91.0     81.0          91.0    91.0   drop   \n",
       "243812 Rodrygo       2021       90.0     79.0          81.0    81.0   test   \n",
       "208790 Z. Bakkali    2014       90.0     73.0          74.0    74.0  train   \n",
       "255475 Antony        2021       88.0     78.0          82.0    82.0   test   \n",
       "246045 P. De la Vega 2020       88.0     70.0          75.0    75.0   test   \n",
       "\n",
       "                          best_position  \n",
       "ID     Name          FIFA                \n",
       "183277 E. Hazard     2011            RW  \n",
       "243812 Rodrygo       2021            RW  \n",
       "208790 Z. Bakkali    2014            RW  \n",
       "255475 Antony        2021            RW  \n",
       "246045 P. De la Vega 2020            RW  "
      ]
     },
     "execution_count": 7,
     "metadata": {},
     "output_type": "execute_result"
    }
   ],
   "source": [
    "df[[\"potential_age\",\"Age\",\"prime_age\",\"max_potential\",\"Potential\",\"Overall\",\"PrimeOverall\",\"target\",\"set\",\"best_position\"]].head()"
   ]
  },
  {
   "cell_type": "code",
   "execution_count": 8,
   "metadata": {},
   "outputs": [],
   "source": [
    "# if True:\n",
    "#     df = df[[any(pos in i for pos in ['CF', 'LW', 'ST', 'RW']) for i in df['Position']]]\n",
    "#     df.shape\n",
    "# else:\n",
    "#     select_position = lambda x: x in [\"ST\",\"CF\",\"LW\",\"RW\"]\n",
    "#     df[\"select\"] = df['Position'].apply(select_position)\n",
    "#     df = df[df[\"select\"]]\n",
    "#     df.shape"
   ]
  },
  {
   "cell_type": "markdown",
   "metadata": {},
   "source": [
    "###  Feature Engineering"
   ]
  },
  {
   "cell_type": "code",
   "execution_count": 9,
   "metadata": {},
   "outputs": [
    {
     "data": {
      "text/plain": [
       "Index(['Club', 'Marking', 'Composure', 'Defensive awareness', 'mental'], dtype='object')"
      ]
     },
     "execution_count": 9,
     "metadata": {},
     "output_type": "execute_result"
    }
   ],
   "source": [
    "df_processed.columns[df_processed.isna().sum()>0]"
   ]
  },
  {
   "cell_type": "markdown",
   "metadata": {},
   "source": [
    "#### Transform Value"
   ]
  },
  {
   "cell_type": "code",
   "execution_count": 10,
   "metadata": {},
   "outputs": [],
   "source": [
    "df_processed = df_processed.fillna(0)\n",
    "df_potentials = df_potentials.fillna(0)"
   ]
  },
  {
   "cell_type": "code",
   "execution_count": 11,
   "metadata": {},
   "outputs": [
    {
     "data": {
      "text/plain": [
       "<Axes: >"
      ]
     },
     "execution_count": 11,
     "metadata": {},
     "output_type": "execute_result"
    },
    {
     "data": {
      "image/png": "[encoded data removed]",
      "text/plain": [
       "<Figure size 640x480 with 1 Axes>"
      ]
     },
     "metadata": {},
     "output_type": "display_data"
    }
   ],
   "source": [
    "df['target'].hist()"
   ]
  },
  {
   "cell_type": "code",
   "execution_count": 12,
   "metadata": {},
   "outputs": [],
   "source": [
    "X = df_processed.drop(\"target\", axis=1, errors='ignore')\n",
    "y = df['target']  # Use df_processed here instead of df\n",
    "# Split the data into training and testing sets"
   ]
  },
  {
   "cell_type": "code",
   "execution_count": 13,
   "metadata": {},
   "outputs": [
    {
     "data": {
      "text/plain": [
       "Index(['potential_age', 'Age', 'Photo', 'Nationality', 'Flag', 'Overall',\n",
       "       'Potential', 'Club', 'Club Logo', 'Value', 'Wage', 'Special',\n",
       "       'Position', 'Unnamed: 0', 'Crossing', 'Finishing', 'HeadingAccuracy',\n",
       "       'ShortPassing', 'Volleys', 'Dribbling', 'Curve', 'FKAccuracy',\n",
       "       'LongPassing', 'BallControl', 'Acceleration', 'SprintSpeed', 'Agility',\n",
       "       'Reactions', 'Balance', 'ShotPower', 'Jumping', 'Stamina', 'Strength',\n",
       "       'LongShots', 'Aggression', 'Interceptions', 'Positioning', 'Vision',\n",
       "       'Penalties', 'Marking', 'StandingTackle', 'SlidingTackle', 'GKDiving',\n",
       "       'GKHandling', 'GKKicking', 'GKPositioning', 'GKReflexes', 'Composure',\n",
       "       'Defensive awareness', 'max_potential', 'prime_age', 'PrimeOverall',\n",
       "       'best_position', 'central', 'winger', 'offense', 'Defense',\n",
       "       'overall_age_ratio', 'youth_player', 'shooting', 'shooting_technique',\n",
       "       'mental', 'physique', 'Speed', 'ball_handling', 'age_based_Strength',\n",
       "       'age_based_Reactions', 'age_based_Dribbling', 'age_based_physique',\n",
       "       'age_based_shooting_technique', 'age_based_Stamina',\n",
       "       'age_based_Positioning', 'age_based_Vision', 'age_based_Finishing',\n",
       "       'age_based_BallControl', 'age_based_shooting', 'set', 'target'],\n",
       "      dtype='object')"
      ]
     },
     "execution_count": 13,
     "metadata": {},
     "output_type": "execute_result"
    }
   ],
   "source": [
    "df_processed.columns"
   ]
  },
  {
   "cell_type": "code",
   "execution_count": 14,
   "metadata": {},
   "outputs": [],
   "source": [
    "\n",
    "\n",
    "from sklearn.model_selection import train_test_split\n",
    "if False:\n",
    "    # Step 1: Split the data into training and testing sets\n",
    "    X_train, X_test, y_train, y_test = train_test_split(X, y, test_size=0.2, random_state=42)\n",
    "\n",
    "    X_train = X_train[PLAYER_ATTRIBUTES]\n",
    "    X_test = X_test[PLAYER_ATTRIBUTES]\n",
    "\n",
    "else:\n",
    "\n",
    "    X_train = X[X.set==\"train\"][PLAYER_ATTRIBUTES]\n",
    "    y_train = y[X.set==\"train\"]\n",
    "\n",
    "    X_test = X[X.set==\"test\"][PLAYER_ATTRIBUTES]\n",
    "    y_test = y[X.set==\"test\"]\n"
   ]
  },
  {
   "cell_type": "code",
   "execution_count": 15,
   "metadata": {},
   "outputs": [
    {
     "data": {
      "text/plain": [
       "count    138.000000\n",
       "mean      75.717391\n",
       "std        5.694137\n",
       "min       63.000000\n",
       "25%       72.250000\n",
       "50%       76.000000\n",
       "75%       79.000000\n",
       "max       92.000000\n",
       "Name: target, dtype: float64"
      ]
     },
     "execution_count": 15,
     "metadata": {},
     "output_type": "execute_result"
    }
   ],
   "source": [
    "y_train.describe()"
   ]
  },
  {
   "cell_type": "code",
   "execution_count": 16,
   "metadata": {},
   "outputs": [],
   "source": [
    "import warnings\n",
    "\n",
    "# Ignore all warnings\n",
    "warnings.filterwarnings(\"ignore\")\n",
    "# Load your dataset or replace df_processed and df with your data\n",
    "# df_processed = pd.read_csv('your_dataset.csv')\n",
    "\n",
    "import pandas as pd\n",
    "\n",
    "from sklearn.preprocessing import StandardScaler\n",
    "# Step 2: Initialize a StandardScaler\n",
    "scaler = StandardScaler()\n",
    "\n",
    "# Step 3: Fit the scaler on the training data and transform both training \n",
    "# and testing data\n",
    "X_train_scaled = scaler.fit_transform(X_train)\n",
    "X_test_scaled = scaler.transform(X_test)\n",
    "\n",
    "df_potentials_scaled = scaler.transform(df_potentials[PLAYER_ATTRIBUTES].fillna(0))\n",
    "\n",
    "# Step 4: Create new DataFrames with the scaled data while preserving the index and columns\n",
    "X_train_scaled_df = pd.DataFrame(X_train_scaled, index=X_train.index, columns=PLAYER_ATTRIBUTES)\n",
    "X_test_scaled_df = pd.DataFrame(X_test_scaled, index=X_test.index, columns=PLAYER_ATTRIBUTES)\n",
    "df_potentials_scaled_df = pd.DataFrame(df_potentials_scaled, index=df_potentials.index, columns=PLAYER_ATTRIBUTES)"
   ]
  },
  {
   "cell_type": "markdown",
   "metadata": {},
   "source": [
    "# Hyperparametertuning"
   ]
  },
  {
   "cell_type": "code",
   "execution_count": 17,
   "metadata": {},
   "outputs": [],
   "source": [
    "import optuna\n",
    "from sklearn.ensemble import RandomForestRegressor\n",
    "from sklearn.metrics import mean_squared_error\n",
    "from sklearn.model_selection import cross_val_score\n",
    "\n",
    "if HYPERTRAINING:\n",
    "    def objective(trial):\n",
    "        # Define hyperparameters to optimize\n",
    "        params = {\n",
    "            'n_estimators': trial.suggest_int('n_estimators', 100, 500),\n",
    "            'max_depth': trial.suggest_int('max_depth', 1, 8),\n",
    "            'min_samples_split': trial.suggest_float('min_samples_split', 0.1, 1.0),\n",
    "            'min_samples_leaf': trial.suggest_float('min_samples_leaf', 0.1, 0.5),\n",
    "            'max_features': trial.suggest_float('max_features', 0.2, 1.0),\n",
    "            'random_state': 42\n",
    "        }\n",
    "\n",
    "        # Implement cross-validation\n",
    "        cv_scores = cross_val_score(RandomForestRegressor(**params), X_train_scaled_df, y_train, cv=CV, scoring=SCORING)\n",
    "        mean_mse = cv_scores.mean()  # Note the negative sign for mean_squared_error\n",
    "\n",
    "        return mean_mse\n",
    "\n",
    "    # Create an Optuna study for minimizing Mean Squared Error\n",
    "    study = optuna.create_study(direction=DIRECTION)\n",
    "    study.optimize(objective, n_trials=TRIALS)  # You can increase n_trials for more optimization\n",
    "\n",
    "    PARAMS_RF = study.best_params\n",
    "    best_mse = study.best_value  # Note the negative sign for mean_squared_error\n",
    "\n",
    "    print(\"Best hyperparameters:\", PARAMS_RF)\n",
    "    print(f\"Best Mean {SCORING}:\", best_mse)\n",
    "else:\n",
    "    PARAMS_RF = {}\n"
   ]
  },
  {
   "cell_type": "code",
   "execution_count": 18,
   "metadata": {},
   "outputs": [],
   "source": [
    "import optuna\n",
    "from sklearn.ensemble import GradientBoostingRegressor\n",
    "from sklearn.metrics import mean_squared_error\n",
    "from sklearn.model_selection import cross_val_score, KFold\n",
    "\n",
    "if HYPERTRAINING:\n",
    "    def objective(trial):\n",
    "        # Define hyperparameters to optimize\n",
    "        params = {\n",
    "            'n_estimators': trial.suggest_int('n_estimators', 100, 500),\n",
    "            'max_depth': trial.suggest_int('max_depth', 1, 8),\n",
    "            'min_samples_split': trial.suggest_float('min_samples_split', 0.1, 1.0),\n",
    "            'min_samples_leaf': trial.suggest_float('min_samples_leaf', 0.1, 0.5),\n",
    "            'max_features': trial.suggest_float('max_features', 0.6, 1.0),\n",
    "            'random_state': 42\n",
    "        }\n",
    "\n",
    "        # Implement cross-validation\n",
    "        cv_scores = cross_val_score(GradientBoostingRegressor(**params), X_train_scaled_df, y_train, cv=CV, scoring=SCORING)\n",
    "        mean_mse = cv_scores.mean()  # Note the negative sign for mean_squared_error\n",
    "\n",
    "        return mean_mse\n",
    "\n",
    "    # Create an Optuna study for minimizing Mean Squared Error\n",
    "    study = optuna.create_study(direction=DIRECTION)\n",
    "    study.optimize(objective, n_trials=TRIALS)  # You can increase n_trials for more optimization\n",
    "\n",
    "    PARAMS_GB = study.best_params\n",
    "    best_mse = study.best_value  # Note the negative sign for mean_squared_error\n",
    "\n",
    "    print(\"Best hyperparameters:\", PARAMS_GB)\n",
    "    print(f\"Best Mean {SCORING}:\", best_mse)\n",
    "else:\n",
    "    PARAMS_GB = {}\n"
   ]
  },
  {
   "cell_type": "code",
   "execution_count": 19,
   "metadata": {},
   "outputs": [],
   "source": [
    "import optuna\n",
    "from sklearn.linear_model import Ridge\n",
    "from sklearn.metrics import mean_squared_error\n",
    "from sklearn.model_selection import cross_val_score, KFold\n",
    "\n",
    "if HYPERTRAINING:\n",
    "    def objective(trial):\n",
    "        # Define hyperparameters to optimize\n",
    "        params = {\n",
    "            'alpha': trial.suggest_float('alpha', 0.01, 10.0),\n",
    "            'fit_intercept': trial.suggest_categorical('fit_intercept', [True, False]),\n",
    "        }\n",
    "\n",
    "        # Implement cross-validation\n",
    "        cv_scores = cross_val_score(Ridge(**params), X_train_scaled_df, y_train, cv=CV, scoring=SCORING)\n",
    "        mean_mse = cv_scores.mean()  # Note the negative sign for mean_squared_error\n",
    "\n",
    "        return mean_mse\n",
    "\n",
    "    # Create an Optuna study for minimizing Mean Squared Error\n",
    "    study = optuna.create_study(direction=DIRECTION)\n",
    "    study.optimize(objective, n_trials=TRIALS)  # You can increase n_trials for more optimization\n",
    "\n",
    "    PARAMS_RIDGE = study.best_params\n",
    "    best_mse = study.best_value  # Note the negative sign for mean_squared_error\n",
    "\n",
    "    print(\"Best hyperparameters:\", PARAMS_RIDGE)\n",
    "    print(f\"Best Mean {SCORING}:\", best_mse)\n",
    "else:\n",
    "    PARAMS_RIDGE = {}\n"
   ]
  },
  {
   "cell_type": "markdown",
   "metadata": {},
   "source": [
    "# TODOS\n",
    "- SHAP Values for Regression Models -> DONE\n",
    "- SCV and Logistic Regression -> nope\n",
    "- Hyperparameter Tuning -> nope\n",
    "- classification model einbauen -> DONE\n",
    "- Make Usable in Deployment  -> DONE\n",
    "- Finishing + FKAccuaracy -> Shooting\n",
    "- Blog umschreiben\n",
    "- Video machen :)"
   ]
  },
  {
   "cell_type": "code",
   "execution_count": 20,
   "metadata": {},
   "outputs": [
    {
     "name": "stdout",
     "output_type": "stream",
     "text": [
      "Ridge Regression training----->\n"
     ]
    },
    {
     "data": {
      "image/png": "[encoded data removed]",
      "text/plain": [
       "<Figure size 1000x800 with 1 Axes>"
      ]
     },
     "metadata": {},
     "output_type": "display_data"
    },
    {
     "name": "stderr",
     "output_type": "stream",
     "text": [
      "100%|██████████| 30/30 [00:00<00:00, 57.77it/s]\n"
     ]
    },
    {
     "data": {
      "image/png": "[encoded data removed]",
      "text/plain": [
       "<Figure size 800x350 with 2 Axes>"
      ]
     },
     "metadata": {},
     "output_type": "display_data"
    },
    {
     "name": "stdout",
     "output_type": "stream",
     "text": [
      "              precision    recall  f1-score   support\n",
      "\n",
      "       False       0.93      0.93      0.93        46\n",
      "        True       0.50      0.50      0.50         6\n",
      "\n",
      "    accuracy                           0.88        52\n",
      "   macro avg       0.72      0.72      0.72        52\n",
      "weighted avg       0.88      0.88      0.88        52\n",
      "\n",
      "Huber Regression training----->\n"
     ]
    },
    {
     "data": {
      "image/png": "[encoded data removed]",
      "text/plain": [
       "<Figure size 1000x800 with 1 Axes>"
      ]
     },
     "metadata": {},
     "output_type": "display_data"
    },
    {
     "name": "stderr",
     "output_type": "stream",
     "text": [
      "100%|██████████| 30/30 [00:01<00:00, 29.45it/s]\n"
     ]
    },
    {
     "data": {
      "image/png": "[encoded data removed]",
      "text/plain": [
       "<Figure size 800x350 with 2 Axes>"
      ]
     },
     "metadata": {},
     "output_type": "display_data"
    },
    {
     "name": "stdout",
     "output_type": "stream",
     "text": [
      "              precision    recall  f1-score   support\n",
      "\n",
      "       False       0.93      0.89      0.91        46\n",
      "        True       0.38      0.50      0.43         6\n",
      "\n",
      "    accuracy                           0.85        52\n",
      "   macro avg       0.65      0.70      0.67        52\n",
      "weighted avg       0.87      0.85      0.86        52\n",
      "\n",
      "Linear Regression training----->\n"
     ]
    },
    {
     "data": {
      "image/png": "[encoded data removed]",
      "text/plain": [
       "<Figure size 1000x800 with 1 Axes>"
      ]
     },
     "metadata": {},
     "output_type": "display_data"
    },
    {
     "name": "stderr",
     "output_type": "stream",
     "text": [
      "100%|██████████| 30/30 [00:01<00:00, 24.60it/s]\n"
     ]
    },
    {
     "data": {
      "image/png": "[encoded data removed]",
      "text/plain": [
       "<Figure size 800x350 with 2 Axes>"
      ]
     },
     "metadata": {},
     "output_type": "display_data"
    },
    {
     "name": "stdout",
     "output_type": "stream",
     "text": [
      "              precision    recall  f1-score   support\n",
      "\n",
      "       False       0.93      0.91      0.92        46\n",
      "        True       0.43      0.50      0.46         6\n",
      "\n",
      "    accuracy                           0.87        52\n",
      "   macro avg       0.68      0.71      0.69        52\n",
      "weighted avg       0.88      0.87      0.87        52\n",
      "\n",
      "Model: Ridge Regression\n",
      "Mean Squared Error: 20.35\n",
      "Mean Absolute Error: 3.72\n",
      "R2 Score: 0.34\n",
      "\n",
      "Model: Huber Regression\n",
      "Mean Squared Error: 20.46\n",
      "Mean Absolute Error: 3.71\n",
      "R2 Score: 0.33\n",
      "\n",
      "Model: Linear Regression\n",
      "Mean Squared Error: 20.33\n",
      "Mean Absolute Error: 3.71\n",
      "R2 Score: 0.34\n",
      "\n"
     ]
    }
   ],
   "source": [
    "from sklearn.linear_model import LinearRegression,HuberRegressor\n",
    "from sklearn.tree import DecisionTreeRegressor\n",
    "from sklearn.ensemble import RandomForestRegressor\n",
    "from sklearn.svm import SVR\n",
    "import xgboost as xgb\n",
    "import lightgbm as lgb\n",
    "\n",
    "from src.sport_analytics.model.eval import plot_feature_importance, log_metrics_in_mlflow_regression,log_metrics_in_mlflow, log_feature_list_as_artifact, plot_shap_summary\n",
    "from src.sport_analytics.utils import *\n",
    "import mlflow\n",
    "import mlflow.sklearn\n",
    "import mlflow.xgboost\n",
    "import mlflow.lightgbm\n",
    "import pandas as pd\n",
    "from sklearn.metrics import mean_squared_error, mean_absolute_error, r2_score\n",
    "\n",
    "\n",
    "\n",
    "from sklearn.linear_model import Ridge, Lasso, ElasticNet\n",
    "from sklearn.svm import SVR\n",
    "from sklearn.neighbors import KNeighborsRegressor\n",
    "from sklearn.ensemble import GradientBoostingRegressor\n",
    "from sklearn.neural_network import MLPRegressor\n",
    "from sklearn.ensemble import AdaBoostRegressor\n",
    "\n",
    "regression_models = {\n",
    "    'Ridge Regression': Ridge(**PARAMS_RIDGE),\n",
    "    'Huber Regression':HuberRegressor(),\n",
    "    # 'AdaBoost Regressor': AdaBoostRegressor(random_state=42),\n",
    "\n",
    "    # 'Lasso Regression': Lasso(),\n",
    "    # 'ElasticNet Regression': ElasticNet(),\n",
    "    'Linear Regression': LinearRegression(),\n",
    "    # 'Random Forest Regressor': RandomForestRegressor(**PARAMS_RF,random_state=42),\n",
    "    # 'Gradient Boosting Regressor': GradientBoostingRegressor(**PARAMS_GB,random_state=42),\n",
    "    # 'XGBoost Regressor': xgb.XGBRegressor(random_state=42),\n",
    "    # 'LightGBM Regressor': lgb.LGBMRegressor(random_state=42)\n",
    "    # Add more models as needed\n",
    "}\n",
    "\n",
    "\n",
    "regression_results = {}\n",
    "import datetime\n",
    "# Set the experiment name\n",
    "mlflow.set_experiment(EXPERIEMENT_NAME)\n",
    "\n",
    "# Start MLflow run with a specific run name and description\n",
    "for model_name, model in regression_models.items():\n",
    "    from datetime import datetime\n",
    "\n",
    "    # Get the current timestamp\n",
    "    timestamp = datetime.now().strftime(\"%Y%m%d%H%M%S\")\n",
    "    with mlflow.start_run(run_name=f\"{model_name}_{timestamp}\"):\n",
    "\n",
    "        print(model_name, \"training----->\")\n",
    "\n",
    "        # Log parameters\n",
    "        mlflow.log_param(\"Model_Name\", model_name)\n",
    "        mlflow.log_params(model.get_params())\n",
    "        from sklearn.feature_selection import SelectFromModel\n",
    "        \n",
    "        # featres = X_train_scaled_df.columns\n",
    "        if AUTO_FEATURE_SELECT == 'AUTO':\n",
    "            sfm = SelectFromModel(model).fit(X_train_scaled_df, y_train)\n",
    "            features = X_train_scaled_df.columns[sfm.get_support()]\n",
    "        elif AUTO_FEATURE_SELECT in  ['backward','forward']:\n",
    "            from sklearn.feature_selection import SequentialFeatureSelector\n",
    "            sfm = SequentialFeatureSelector(\n",
    "                model, direction=AUTO_FEATURE_SELECT\n",
    "            ).fit(X_train_scaled_df, y_train)\n",
    "            features = X_train_scaled_df.columns[sfm.get_support()]\n",
    "        else:\n",
    "            features = X_train_scaled_df.columns\n",
    "        \n",
    "\n",
    "        model.fit(X_train_scaled_df[features], y_train)\n",
    "       \n",
    "        y_pred = model.predict(X_test_scaled_df[features])\n",
    "        \n",
    "        # Log Params\n",
    "        log_feature_list_as_artifact(PLAYER_ATTRIBUTES, filename=\"feature_list.txt\")\n",
    "\n",
    "        # Create a dictionary with parameters and their values\n",
    "        params_to_log = {\n",
    "            'HYPERTRAINING': HYPERTRAINING,\n",
    "            'CV': CV,\n",
    "            'SCORING': SCORING,\n",
    "            'features_anzahl': len(features),\n",
    "            # 'y_train_positives': y_train.sum(),\n",
    "            # 'y_train_negatives': (~y_train).sum(),\n",
    "            # 'y_test_positives': y_test.sum(),\n",
    "            # 'y_test_negatives': (~y_test).sum(),\n",
    "            'TARGET_OVERALL': TARGET_OVERALL\n",
    "        }\n",
    "\n",
    "        # Log parameters using log_params\n",
    "        mlflow.log_params(params_to_log)\n",
    "\n",
    "        # Log artifacts\n",
    "        mlflow.sklearn.log_model(model, model_name)\n",
    "\n",
    "        # Evaluation Metrics\n",
    "        log_metrics_in_mlflow_regression(y_test=y_test, y_pred=y_pred,X = X_test_scaled_df[features])\n",
    "        log_metrics_in_mlflow(y_test=y_test>TARGET_OVERALL,y_prob=None,y_pred=y_pred>TARGET_OVERALL)\n",
    "\n",
    "        # Evaluation Plots (Note: Regression models may not have ROC curves, so adapt this as needed)\n",
    "        plot_feature_importance(model, '', top_n=20)\n",
    "        explainer = plot_shap_summary(model=model,df=X_test_scaled_df[features],K = 30)\n",
    "\n",
    "        # Output for quick evaluation\n",
    "        mse = mean_squared_error(y_test, y_pred)\n",
    "        mae = mean_absolute_error(y_test, y_pred)\n",
    "        r2 = r2_score(y_test, y_pred)\n",
    "        \n",
    "        from sklearn.metrics import  classification_report\n",
    "        report = classification_report(y_test>TARGET_OVERALL, y_pred>TARGET_OVERALL)\n",
    "        print(report)\n",
    "\n",
    "     \n",
    "        regression_results[model_name] = {\n",
    "            'Model': model,\n",
    "            'Scaler': scaler,\n",
    "            'explainer':explainer,\n",
    "            'attributes': features,\n",
    "            'Classification Report': report,\n",
    "            'Mean Squared Error': mse,\n",
    "            'Mean Absolute Error': mae,\n",
    "            'R2 Score': r2\n",
    "        }\n",
    "\n",
    "# Evaluate and print results for each model\n",
    "for model_name, results in regression_results.items():\n",
    "    print(f\"Model: {model_name}\")\n",
    "    print(f\"Mean Squared Error: {results['Mean Squared Error']:.2f}\")\n",
    "    print(f\"Mean Absolute Error: {results['Mean Absolute Error']:.2f}\")\n",
    "    print(f\"R2 Score: {results['R2 Score']:.2f}\")\n",
    "    print()\n",
    "\n",
    "\n"
   ]
  },
  {
   "cell_type": "code",
   "execution_count": 21,
   "metadata": {},
   "outputs": [],
   "source": [
    "from src.sport_analytics.model.utils import *\n",
    "if SAVE_MODEL_NAME!=\"\":\n",
    "    save_dict_as_pickle(data_dict = regression_results, file_path=f\"{CONFIG.TRAINED_MODELS}/{SAVE_MODEL_NAME}.pkl\")"
   ]
  },
  {
   "cell_type": "markdown",
   "metadata": {},
   "source": [
    "# evaluate Model"
   ]
  },
  {
   "cell_type": "code",
   "execution_count": 22,
   "metadata": {},
   "outputs": [
    {
     "data": {
      "text/html": [
       "<div>\n",
       "<style scoped>\n",
       "    .dataframe tbody tr th:only-of-type {\n",
       "        vertical-align: middle;\n",
       "    }\n",
       "\n",
       "    .dataframe tbody tr th {\n",
       "        vertical-align: top;\n",
       "    }\n",
       "\n",
       "    .dataframe thead th {\n",
       "        text-align: right;\n",
       "    }\n",
       "</style>\n",
       "<table border=\"1\" class=\"dataframe\">\n",
       "  <thead>\n",
       "    <tr style=\"text-align: right;\">\n",
       "      <th></th>\n",
       "      <th>Finishing</th>\n",
       "      <th>ShortPassing</th>\n",
       "      <th>Dribbling</th>\n",
       "      <th>FKAccuracy</th>\n",
       "      <th>BallControl</th>\n",
       "      <th>SprintSpeed</th>\n",
       "      <th>Agility</th>\n",
       "      <th>Reactions</th>\n",
       "      <th>Balance</th>\n",
       "      <th>Positioning</th>\n",
       "    </tr>\n",
       "  </thead>\n",
       "  <tbody>\n",
       "    <tr>\n",
       "      <th>count</th>\n",
       "      <td>138.000000</td>\n",
       "      <td>138.000000</td>\n",
       "      <td>138.000000</td>\n",
       "      <td>138.000000</td>\n",
       "      <td>138.000000</td>\n",
       "      <td>138.000000</td>\n",
       "      <td>138.000000</td>\n",
       "      <td>138.000000</td>\n",
       "      <td>138.000000</td>\n",
       "      <td>138.000000</td>\n",
       "    </tr>\n",
       "    <tr>\n",
       "      <th>mean</th>\n",
       "      <td>63.717391</td>\n",
       "      <td>64.079710</td>\n",
       "      <td>74.159420</td>\n",
       "      <td>52.637681</td>\n",
       "      <td>71.782609</td>\n",
       "      <td>80.507246</td>\n",
       "      <td>78.731884</td>\n",
       "      <td>63.449275</td>\n",
       "      <td>74.108696</td>\n",
       "      <td>64.028986</td>\n",
       "    </tr>\n",
       "    <tr>\n",
       "      <th>std</th>\n",
       "      <td>7.091672</td>\n",
       "      <td>6.275967</td>\n",
       "      <td>5.618331</td>\n",
       "      <td>11.359386</td>\n",
       "      <td>5.595539</td>\n",
       "      <td>6.958948</td>\n",
       "      <td>7.567255</td>\n",
       "      <td>8.549617</td>\n",
       "      <td>10.498304</td>\n",
       "      <td>7.137791</td>\n",
       "    </tr>\n",
       "    <tr>\n",
       "      <th>min</th>\n",
       "      <td>36.000000</td>\n",
       "      <td>47.000000</td>\n",
       "      <td>57.000000</td>\n",
       "      <td>24.000000</td>\n",
       "      <td>58.000000</td>\n",
       "      <td>63.000000</td>\n",
       "      <td>54.000000</td>\n",
       "      <td>36.000000</td>\n",
       "      <td>26.000000</td>\n",
       "      <td>43.000000</td>\n",
       "    </tr>\n",
       "    <tr>\n",
       "      <th>25%</th>\n",
       "      <td>59.250000</td>\n",
       "      <td>59.250000</td>\n",
       "      <td>70.000000</td>\n",
       "      <td>44.000000</td>\n",
       "      <td>68.000000</td>\n",
       "      <td>77.000000</td>\n",
       "      <td>74.000000</td>\n",
       "      <td>58.000000</td>\n",
       "      <td>68.000000</td>\n",
       "      <td>60.000000</td>\n",
       "    </tr>\n",
       "    <tr>\n",
       "      <th>50%</th>\n",
       "      <td>64.000000</td>\n",
       "      <td>64.000000</td>\n",
       "      <td>75.000000</td>\n",
       "      <td>53.000000</td>\n",
       "      <td>72.000000</td>\n",
       "      <td>80.500000</td>\n",
       "      <td>79.000000</td>\n",
       "      <td>64.000000</td>\n",
       "      <td>75.000000</td>\n",
       "      <td>65.000000</td>\n",
       "    </tr>\n",
       "    <tr>\n",
       "      <th>75%</th>\n",
       "      <td>68.000000</td>\n",
       "      <td>69.000000</td>\n",
       "      <td>78.000000</td>\n",
       "      <td>62.000000</td>\n",
       "      <td>75.000000</td>\n",
       "      <td>85.000000</td>\n",
       "      <td>84.000000</td>\n",
       "      <td>69.000000</td>\n",
       "      <td>81.000000</td>\n",
       "      <td>69.000000</td>\n",
       "    </tr>\n",
       "    <tr>\n",
       "      <th>max</th>\n",
       "      <td>84.000000</td>\n",
       "      <td>77.000000</td>\n",
       "      <td>90.000000</td>\n",
       "      <td>76.000000</td>\n",
       "      <td>92.000000</td>\n",
       "      <td>95.000000</td>\n",
       "      <td>95.000000</td>\n",
       "      <td>84.000000</td>\n",
       "      <td>92.000000</td>\n",
       "      <td>88.000000</td>\n",
       "    </tr>\n",
       "  </tbody>\n",
       "</table>\n",
       "</div>"
      ],
      "text/plain": [
       "        Finishing  ShortPassing   Dribbling  FKAccuracy  BallControl  \\\n",
       "count  138.000000    138.000000  138.000000  138.000000   138.000000   \n",
       "mean    63.717391     64.079710   74.159420   52.637681    71.782609   \n",
       "std      7.091672      6.275967    5.618331   11.359386     5.595539   \n",
       "min     36.000000     47.000000   57.000000   24.000000    58.000000   \n",
       "25%     59.250000     59.250000   70.000000   44.000000    68.000000   \n",
       "50%     64.000000     64.000000   75.000000   53.000000    72.000000   \n",
       "75%     68.000000     69.000000   78.000000   62.000000    75.000000   \n",
       "max     84.000000     77.000000   90.000000   76.000000    92.000000   \n",
       "\n",
       "       SprintSpeed     Agility   Reactions     Balance  Positioning  \n",
       "count   138.000000  138.000000  138.000000  138.000000   138.000000  \n",
       "mean     80.507246   78.731884   63.449275   74.108696    64.028986  \n",
       "std       6.958948    7.567255    8.549617   10.498304     7.137791  \n",
       "min      63.000000   54.000000   36.000000   26.000000    43.000000  \n",
       "25%      77.000000   74.000000   58.000000   68.000000    60.000000  \n",
       "50%      80.500000   79.000000   64.000000   75.000000    65.000000  \n",
       "75%      85.000000   84.000000   69.000000   81.000000    69.000000  \n",
       "max      95.000000   95.000000   84.000000   92.000000    88.000000  "
      ]
     },
     "execution_count": 22,
     "metadata": {},
     "output_type": "execute_result"
    }
   ],
   "source": [
    "X_train.describe()"
   ]
  },
  {
   "cell_type": "code",
   "execution_count": 23,
   "metadata": {},
   "outputs": [
    {
     "data": {
      "text/plain": [
       "count    52.000000\n",
       "mean     72.365385\n",
       "std       5.590710\n",
       "min      60.000000\n",
       "25%      67.750000\n",
       "50%      73.000000\n",
       "75%      77.000000\n",
       "max      84.000000\n",
       "Name: target, dtype: float64"
      ]
     },
     "execution_count": 23,
     "metadata": {},
     "output_type": "execute_result"
    }
   ],
   "source": [
    "y_test.describe()"
   ]
  },
  {
   "cell_type": "code",
   "execution_count": 24,
   "metadata": {},
   "outputs": [],
   "source": [
    "my_model = regression_results['Huber Regression']['Model']\n",
    "my_features = regression_results['Huber Regression']['attributes']\n"
   ]
  },
  {
   "cell_type": "code",
   "execution_count": 25,
   "metadata": {},
   "outputs": [
    {
     "data": {
      "text/plain": [
       "52"
      ]
     },
     "execution_count": 25,
     "metadata": {},
     "output_type": "execute_result"
    }
   ],
   "source": [
    "result_df = pd.Series(my_model.predict(X_test_scaled_df[my_features]),index=X_test_scaled_df.index)\n",
    "len(result_df)"
   ]
  },
  {
   "cell_type": "code",
   "execution_count": 26,
   "metadata": {},
   "outputs": [
    {
     "data": {
      "text/plain": [
       "<Axes: >"
      ]
     },
     "execution_count": 26,
     "metadata": {},
     "output_type": "execute_result"
    },
    {
     "data": {
      "image/png": "[encoded data removed]",
      "text/plain": [
       "<Figure size 640x480 with 1 Axes>"
      ]
     },
     "metadata": {},
     "output_type": "display_data"
    }
   ],
   "source": [
    "(y_test-result_df).sort_values(ascending=False).hist()"
   ]
  },
  {
   "cell_type": "code",
   "execution_count": 27,
   "metadata": {},
   "outputs": [
    {
     "data": {
      "text/plain": [
       "<Axes: >"
      ]
     },
     "execution_count": 27,
     "metadata": {},
     "output_type": "execute_result"
    },
    {
     "data": {
      "image/png": "[encoded data removed]",
      "text/plain": [
       "<Figure size 640x480 with 1 Axes>"
      ]
     },
     "metadata": {},
     "output_type": "display_data"
    }
   ],
   "source": [
    "result_df.sort_values(ascending=False).hist()"
   ]
  },
  {
   "cell_type": "code",
   "execution_count": 28,
   "metadata": {},
   "outputs": [
    {
     "data": {
      "text/plain": [
       "count    52.000000\n",
       "mean     -1.353062\n",
       "std       4.358187\n",
       "min      -9.171296\n",
       "25%      -4.307896\n",
       "50%      -1.990049\n",
       "75%       0.345853\n",
       "max       9.065364\n",
       "dtype: float64"
      ]
     },
     "execution_count": 28,
     "metadata": {},
     "output_type": "execute_result"
    }
   ],
   "source": [
    "(y_test-result_df).describe()"
   ]
  },
  {
   "cell_type": "code",
   "execution_count": 29,
   "metadata": {},
   "outputs": [
    {
     "data": {
      "text/html": [
       "<div>\n",
       "<style scoped>\n",
       "    .dataframe tbody tr th:only-of-type {\n",
       "        vertical-align: middle;\n",
       "    }\n",
       "\n",
       "    .dataframe tbody tr th {\n",
       "        vertical-align: top;\n",
       "    }\n",
       "\n",
       "    .dataframe thead th {\n",
       "        text-align: right;\n",
       "    }\n",
       "</style>\n",
       "<table border=\"1\" class=\"dataframe\">\n",
       "  <thead>\n",
       "    <tr style=\"text-align: right;\">\n",
       "      <th></th>\n",
       "      <th></th>\n",
       "      <th></th>\n",
       "      <th>Finishing</th>\n",
       "      <th>ShortPassing</th>\n",
       "      <th>Dribbling</th>\n",
       "      <th>FKAccuracy</th>\n",
       "      <th>BallControl</th>\n",
       "      <th>SprintSpeed</th>\n",
       "      <th>Agility</th>\n",
       "      <th>Reactions</th>\n",
       "      <th>Balance</th>\n",
       "      <th>Positioning</th>\n",
       "    </tr>\n",
       "    <tr>\n",
       "      <th>ID</th>\n",
       "      <th>Name</th>\n",
       "      <th>FIFA</th>\n",
       "      <th></th>\n",
       "      <th></th>\n",
       "      <th></th>\n",
       "      <th></th>\n",
       "      <th></th>\n",
       "      <th></th>\n",
       "      <th></th>\n",
       "      <th></th>\n",
       "      <th></th>\n",
       "      <th></th>\n",
       "    </tr>\n",
       "  </thead>\n",
       "  <tbody>\n",
       "    <tr>\n",
       "      <th>246174</th>\n",
       "      <th>H. Elliott</th>\n",
       "      <th>2021</th>\n",
       "      <td>54.0</td>\n",
       "      <td>63.0</td>\n",
       "      <td>72.0</td>\n",
       "      <td>42.0</td>\n",
       "      <td>66.0</td>\n",
       "      <td>72.0</td>\n",
       "      <td>83.0</td>\n",
       "      <td>58.0</td>\n",
       "      <td>80.0</td>\n",
       "      <td>62.0</td>\n",
       "    </tr>\n",
       "    <tr>\n",
       "      <th>251566</th>\n",
       "      <th>Gabriel Martinelli</th>\n",
       "      <th>2020</th>\n",
       "      <td>62.0</td>\n",
       "      <td>64.0</td>\n",
       "      <td>73.0</td>\n",
       "      <td>49.0</td>\n",
       "      <td>73.0</td>\n",
       "      <td>84.0</td>\n",
       "      <td>76.0</td>\n",
       "      <td>51.0</td>\n",
       "      <td>69.0</td>\n",
       "      <td>62.0</td>\n",
       "    </tr>\n",
       "    <tr>\n",
       "      <th>242964</th>\n",
       "      <th>A. Gordon</th>\n",
       "      <th>2021</th>\n",
       "      <td>62.0</td>\n",
       "      <td>62.0</td>\n",
       "      <td>71.0</td>\n",
       "      <td>59.0</td>\n",
       "      <td>68.0</td>\n",
       "      <td>73.0</td>\n",
       "      <td>63.0</td>\n",
       "      <td>59.0</td>\n",
       "      <td>66.0</td>\n",
       "      <td>61.0</td>\n",
       "    </tr>\n",
       "    <tr>\n",
       "      <th>240273</th>\n",
       "      <th>E. Smith Rowe</th>\n",
       "      <th>2020</th>\n",
       "      <td>62.0</td>\n",
       "      <td>61.0</td>\n",
       "      <td>68.0</td>\n",
       "      <td>58.0</td>\n",
       "      <td>67.0</td>\n",
       "      <td>79.0</td>\n",
       "      <td>75.0</td>\n",
       "      <td>55.0</td>\n",
       "      <td>68.0</td>\n",
       "      <td>62.0</td>\n",
       "    </tr>\n",
       "    <tr>\n",
       "      <th>256516</th>\n",
       "      <th>Nico Williams</th>\n",
       "      <th>2021</th>\n",
       "      <td>66.0</td>\n",
       "      <td>59.0</td>\n",
       "      <td>68.0</td>\n",
       "      <td>57.0</td>\n",
       "      <td>66.0</td>\n",
       "      <td>76.0</td>\n",
       "      <td>69.0</td>\n",
       "      <td>51.0</td>\n",
       "      <td>65.0</td>\n",
       "      <td>62.0</td>\n",
       "    </tr>\n",
       "    <tr>\n",
       "      <th>246785</th>\n",
       "      <th>Bryan Gil</th>\n",
       "      <th>2020</th>\n",
       "      <td>60.0</td>\n",
       "      <td>60.0</td>\n",
       "      <td>72.0</td>\n",
       "      <td>52.0</td>\n",
       "      <td>69.0</td>\n",
       "      <td>69.0</td>\n",
       "      <td>77.0</td>\n",
       "      <td>59.0</td>\n",
       "      <td>74.0</td>\n",
       "      <td>60.0</td>\n",
       "    </tr>\n",
       "    <tr>\n",
       "      <th>237712</th>\n",
       "      <th>V. Castellanos</th>\n",
       "      <th>2020</th>\n",
       "      <td>68.0</td>\n",
       "      <td>63.0</td>\n",
       "      <td>66.0</td>\n",
       "      <td>35.0</td>\n",
       "      <td>64.0</td>\n",
       "      <td>72.0</td>\n",
       "      <td>70.0</td>\n",
       "      <td>53.0</td>\n",
       "      <td>68.0</td>\n",
       "      <td>63.0</td>\n",
       "    </tr>\n",
       "    <tr>\n",
       "      <th>246431</th>\n",
       "      <th>R. Sottil</th>\n",
       "      <th>2021</th>\n",
       "      <td>60.0</td>\n",
       "      <td>60.0</td>\n",
       "      <td>68.0</td>\n",
       "      <td>45.0</td>\n",
       "      <td>68.0</td>\n",
       "      <td>78.0</td>\n",
       "      <td>72.0</td>\n",
       "      <td>58.0</td>\n",
       "      <td>75.0</td>\n",
       "      <td>62.0</td>\n",
       "    </tr>\n",
       "    <tr>\n",
       "      <th>231836</th>\n",
       "      <th>J. Karlsson</th>\n",
       "      <th>2021</th>\n",
       "      <td>68.0</td>\n",
       "      <td>57.0</td>\n",
       "      <td>75.0</td>\n",
       "      <td>60.0</td>\n",
       "      <td>69.0</td>\n",
       "      <td>79.0</td>\n",
       "      <td>92.0</td>\n",
       "      <td>65.0</td>\n",
       "      <td>90.0</td>\n",
       "      <td>66.0</td>\n",
       "    </tr>\n",
       "  </tbody>\n",
       "</table>\n",
       "</div>"
      ],
      "text/plain": [
       "                                Finishing  ShortPassing  Dribbling  \\\n",
       "ID     Name               FIFA                                       \n",
       "246174 H. Elliott         2021       54.0          63.0       72.0   \n",
       "251566 Gabriel Martinelli 2020       62.0          64.0       73.0   \n",
       "242964 A. Gordon          2021       62.0          62.0       71.0   \n",
       "240273 E. Smith Rowe      2020       62.0          61.0       68.0   \n",
       "256516 Nico Williams      2021       66.0          59.0       68.0   \n",
       "246785 Bryan Gil          2020       60.0          60.0       72.0   \n",
       "237712 V. Castellanos     2020       68.0          63.0       66.0   \n",
       "246431 R. Sottil          2021       60.0          60.0       68.0   \n",
       "231836 J. Karlsson        2021       68.0          57.0       75.0   \n",
       "\n",
       "                                FKAccuracy  BallControl  SprintSpeed  Agility  \\\n",
       "ID     Name               FIFA                                                  \n",
       "246174 H. Elliott         2021        42.0         66.0         72.0     83.0   \n",
       "251566 Gabriel Martinelli 2020        49.0         73.0         84.0     76.0   \n",
       "242964 A. Gordon          2021        59.0         68.0         73.0     63.0   \n",
       "240273 E. Smith Rowe      2020        58.0         67.0         79.0     75.0   \n",
       "256516 Nico Williams      2021        57.0         66.0         76.0     69.0   \n",
       "246785 Bryan Gil          2020        52.0         69.0         69.0     77.0   \n",
       "237712 V. Castellanos     2020        35.0         64.0         72.0     70.0   \n",
       "246431 R. Sottil          2021        45.0         68.0         78.0     72.0   \n",
       "231836 J. Karlsson        2021        60.0         69.0         79.0     92.0   \n",
       "\n",
       "                                Reactions  Balance  Positioning  \n",
       "ID     Name               FIFA                                   \n",
       "246174 H. Elliott         2021       58.0     80.0         62.0  \n",
       "251566 Gabriel Martinelli 2020       51.0     69.0         62.0  \n",
       "242964 A. Gordon          2021       59.0     66.0         61.0  \n",
       "240273 E. Smith Rowe      2020       55.0     68.0         62.0  \n",
       "256516 Nico Williams      2021       51.0     65.0         62.0  \n",
       "246785 Bryan Gil          2020       59.0     74.0         60.0  \n",
       "237712 V. Castellanos     2020       53.0     68.0         63.0  \n",
       "246431 R. Sottil          2021       58.0     75.0         62.0  \n",
       "231836 J. Karlsson        2021       65.0     90.0         66.0  "
      ]
     },
     "execution_count": 29,
     "metadata": {},
     "output_type": "execute_result"
    }
   ],
   "source": [
    "outlier = (y_test-result_df)>3\n",
    "X_test[outlier]\n"
   ]
  },
  {
   "cell_type": "code",
   "execution_count": 30,
   "metadata": {},
   "outputs": [
    {
     "data": {
      "text/plain": [
       "ID      Name                FIFA\n",
       "246174  H. Elliott          2021    77.0\n",
       "251566  Gabriel Martinelli  2020    84.0\n",
       "242964  A. Gordon           2021    75.0\n",
       "240273  E. Smith Rowe       2020    78.0\n",
       "256516  Nico Williams       2021    79.0\n",
       "246785  Bryan Gil           2020    77.0\n",
       "237712  V. Castellanos      2020    79.0\n",
       "246431  R. Sottil           2021    76.0\n",
       "231836  J. Karlsson         2021    78.0\n",
       "Name: target, dtype: float64"
      ]
     },
     "execution_count": 30,
     "metadata": {},
     "output_type": "execute_result"
    }
   ],
   "source": [
    "y_test[outlier]"
   ]
  },
  {
   "cell_type": "code",
   "execution_count": 31,
   "metadata": {},
   "outputs": [
    {
     "data": {
      "text/plain": [
       "ID      Name                FIFA\n",
       "246174  H. Elliott          2021    72.548852\n",
       "251566  Gabriel Martinelli  2020    75.426482\n",
       "242964  A. Gordon           2021    70.025029\n",
       "240273  E. Smith Rowe       2020    72.121732\n",
       "256516  Nico Williams       2021    70.120641\n",
       "246785  Bryan Gil           2020    71.590543\n",
       "237712  V. Castellanos      2020    69.934636\n",
       "246431  R. Sottil           2021    71.672725\n",
       "231836  J. Karlsson         2021    74.761533\n",
       "dtype: float64"
      ]
     },
     "execution_count": 31,
     "metadata": {},
     "output_type": "execute_result"
    }
   ],
   "source": [
    "result_df[outlier]"
   ]
  },
  {
   "cell_type": "code",
   "execution_count": 32,
   "metadata": {},
   "outputs": [
    {
     "data": {
      "text/plain": [
       "count    52.000000\n",
       "mean      0.982060\n",
       "std       0.059924\n",
       "min       0.877849\n",
       "25%       0.940707\n",
       "50%       0.974628\n",
       "75%       1.004576\n",
       "max       1.129626\n",
       "dtype: float64"
      ]
     },
     "execution_count": 32,
     "metadata": {},
     "output_type": "execute_result"
    }
   ],
   "source": [
    "(y_test/result_df).describe()"
   ]
  },
  {
   "cell_type": "code",
   "execution_count": 33,
   "metadata": {},
   "outputs": [
    {
     "data": {
      "text/plain": [
       "count    52.000000\n",
       "mean      0.982060\n",
       "std       0.059924\n",
       "min       0.877849\n",
       "25%       0.940707\n",
       "50%       0.974628\n",
       "75%       1.004576\n",
       "max       1.129626\n",
       "dtype: float64"
      ]
     },
     "execution_count": 33,
     "metadata": {},
     "output_type": "execute_result"
    }
   ],
   "source": [
    "(y_test/result_df).describe()"
   ]
  },
  {
   "cell_type": "code",
   "execution_count": 34,
   "metadata": {},
   "outputs": [
    {
     "data": {
      "text/plain": [
       "array([[1.        , 0.63702005],\n",
       "       [0.63702005, 1.        ]])"
      ]
     },
     "execution_count": 34,
     "metadata": {},
     "output_type": "execute_result"
    }
   ],
   "source": [
    "np.corrcoef(y_test,result_df)"
   ]
  },
  {
   "cell_type": "code",
   "execution_count": 35,
   "metadata": {},
   "outputs": [
    {
     "data": {
      "image/png": "[encoded data removed]",
      "text/plain": [
       "<Figure size 640x480 with 1 Axes>"
      ]
     },
     "metadata": {},
     "output_type": "display_data"
    }
   ],
   "source": [
    "import matplotlib.pyplot as plt\n",
    "plt.scatter(y_test, result_df, color='blue', alpha=0.5)\n",
    "plt.plot([min(y_test), max(y_test)], [min(y_test), max(y_test)], color='red', linestyle='--', label='Diagonal line')\n",
    "\n",
    "plt.title('Scatter Plot of y_test vs result_df')\n",
    "plt.xlabel('y_test')\n",
    "plt.ylabel('result_df')\n",
    "plt.show()"
   ]
  },
  {
   "cell_type": "code",
   "execution_count": 36,
   "metadata": {},
   "outputs": [],
   "source": [
    "result_df = result_df.sort_values(ascending=False)"
   ]
  },
  {
   "cell_type": "code",
   "execution_count": 37,
   "metadata": {},
   "outputs": [
    {
     "data": {
      "text/plain": [
       "ID      Name                FIFA\n",
       "255475  Antony              2021    84.290865\n",
       "243812  Rodrygo             2021    82.135801\n",
       "253004  Ansu Fati           2021    80.852680\n",
       "244193  Jovane Cabral       2021    80.778673\n",
       "247181  G. Plata            2021    79.557593\n",
       "243014  B. Mbeumo           2021    78.784717\n",
       "248113  A. Mățan            2021    78.171296\n",
       "241907  D. Rossi            2020    78.132692\n",
       "220710  H. Wilson           2020    77.615767\n",
       "246420  J. Doku             2020    77.358513\n",
       "246045  P. De la Vega       2020    77.340296\n",
       "253293  B. Ocampo           2021    77.300574\n",
       "248060  V. Mihăilă          2021    76.936131\n",
       "246145  I. Aliseda          2020    76.717331\n",
       "233848  J. Hauge            2021    75.747946\n",
       "251954  C. Summerville      2021    75.444021\n",
       "251566  Gabriel Martinelli  2020    75.426482\n",
       "238050  C. Ejuke            2020    75.372748\n",
       "246423  L. Orellano         2021    75.241629\n",
       "240017  A. Olsen            2020    75.148634\n",
       "242162  H. Evjen            2020    75.127418\n",
       "237512  G. Togni            2021    74.761878\n",
       "231836  J. Karlsson         2021    74.761533\n",
       "246682  K. Dembélé          2021    74.044664\n",
       "248572  Pedro Brazão        2021    73.647191\n",
       "231442  M. Browne           2020    73.126860\n",
       "242612  E. Chilufya         2021    73.076157\n",
       "246814  Í. Jóhannesson      2021    73.035979\n",
       "245870  H. Hassan           2021    72.949043\n",
       "252114  B. Rollheiser       2021    72.945042\n",
       "246174  H. Elliott          2021    72.548852\n",
       "246548  O. Sahraoui         2021    72.238358\n",
       "245894  Robert              2020    72.166679\n",
       "245537  E. Ceïde            2021    72.129355\n",
       "240273  E. Smith Rowe       2020    72.121732\n",
       "251873  Y. Demir            2021    71.680761\n",
       "246431  R. Sottil           2021    71.672725\n",
       "246785  Bryan Gil           2020    71.590543\n",
       "251341  M. Aké              2020    71.189195\n",
       "234683  A. Zeqiri           2021    70.259575\n",
       "256516  Nico Williams       2021    70.120641\n",
       "242964  A. Gordon           2021    70.025029\n",
       "237712  V. Castellanos      2020    69.934636\n",
       "257319  A. Virginius        2021    69.320132\n",
       "258139  Raúl Moro           2021    69.177869\n",
       "246336  M. Miljevic         2021    69.043215\n",
       "257279  Alex Baena          2021    68.442657\n",
       "242119  X. Amaechi          2020    68.339356\n",
       "251880  Ș. Baiaram          2021    67.968613\n",
       "242420  V. Millico          2021    66.963839\n",
       "dtype: float64"
      ]
     },
     "execution_count": 37,
     "metadata": {},
     "output_type": "execute_result"
    }
   ],
   "source": [
    "result_df.head(50)"
   ]
  },
  {
   "cell_type": "code",
   "execution_count": 38,
   "metadata": {},
   "outputs": [
    {
     "name": "stdout",
     "output_type": "stream",
     "text": [
      "5\n"
     ]
    },
    {
     "data": {
      "text/plain": [
       "ID      Name           FIFA\n",
       "255475  Antony         2021    84.290865\n",
       "243812  Rodrygo        2021    82.135801\n",
       "253004  Ansu Fati      2021    80.852680\n",
       "244193  Jovane Cabral  2021    80.778673\n",
       "243014  B. Mbeumo      2021    78.784717\n",
       "dtype: float64"
      ]
     },
     "execution_count": 38,
     "metadata": {},
     "output_type": "execute_result"
    }
   ],
   "source": [
    "bool_ = (result_df>=TARGET_OVERALL)&(y_test>=TARGET_OVERALL)\n",
    "print(bool_.sum())\n",
    "result_df[bool_]"
   ]
  },
  {
   "cell_type": "code",
   "execution_count": 39,
   "metadata": {},
   "outputs": [
    {
     "name": "stdout",
     "output_type": "stream",
     "text": [
      "5\n"
     ]
    },
    {
     "data": {
      "text/plain": [
       "ID      Name                FIFA\n",
       "251566  Gabriel Martinelli  2020    75.426482\n",
       "231836  J. Karlsson         2021    74.761533\n",
       "240273  E. Smith Rowe       2020    72.121732\n",
       "256516  Nico Williams       2021    70.120641\n",
       "237712  V. Castellanos      2020    69.934636\n",
       "dtype: float64"
      ]
     },
     "execution_count": 39,
     "metadata": {},
     "output_type": "execute_result"
    }
   ],
   "source": [
    "bool_ = (result_df<TARGET_OVERALL)&(y_test>=TARGET_OVERALL)\n",
    "print(bool_.sum())\n",
    "result_df[bool_]"
   ]
  },
  {
   "cell_type": "code",
   "execution_count": 40,
   "metadata": {},
   "outputs": [
    {
     "name": "stdout",
     "output_type": "stream",
     "text": [
      "5\n"
     ]
    },
    {
     "data": {
      "text/plain": [
       "ID      Name           FIFA\n",
       "244193  Jovane Cabral  2021    80.778673\n",
       "247181  G. Plata       2021    79.557593\n",
       "243014  B. Mbeumo      2021    78.784717\n",
       "248113  A. Mățan       2021    78.171296\n",
       "241907  D. Rossi       2020    78.132692\n",
       "dtype: float64"
      ]
     },
     "execution_count": 40,
     "metadata": {},
     "output_type": "execute_result"
    }
   ],
   "source": [
    "bool_ = (result_df>TARGET_OVERALL)&(y_test<=TARGET_OVERALL)\n",
    "print(bool_.sum())\n",
    "result_df[bool_]"
   ]
  },
  {
   "cell_type": "code",
   "execution_count": 41,
   "metadata": {},
   "outputs": [
    {
     "name": "stdout",
     "output_type": "stream",
     "text": [
      "39\n"
     ]
    },
    {
     "data": {
      "text/plain": [
       "ID      Name            FIFA\n",
       "252114  B. Rollheiser   2021    72.945042\n",
       "245870  H. Hassan       2021    72.949043\n",
       "246814  Í. Jóhannesson  2021    73.035979\n",
       "242612  E. Chilufya     2021    73.076157\n",
       "231442  M. Browne       2020    73.126860\n",
       "248572  Pedro Brazão    2021    73.647191\n",
       "246682  K. Dembélé      2021    74.044664\n",
       "237512  G. Togni        2021    74.761878\n",
       "242162  H. Evjen        2020    75.127418\n",
       "240017  A. Olsen        2020    75.148634\n",
       "246423  L. Orellano     2021    75.241629\n",
       "238050  C. Ejuke        2020    75.372748\n",
       "251954  C. Summerville  2021    75.444021\n",
       "233848  J. Hauge        2021    75.747946\n",
       "246145  I. Aliseda      2020    76.717331\n",
       "248060  V. Mihăilă      2021    76.936131\n",
       "253293  B. Ocampo       2021    77.300574\n",
       "246045  P. De la Vega   2020    77.340296\n",
       "246420  J. Doku         2020    77.358513\n",
       "220710  H. Wilson       2020    77.615767\n",
       "dtype: float64"
      ]
     },
     "execution_count": 41,
     "metadata": {},
     "output_type": "execute_result"
    }
   ],
   "source": [
    "bool_ = (result_df<TARGET_OVERALL)&(y_test<TARGET_OVERALL)\n",
    "print(bool_.sum())\n",
    "result_df[bool_].sort_values().tail(20)"
   ]
  },
  {
   "cell_type": "code",
   "execution_count": 42,
   "metadata": {},
   "outputs": [
    {
     "name": "stdout",
     "output_type": "stream",
     "text": [
      "              precision    recall  f1-score   support\n",
      "\n",
      "       False       0.61      0.59      0.60        32\n",
      "        True       0.38      0.40      0.39        20\n",
      "\n",
      "    accuracy                           0.52        52\n",
      "   macro avg       0.50      0.50      0.50        52\n",
      "weighted avg       0.52      0.52      0.52        52\n",
      "\n"
     ]
    }
   ],
   "source": [
    "from sklearn.metrics import  classification_report\n",
    "print(classification_report(y_test>75, result_df>75))"
   ]
  },
  {
   "cell_type": "code",
   "execution_count": null,
   "metadata": {},
   "outputs": [],
   "source": []
  }
 ],
 "metadata": {
  "kernelspec": {
   "display_name": "Python 3",
   "language": "python",
   "name": "python3"
  },
  "language_info": {
   "codemirror_mode": {
    "name": "ipython",
    "version": 3
   },
   "file_extension": ".py",
   "mimetype": "text/x-python",
   "name": "python",
   "nbconvert_exporter": "python",
   "pygments_lexer": "ipython3",
   "version": "3.11.4"
  },
  "orig_nbformat": 4
 },
 "nbformat": 4,
 "nbformat_minor": 2
}
