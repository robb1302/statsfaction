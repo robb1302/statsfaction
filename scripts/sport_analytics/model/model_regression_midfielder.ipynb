{
 "cells": [
  {
   "cell_type": "markdown",
   "metadata": {},
   "source": [
    "Find Players with low potentials but high actual Rating\n",
    "- Label Players has a potential higher than 83 but never reaches this potential"
   ]
  },
  {
   "cell_type": "code",
   "execution_count": 421,
   "metadata": {},
   "outputs": [],
   "source": [
    "HYPERTRAINING = False\n",
    "CV = 5\n",
    "SCORING = 'r2'\n",
    "AUTO_FEATURE_SELECT = 'backward'\n",
    "# forward eher schlecht\n",
    "#'neg_mean_squared_error'   nope\n",
    "#r2 sehr gut -> 0.45\n",
    "# 'explained_variance'\n",
    "# HUBER\n",
    "if SCORING in ['neg_mean_squared_error']:\n",
    "    DIRECTION = \"minimize\"\n",
    "else:\n",
    "    DIRECTION = \"maximize\"\n",
    "TRIALS = 30    \n",
    "CLASS_WEIGHTS = 'balanced'\n",
    "EXPERIEMENT_NAME = \"potential_central_midfielder\"\n",
    "SAVE_MODEL_NAME = EXPERIEMENT_NAME\n",
    "RUN_NAME = None\n",
    "TARGET_OVERALL = 80\n",
    "\n",
    "PLAYER_ATTRIBUTES = [  'central','offense','Age','Crossing', 'Finishing', 'HeadingAccuracy', 'ShortPassing', 'Volleys', 'Dribbling', 'Curve', 'FKAccuracy', 'LongPassing', 'BallControl',\n",
    "                      'Acceleration', 'SprintSpeed', 'Agility', 'Composure', 'Defensive awareness', 'Reactions', 'Balance', \n",
    "                      'ShotPower', 'Jumping', 'Stamina', 'Strength', 'LongShots', 'Aggression', 'Interceptions', 'Positioning', 'Vision', 'Penalties', \n",
    "                      'StandingTackle', 'SlidingTackle',  'GKPositioning', 'GKReflexes','GKDiving', 'GKHandling', 'GKKicking']\n",
    "\n",
    "\n",
    "PLAYER_ATTRIBUTES = [   'Finishing',  'ShortPassing',  'Dribbling', 'FKAccuracy', 'LongPassing','Composure', \n",
    "                       'Stamina', 'Strength', 'LongShots', 'Interceptions', 'Positioning', 'Vision', 'StandingTackle',]\n",
    "\n",
    "\n"
   ]
  },
  {
   "cell_type": "code",
   "execution_count": 422,
   "metadata": {},
   "outputs": [
    {
     "name": "stdout",
     "output_type": "stream",
     "text": [
      "New current directory: c:\\Users\\Robert\\Documents\\Projekte\\dev\\statsfaction\n"
     ]
    }
   ],
   "source": [
    "import os\n",
    "import pandas as pd\n",
    "import numpy as np\n",
    "import sys\n",
    "import os\n",
    "\n",
    "def find_and_append_module_path():\n",
    "    current_dir = os.getcwd()\n",
    "    substring_to_find = 'statsfaction'\n",
    "    index = current_dir.rfind(substring_to_find)\n",
    "    \n",
    "    if index != -1:\n",
    "        # Extract the directory path up to and including the last \"mypath\" occurrence\n",
    "        new_dir = current_dir[:index + (len(substring_to_find))]\n",
    "\n",
    "        # Change the current working directory to the new directory\n",
    "        os.chdir(new_dir)\n",
    "        sys.path.append(new_dir)\n",
    "        # Verify the new current directory\n",
    "        print(\"New current directory:\", os.getcwd())\n",
    "    else:\n",
    "        print(\"No 'mypath' found in the current directory\")\n",
    "find_and_append_module_path()\n",
    "os.getcwd()\n",
    "\n",
    "from src.sport_analytics.model.prepare import add_features_raw_datadf_raw\n",
    "from src.sport_analytics.model.eval import plot_feature_importance,plot_shap_summary,plot_auc_curves\n",
    "import config as CONFIG"
   ]
  },
  {
   "cell_type": "markdown",
   "metadata": {},
   "source": [
    "### Get Data"
   ]
  },
  {
   "cell_type": "code",
   "execution_count": 423,
   "metadata": {},
   "outputs": [],
   "source": [
    "sql_prime = \"\"\"\n",
    "SELECT max(Age) as prime_age,* FROM(SELECT MAX(Overall) AS PrimeOverall,*\n",
    "  FROM fifa\n",
    "  GROUP BY ID ) \n",
    "  GROUP BY ID\n",
    "  order by PrimeOverall DESC;\n",
    "\"\"\"\n",
    "\n",
    "sql_potentials = f\"\"\"\n",
    "SELECT min(Age) as potential_age,* FROM  (SELECT *,Potential as max_potential FROM fifa WHERE Potential>={TARGET_OVERALL})\n",
    "GROUP BY ID\n",
    "order by potential DESC;\n",
    "\"\"\"\n",
    "\n"
   ]
  },
  {
   "cell_type": "code",
   "execution_count": 424,
   "metadata": {},
   "outputs": [
    {
     "name": "stdout",
     "output_type": "stream",
     "text": [
      "The autoreload extension is already loaded. To reload it, use:\n",
      "  %reload_ext autoreload\n"
     ]
    },
    {
     "data": {
      "text/html": [
       "<div>\n",
       "<style scoped>\n",
       "    .dataframe tbody tr th:only-of-type {\n",
       "        vertical-align: middle;\n",
       "    }\n",
       "\n",
       "    .dataframe tbody tr th {\n",
       "        vertical-align: top;\n",
       "    }\n",
       "\n",
       "    .dataframe thead th {\n",
       "        text-align: right;\n",
       "    }\n",
       "</style>\n",
       "<table border=\"1\" class=\"dataframe\">\n",
       "  <thead>\n",
       "    <tr style=\"text-align: right;\">\n",
       "      <th></th>\n",
       "      <th></th>\n",
       "      <th></th>\n",
       "      <th>potential_age</th>\n",
       "      <th>Age</th>\n",
       "      <th>Photo</th>\n",
       "      <th>Nationality</th>\n",
       "      <th>Flag</th>\n",
       "      <th>Overall</th>\n",
       "      <th>Potential</th>\n",
       "      <th>Club</th>\n",
       "      <th>Club Logo</th>\n",
       "      <th>Value</th>\n",
       "      <th>...</th>\n",
       "      <th>age_based_Reactions</th>\n",
       "      <th>age_based_Dribbling</th>\n",
       "      <th>age_based_physique</th>\n",
       "      <th>age_based_shooting_technique</th>\n",
       "      <th>age_based_Stamina</th>\n",
       "      <th>age_based_Positioning</th>\n",
       "      <th>age_based_Vision</th>\n",
       "      <th>age_based_Finishing</th>\n",
       "      <th>age_based_BallControl</th>\n",
       "      <th>age_based_shooting</th>\n",
       "    </tr>\n",
       "    <tr>\n",
       "      <th>ID</th>\n",
       "      <th>Name</th>\n",
       "      <th>FIFA</th>\n",
       "      <th></th>\n",
       "      <th></th>\n",
       "      <th></th>\n",
       "      <th></th>\n",
       "      <th></th>\n",
       "      <th></th>\n",
       "      <th></th>\n",
       "      <th></th>\n",
       "      <th></th>\n",
       "      <th></th>\n",
       "      <th></th>\n",
       "      <th></th>\n",
       "      <th></th>\n",
       "      <th></th>\n",
       "      <th></th>\n",
       "      <th></th>\n",
       "      <th></th>\n",
       "      <th></th>\n",
       "      <th></th>\n",
       "      <th></th>\n",
       "      <th></th>\n",
       "    </tr>\n",
       "  </thead>\n",
       "  <tbody>\n",
       "    <tr>\n",
       "      <th>158023</th>\n",
       "      <th>L. Messi</th>\n",
       "      <th>2011</th>\n",
       "      <td>23.0</td>\n",
       "      <td>23.0</td>\n",
       "      <td>https://cdn.sofifa.net/players/158/023/11_60.png</td>\n",
       "      <td>Argentina</td>\n",
       "      <td>https://cdn.sofifa.net/flags/ar.png</td>\n",
       "      <td>90.0</td>\n",
       "      <td>95.0</td>\n",
       "      <td>FC Barcelona</td>\n",
       "      <td>https://cdn.sofifa.net/meta/team/83/30.png</td>\n",
       "      <td>€0</td>\n",
       "      <td>...</td>\n",
       "      <td>17.502664</td>\n",
       "      <td>31.843694</td>\n",
       "      <td>-3.713144</td>\n",
       "      <td>29.699822</td>\n",
       "      <td>2.902309</td>\n",
       "      <td>31.346359</td>\n",
       "      <td>27.808171</td>\n",
       "      <td>36.721137</td>\n",
       "      <td>27.376554</td>\n",
       "      <td>33.410894</td>\n",
       "    </tr>\n",
       "    <tr>\n",
       "      <th>20801</th>\n",
       "      <th>Cristiano Ronaldo</th>\n",
       "      <th>2011</th>\n",
       "      <td>25.0</td>\n",
       "      <td>25.0</td>\n",
       "      <td>https://cdn.sofifa.net/players/020/801/11_60.png</td>\n",
       "      <td>Portugal</td>\n",
       "      <td>https://cdn.sofifa.net/flags/pt.png</td>\n",
       "      <td>89.0</td>\n",
       "      <td>94.0</td>\n",
       "      <td>Real Madrid</td>\n",
       "      <td>https://cdn.sofifa.net/meta/team/3468/30.png</td>\n",
       "      <td>€0</td>\n",
       "      <td>...</td>\n",
       "      <td>13.717460</td>\n",
       "      <td>28.879365</td>\n",
       "      <td>9.719048</td>\n",
       "      <td>32.160635</td>\n",
       "      <td>11.850794</td>\n",
       "      <td>28.977778</td>\n",
       "      <td>15.171429</td>\n",
       "      <td>34.958730</td>\n",
       "      <td>26.241270</td>\n",
       "      <td>33.225397</td>\n",
       "    </tr>\n",
       "    <tr>\n",
       "      <th>244778</th>\n",
       "      <th>Trincão</th>\n",
       "      <th>2021</th>\n",
       "      <td>20.0</td>\n",
       "      <td>20.0</td>\n",
       "      <td>https://cdn.sofifa.net/players/244/778/21_60.png</td>\n",
       "      <td>Portugal</td>\n",
       "      <td>https://cdn.sofifa.net/flags/pt.png</td>\n",
       "      <td>78.0</td>\n",
       "      <td>91.0</td>\n",
       "      <td>FC Barcelona</td>\n",
       "      <td>https://cdn.sofifa.net/meta/team/83/30.png</td>\n",
       "      <td>€34M</td>\n",
       "      <td>...</td>\n",
       "      <td>12.830986</td>\n",
       "      <td>20.380282</td>\n",
       "      <td>8.190781</td>\n",
       "      <td>16.056082</td>\n",
       "      <td>9.382843</td>\n",
       "      <td>16.982074</td>\n",
       "      <td>15.554417</td>\n",
       "      <td>20.797695</td>\n",
       "      <td>15.592830</td>\n",
       "      <td>15.660265</td>\n",
       "    </tr>\n",
       "    <tr>\n",
       "      <th>183277</th>\n",
       "      <th>E. Hazard</th>\n",
       "      <th>2011</th>\n",
       "      <td>19.0</td>\n",
       "      <td>19.0</td>\n",
       "      <td>https://cdn.sofifa.net/players/183/277/11_60.png</td>\n",
       "      <td>Belgium</td>\n",
       "      <td>https://cdn.sofifa.net/flags/be.png</td>\n",
       "      <td>81.0</td>\n",
       "      <td>91.0</td>\n",
       "      <td>LOSC Lille</td>\n",
       "      <td>https://cdn.sofifa.net/meta/team/690/30.png</td>\n",
       "      <td>€0</td>\n",
       "      <td>...</td>\n",
       "      <td>14.938728</td>\n",
       "      <td>19.894798</td>\n",
       "      <td>2.326590</td>\n",
       "      <td>19.198382</td>\n",
       "      <td>9.764162</td>\n",
       "      <td>23.989595</td>\n",
       "      <td>23.932948</td>\n",
       "      <td>24.187283</td>\n",
       "      <td>20.012717</td>\n",
       "      <td>22.174181</td>\n",
       "    </tr>\n",
       "    <tr>\n",
       "      <th>243812</th>\n",
       "      <th>Rodrygo</th>\n",
       "      <th>2021</th>\n",
       "      <td>19.0</td>\n",
       "      <td>19.0</td>\n",
       "      <td>https://cdn.sofifa.net/players/243/812/21_60.png</td>\n",
       "      <td>Brazil</td>\n",
       "      <td>https://cdn.sofifa.net/flags/br.png</td>\n",
       "      <td>79.0</td>\n",
       "      <td>90.0</td>\n",
       "      <td>Real Madrid</td>\n",
       "      <td>https://cdn.sofifa.net/meta/team/3468/30.png</td>\n",
       "      <td>€38M</td>\n",
       "      <td>...</td>\n",
       "      <td>14.938728</td>\n",
       "      <td>19.894798</td>\n",
       "      <td>0.326590</td>\n",
       "      <td>20.598382</td>\n",
       "      <td>16.764162</td>\n",
       "      <td>26.989595</td>\n",
       "      <td>12.932948</td>\n",
       "      <td>26.187283</td>\n",
       "      <td>14.012717</td>\n",
       "      <td>26.840848</td>\n",
       "    </tr>\n",
       "  </tbody>\n",
       "</table>\n",
       "<p>5 rows × 76 columns</p>\n",
       "</div>"
      ],
      "text/plain": [
       "                               potential_age   Age  \\\n",
       "ID     Name              FIFA                        \n",
       "158023 L. Messi          2011           23.0  23.0   \n",
       "20801  Cristiano Ronaldo 2011           25.0  25.0   \n",
       "244778 Trincão           2021           20.0  20.0   \n",
       "183277 E. Hazard         2011           19.0  19.0   \n",
       "243812 Rodrygo           2021           19.0  19.0   \n",
       "\n",
       "                                                                          Photo  \\\n",
       "ID     Name              FIFA                                                     \n",
       "158023 L. Messi          2011  https://cdn.sofifa.net/players/158/023/11_60.png   \n",
       "20801  Cristiano Ronaldo 2011  https://cdn.sofifa.net/players/020/801/11_60.png   \n",
       "244778 Trincão           2021  https://cdn.sofifa.net/players/244/778/21_60.png   \n",
       "183277 E. Hazard         2011  https://cdn.sofifa.net/players/183/277/11_60.png   \n",
       "243812 Rodrygo           2021  https://cdn.sofifa.net/players/243/812/21_60.png   \n",
       "\n",
       "                              Nationality  \\\n",
       "ID     Name              FIFA               \n",
       "158023 L. Messi          2011   Argentina   \n",
       "20801  Cristiano Ronaldo 2011    Portugal   \n",
       "244778 Trincão           2021    Portugal   \n",
       "183277 E. Hazard         2011     Belgium   \n",
       "243812 Rodrygo           2021      Brazil   \n",
       "\n",
       "                                                              Flag  Overall  \\\n",
       "ID     Name              FIFA                                                 \n",
       "158023 L. Messi          2011  https://cdn.sofifa.net/flags/ar.png     90.0   \n",
       "20801  Cristiano Ronaldo 2011  https://cdn.sofifa.net/flags/pt.png     89.0   \n",
       "244778 Trincão           2021  https://cdn.sofifa.net/flags/pt.png     78.0   \n",
       "183277 E. Hazard         2011  https://cdn.sofifa.net/flags/be.png     81.0   \n",
       "243812 Rodrygo           2021  https://cdn.sofifa.net/flags/br.png     79.0   \n",
       "\n",
       "                               Potential          Club  \\\n",
       "ID     Name              FIFA                            \n",
       "158023 L. Messi          2011       95.0  FC Barcelona   \n",
       "20801  Cristiano Ronaldo 2011       94.0   Real Madrid   \n",
       "244778 Trincão           2021       91.0  FC Barcelona   \n",
       "183277 E. Hazard         2011       91.0    LOSC Lille   \n",
       "243812 Rodrygo           2021       90.0   Real Madrid   \n",
       "\n",
       "                                                                  Club Logo  \\\n",
       "ID     Name              FIFA                                                 \n",
       "158023 L. Messi          2011    https://cdn.sofifa.net/meta/team/83/30.png   \n",
       "20801  Cristiano Ronaldo 2011  https://cdn.sofifa.net/meta/team/3468/30.png   \n",
       "244778 Trincão           2021    https://cdn.sofifa.net/meta/team/83/30.png   \n",
       "183277 E. Hazard         2011   https://cdn.sofifa.net/meta/team/690/30.png   \n",
       "243812 Rodrygo           2021  https://cdn.sofifa.net/meta/team/3468/30.png   \n",
       "\n",
       "                              Value  ... age_based_Reactions  \\\n",
       "ID     Name              FIFA        ...                       \n",
       "158023 L. Messi          2011    €0  ...           17.502664   \n",
       "20801  Cristiano Ronaldo 2011    €0  ...           13.717460   \n",
       "244778 Trincão           2021  €34M  ...           12.830986   \n",
       "183277 E. Hazard         2011    €0  ...           14.938728   \n",
       "243812 Rodrygo           2021  €38M  ...           14.938728   \n",
       "\n",
       "                               age_based_Dribbling age_based_physique  \\\n",
       "ID     Name              FIFA                                           \n",
       "158023 L. Messi          2011            31.843694          -3.713144   \n",
       "20801  Cristiano Ronaldo 2011            28.879365           9.719048   \n",
       "244778 Trincão           2021            20.380282           8.190781   \n",
       "183277 E. Hazard         2011            19.894798           2.326590   \n",
       "243812 Rodrygo           2021            19.894798           0.326590   \n",
       "\n",
       "                               age_based_shooting_technique  \\\n",
       "ID     Name              FIFA                                 \n",
       "158023 L. Messi          2011                     29.699822   \n",
       "20801  Cristiano Ronaldo 2011                     32.160635   \n",
       "244778 Trincão           2021                     16.056082   \n",
       "183277 E. Hazard         2011                     19.198382   \n",
       "243812 Rodrygo           2021                     20.598382   \n",
       "\n",
       "                               age_based_Stamina  age_based_Positioning  \\\n",
       "ID     Name              FIFA                                             \n",
       "158023 L. Messi          2011           2.902309              31.346359   \n",
       "20801  Cristiano Ronaldo 2011          11.850794              28.977778   \n",
       "244778 Trincão           2021           9.382843              16.982074   \n",
       "183277 E. Hazard         2011           9.764162              23.989595   \n",
       "243812 Rodrygo           2021          16.764162              26.989595   \n",
       "\n",
       "                               age_based_Vision  age_based_Finishing  \\\n",
       "ID     Name              FIFA                                          \n",
       "158023 L. Messi          2011         27.808171            36.721137   \n",
       "20801  Cristiano Ronaldo 2011         15.171429            34.958730   \n",
       "244778 Trincão           2021         15.554417            20.797695   \n",
       "183277 E. Hazard         2011         23.932948            24.187283   \n",
       "243812 Rodrygo           2021         12.932948            26.187283   \n",
       "\n",
       "                               age_based_BallControl  age_based_shooting  \n",
       "ID     Name              FIFA                                             \n",
       "158023 L. Messi          2011              27.376554           33.410894  \n",
       "20801  Cristiano Ronaldo 2011              26.241270           33.225397  \n",
       "244778 Trincão           2021              15.592830           15.660265  \n",
       "183277 E. Hazard         2011              20.012717           22.174181  \n",
       "243812 Rodrygo           2021              14.012717           26.840848  \n",
       "\n",
       "[5 rows x 76 columns]"
      ]
     },
     "execution_count": 424,
     "metadata": {},
     "output_type": "execute_result"
    }
   ],
   "source": [
    "%load_ext autoreload\n",
    "%autoreload 2\n",
    "import pandas as pd\n",
    "import sqlite3\n",
    "DATABASE_PATH = \"data/sport_analytics/database/football.db\"\n",
    "# Step 1: Establish a database connection\n",
    "conn = sqlite3.connect(DATABASE_PATH)\n",
    "\n",
    "df_potentials = pd.read_sql_query(sql_potentials, conn)\n",
    "df_prime = pd.read_sql_query(sql_prime, conn)\n",
    "\n",
    "conn.close()\n",
    "\n",
    "df_potentials = df_potentials.set_index(['ID'])\n",
    "df_prime = df_prime.set_index(['ID'])\n",
    "\n",
    "df_raw = df_potentials.join(df_prime[[\"prime_age\",\"PrimeOverall\"]])\n",
    "df_raw = df_raw.reset_index(['ID'])\n",
    "df_raw = add_features_raw_datadf_raw(df_raw)\n",
    "\n",
    "df_raw.head()\n"
   ]
  },
  {
   "cell_type": "markdown",
   "metadata": {},
   "source": [
    "# "
   ]
  },
  {
   "cell_type": "code",
   "execution_count": 425,
   "metadata": {},
   "outputs": [],
   "source": [
    "df = df_raw.copy()\n",
    "\n",
    "year_to_category = {2011: 'drop', 2012: 'train', 2013: 'train', 2014: 'train', 2015: 'train', 2016: 'train', 2017: 'train', 2018: 'train', 2019: 'train', 2020: 'test', 2021: 'test', 2022: 'valid', 2023: 'valid', 2024: 'valid'}\n",
    "df['set'] = df.index.get_level_values('FIFA').values\n",
    "# Apply the mapping to the \"FIFA\" column\n",
    "df['set'] = df['set'].map(year_to_category)\n",
    "\n",
    "df_potentials = df[(df.set==\"valid\")&(df.Age<26)&(df.Potential>=TARGET_OVERALL)]"
   ]
  },
  {
   "cell_type": "code",
   "execution_count": 426,
   "metadata": {},
   "outputs": [
    {
     "name": "stdout",
     "output_type": "stream",
     "text": [
      "target\n",
      "75.0    24\n",
      "73.0    24\n",
      "79.0    23\n",
      "77.0    22\n",
      "76.0    22\n",
      "84.0    18\n",
      "80.0    16\n",
      "78.0    16\n",
      "72.0    16\n",
      "74.0    13\n",
      "69.0     9\n",
      "82.0     9\n",
      "81.0     9\n",
      "71.0     8\n",
      "67.0     6\n",
      "86.0     5\n",
      "63.0     5\n",
      "83.0     5\n",
      "70.0     4\n",
      "68.0     3\n",
      "66.0     3\n",
      "64.0     2\n",
      "89.0     2\n",
      "88.0     2\n",
      "87.0     2\n",
      "85.0     2\n",
      "65.0     2\n",
      "60.0     1\n",
      "61.0     1\n",
      "Name: count, dtype: int64\n"
     ]
    }
   ],
   "source": [
    "df = df[(df.central == 1)&(df.offense == 0)]\n",
    "\n",
    "# Training nur auf High Potentials\n",
    "df = df[df.max_potential>TARGET_OVERALL]\n",
    "\n",
    "# nur Entwicklugnsfähige Spieler\n",
    "df = df[df.prime_age>df.potential_age]\n",
    "df = df[df.PrimeOverall>df.Overall]\n",
    "df['target'] = df.PrimeOverall\n",
    "df = df[df.potential_age<23]\n",
    "\n",
    "print(df.target.value_counts())\n",
    "PREDICTION_NAME = \"Offense\"\n",
    "\n",
    "df_processed = df.copy()"
   ]
  },
  {
   "cell_type": "code",
   "execution_count": 427,
   "metadata": {},
   "outputs": [
    {
     "data": {
      "text/html": [
       "<div>\n",
       "<style scoped>\n",
       "    .dataframe tbody tr th:only-of-type {\n",
       "        vertical-align: middle;\n",
       "    }\n",
       "\n",
       "    .dataframe tbody tr th {\n",
       "        vertical-align: top;\n",
       "    }\n",
       "\n",
       "    .dataframe thead th {\n",
       "        text-align: right;\n",
       "    }\n",
       "</style>\n",
       "<table border=\"1\" class=\"dataframe\">\n",
       "  <thead>\n",
       "    <tr style=\"text-align: right;\">\n",
       "      <th></th>\n",
       "      <th></th>\n",
       "      <th></th>\n",
       "      <th>potential_age</th>\n",
       "      <th>Age</th>\n",
       "      <th>prime_age</th>\n",
       "      <th>max_potential</th>\n",
       "      <th>Potential</th>\n",
       "      <th>Overall</th>\n",
       "      <th>PrimeOverall</th>\n",
       "      <th>target</th>\n",
       "      <th>set</th>\n",
       "      <th>best_position</th>\n",
       "    </tr>\n",
       "    <tr>\n",
       "      <th>ID</th>\n",
       "      <th>Name</th>\n",
       "      <th>FIFA</th>\n",
       "      <th></th>\n",
       "      <th></th>\n",
       "      <th></th>\n",
       "      <th></th>\n",
       "      <th></th>\n",
       "      <th></th>\n",
       "      <th></th>\n",
       "      <th></th>\n",
       "      <th></th>\n",
       "      <th></th>\n",
       "    </tr>\n",
       "  </thead>\n",
       "  <tbody>\n",
       "    <tr>\n",
       "      <th>230767</th>\n",
       "      <th>Renato Sanches</th>\n",
       "      <th>2017</th>\n",
       "      <td>18.0</td>\n",
       "      <td>18.0</td>\n",
       "      <td>23.0</td>\n",
       "      <td>90.0</td>\n",
       "      <td>90.0</td>\n",
       "      <td>78.0</td>\n",
       "      <td>80.0</td>\n",
       "      <td>80.0</td>\n",
       "      <td>train</td>\n",
       "      <td>CM</td>\n",
       "    </tr>\n",
       "    <tr>\n",
       "      <th>230658</th>\n",
       "      <th>Arthur</th>\n",
       "      <th>2019</th>\n",
       "      <td>21.0</td>\n",
       "      <td>21.0</td>\n",
       "      <td>22.0</td>\n",
       "      <td>90.0</td>\n",
       "      <td>90.0</td>\n",
       "      <td>82.0</td>\n",
       "      <td>84.0</td>\n",
       "      <td>84.0</td>\n",
       "      <td>train</td>\n",
       "      <td>CM</td>\n",
       "    </tr>\n",
       "    <tr>\n",
       "      <th>252371</th>\n",
       "      <th>J. Bellingham</th>\n",
       "      <th>2022</th>\n",
       "      <td>18.0</td>\n",
       "      <td>18.0</td>\n",
       "      <td>20.0</td>\n",
       "      <td>89.0</td>\n",
       "      <td>89.0</td>\n",
       "      <td>79.0</td>\n",
       "      <td>86.0</td>\n",
       "      <td>86.0</td>\n",
       "      <td>valid</td>\n",
       "      <td>CM</td>\n",
       "    </tr>\n",
       "    <tr>\n",
       "      <th>235569</th>\n",
       "      <th>T. Ndombele</th>\n",
       "      <th>2020</th>\n",
       "      <td>22.0</td>\n",
       "      <td>22.0</td>\n",
       "      <td>24.0</td>\n",
       "      <td>89.0</td>\n",
       "      <td>89.0</td>\n",
       "      <td>81.0</td>\n",
       "      <td>82.0</td>\n",
       "      <td>82.0</td>\n",
       "      <td>test</td>\n",
       "      <td>CM</td>\n",
       "    </tr>\n",
       "    <tr>\n",
       "      <th>248243</th>\n",
       "      <th>E. Camavinga</th>\n",
       "      <th>2021</th>\n",
       "      <td>17.0</td>\n",
       "      <td>17.0</td>\n",
       "      <td>20.0</td>\n",
       "      <td>88.0</td>\n",
       "      <td>88.0</td>\n",
       "      <td>76.0</td>\n",
       "      <td>82.0</td>\n",
       "      <td>82.0</td>\n",
       "      <td>test</td>\n",
       "      <td>CM</td>\n",
       "    </tr>\n",
       "  </tbody>\n",
       "</table>\n",
       "</div>"
      ],
      "text/plain": [
       "                            potential_age   Age  prime_age  max_potential  \\\n",
       "ID     Name           FIFA                                                  \n",
       "230767 Renato Sanches 2017           18.0  18.0       23.0           90.0   \n",
       "230658 Arthur         2019           21.0  21.0       22.0           90.0   \n",
       "252371 J. Bellingham  2022           18.0  18.0       20.0           89.0   \n",
       "235569 T. Ndombele    2020           22.0  22.0       24.0           89.0   \n",
       "248243 E. Camavinga   2021           17.0  17.0       20.0           88.0   \n",
       "\n",
       "                            Potential  Overall  PrimeOverall  target    set  \\\n",
       "ID     Name           FIFA                                                    \n",
       "230767 Renato Sanches 2017       90.0     78.0          80.0    80.0  train   \n",
       "230658 Arthur         2019       90.0     82.0          84.0    84.0  train   \n",
       "252371 J. Bellingham  2022       89.0     79.0          86.0    86.0  valid   \n",
       "235569 T. Ndombele    2020       89.0     81.0          82.0    82.0   test   \n",
       "248243 E. Camavinga   2021       88.0     76.0          82.0    82.0   test   \n",
       "\n",
       "                           best_position  \n",
       "ID     Name           FIFA                \n",
       "230767 Renato Sanches 2017            CM  \n",
       "230658 Arthur         2019            CM  \n",
       "252371 J. Bellingham  2022            CM  \n",
       "235569 T. Ndombele    2020            CM  \n",
       "248243 E. Camavinga   2021            CM  "
      ]
     },
     "execution_count": 427,
     "metadata": {},
     "output_type": "execute_result"
    }
   ],
   "source": [
    "df[[\"potential_age\",\"Age\",\"prime_age\",\"max_potential\",\"Potential\",\"Overall\",\"PrimeOverall\",\"target\",\"set\",\"best_position\"]].head()"
   ]
  },
  {
   "cell_type": "code",
   "execution_count": 428,
   "metadata": {},
   "outputs": [],
   "source": [
    "# if True:\n",
    "#     df = df[[any(pos in i for pos in ['CF', 'LW', 'ST', 'RW']) for i in df['Position']]]\n",
    "#     df.shape\n",
    "# else:\n",
    "#     select_position = lambda x: x in [\"ST\",\"CF\",\"LW\",\"RW\"]\n",
    "#     df[\"select\"] = df['Position'].apply(select_position)\n",
    "#     df = df[df[\"select\"]]\n",
    "#     df.shape"
   ]
  },
  {
   "cell_type": "markdown",
   "metadata": {},
   "source": [
    "###  Feature Engineering"
   ]
  },
  {
   "cell_type": "code",
   "execution_count": 429,
   "metadata": {},
   "outputs": [
    {
     "data": {
      "text/plain": [
       "Index(['Club', 'Marking', 'Composure', 'Defensive awareness', 'mental'], dtype='object')"
      ]
     },
     "execution_count": 429,
     "metadata": {},
     "output_type": "execute_result"
    }
   ],
   "source": [
    "df_processed.columns[df_processed.isna().sum()>0]"
   ]
  },
  {
   "cell_type": "markdown",
   "metadata": {},
   "source": [
    "#### Transform Value"
   ]
  },
  {
   "cell_type": "code",
   "execution_count": 430,
   "metadata": {},
   "outputs": [],
   "source": [
    "df_processed = df_processed.fillna(0)\n",
    "df_potentials = df_potentials.fillna(0)"
   ]
  },
  {
   "cell_type": "code",
   "execution_count": 431,
   "metadata": {},
   "outputs": [
    {
     "data": {
      "text/plain": [
       "<Axes: >"
      ]
     },
     "execution_count": 431,
     "metadata": {},
     "output_type": "execute_result"
    },
    {
     "data": {
      "image/png": "[encoded data removed]",
      "text/plain": [
       "<Figure size 640x480 with 1 Axes>"
      ]
     },
     "metadata": {},
     "output_type": "display_data"
    }
   ],
   "source": [
    "df['target'].hist()"
   ]
  },
  {
   "cell_type": "code",
   "execution_count": 432,
   "metadata": {},
   "outputs": [],
   "source": [
    "X = df_processed.drop(\"target\", axis=1, errors='ignore')\n",
    "y = df['target']  # Use df_processed here instead of df\n",
    "# Split the data into training and testing sets"
   ]
  },
  {
   "cell_type": "code",
   "execution_count": 433,
   "metadata": {},
   "outputs": [
    {
     "data": {
      "text/plain": [
       "Index(['potential_age', 'Age', 'Photo', 'Nationality', 'Flag', 'Overall',\n",
       "       'Potential', 'Club', 'Club Logo', 'Value', 'Wage', 'Special',\n",
       "       'Position', 'Unnamed: 0', 'Crossing', 'Finishing', 'HeadingAccuracy',\n",
       "       'ShortPassing', 'Volleys', 'Dribbling', 'Curve', 'FKAccuracy',\n",
       "       'LongPassing', 'BallControl', 'Acceleration', 'SprintSpeed', 'Agility',\n",
       "       'Reactions', 'Balance', 'ShotPower', 'Jumping', 'Stamina', 'Strength',\n",
       "       'LongShots', 'Aggression', 'Interceptions', 'Positioning', 'Vision',\n",
       "       'Penalties', 'Marking', 'StandingTackle', 'SlidingTackle', 'GKDiving',\n",
       "       'GKHandling', 'GKKicking', 'GKPositioning', 'GKReflexes', 'Composure',\n",
       "       'Defensive awareness', 'max_potential', 'prime_age', 'PrimeOverall',\n",
       "       'best_position', 'central', 'winger', 'offense', 'Defense',\n",
       "       'overall_age_ratio', 'youth_player', 'shooting', 'shooting_technique',\n",
       "       'mental', 'physique', 'Speed', 'ball_handling', 'age_based_Strength',\n",
       "       'age_based_Reactions', 'age_based_Dribbling', 'age_based_physique',\n",
       "       'age_based_shooting_technique', 'age_based_Stamina',\n",
       "       'age_based_Positioning', 'age_based_Vision', 'age_based_Finishing',\n",
       "       'age_based_BallControl', 'age_based_shooting', 'set', 'target'],\n",
       "      dtype='object')"
      ]
     },
     "execution_count": 433,
     "metadata": {},
     "output_type": "execute_result"
    }
   ],
   "source": [
    "df_processed.columns"
   ]
  },
  {
   "cell_type": "code",
   "execution_count": 434,
   "metadata": {},
   "outputs": [],
   "source": [
    "\n",
    "\n",
    "from sklearn.model_selection import train_test_split\n",
    "if False:\n",
    "    # Step 1: Split the data into training and testing sets\n",
    "    X_train, X_test, y_train, y_test = train_test_split(X, y, test_size=0.2, random_state=42)\n",
    "\n",
    "    X_train = X_train[PLAYER_ATTRIBUTES]\n",
    "    X_test = X_test[PLAYER_ATTRIBUTES]\n",
    "\n",
    "else:\n",
    "\n",
    "    X_train = X[X.set==\"train\"][PLAYER_ATTRIBUTES]\n",
    "    y_train = y[X.set==\"train\"]\n",
    "\n",
    "    X_test = X[X.set==\"test\"][PLAYER_ATTRIBUTES]\n",
    "    y_test = y[X.set==\"test\"]\n"
   ]
  },
  {
   "cell_type": "code",
   "execution_count": 435,
   "metadata": {},
   "outputs": [
    {
     "data": {
      "text/plain": [
       "count    152.000000\n",
       "mean      77.105263\n",
       "std        5.362561\n",
       "min       63.000000\n",
       "25%       74.000000\n",
       "50%       77.000000\n",
       "75%       81.000000\n",
       "max       89.000000\n",
       "Name: target, dtype: float64"
      ]
     },
     "execution_count": 435,
     "metadata": {},
     "output_type": "execute_result"
    }
   ],
   "source": [
    "y_train.describe()"
   ]
  },
  {
   "cell_type": "code",
   "execution_count": 436,
   "metadata": {},
   "outputs": [],
   "source": [
    "import warnings\n",
    "\n",
    "# Ignore all warnings\n",
    "warnings.filterwarnings(\"ignore\")\n",
    "# Load your dataset or replace df_processed and df with your data\n",
    "# df_processed = pd.read_csv('your_dataset.csv')\n",
    "\n",
    "import pandas as pd\n",
    "\n",
    "from sklearn.preprocessing import StandardScaler\n",
    "# Step 2: Initialize a StandardScaler\n",
    "scaler = StandardScaler()\n",
    "\n",
    "# Step 3: Fit the scaler on the training data and transform both training \n",
    "# and testing data\n",
    "X_train_scaled = scaler.fit_transform(X_train)\n",
    "X_test_scaled = scaler.transform(X_test)\n",
    "\n",
    "df_potentials_scaled = scaler.transform(df_potentials[PLAYER_ATTRIBUTES].fillna(0))\n",
    "\n",
    "# Step 4: Create new DataFrames with the scaled data while preserving the index and columns\n",
    "X_train_scaled_df = pd.DataFrame(X_train_scaled, index=X_train.index, columns=PLAYER_ATTRIBUTES)\n",
    "X_test_scaled_df = pd.DataFrame(X_test_scaled, index=X_test.index, columns=PLAYER_ATTRIBUTES)\n",
    "df_potentials_scaled_df = pd.DataFrame(df_potentials_scaled, index=df_potentials.index, columns=PLAYER_ATTRIBUTES)"
   ]
  },
  {
   "cell_type": "markdown",
   "metadata": {},
   "source": [
    "# Hyperparametertuning"
   ]
  },
  {
   "cell_type": "code",
   "execution_count": 437,
   "metadata": {},
   "outputs": [],
   "source": [
    "import optuna\n",
    "from sklearn.ensemble import RandomForestRegressor\n",
    "from sklearn.metrics import mean_squared_error\n",
    "from sklearn.model_selection import cross_val_score\n",
    "\n",
    "if HYPERTRAINING:\n",
    "    def objective(trial):\n",
    "        # Define hyperparameters to optimize\n",
    "        params = {\n",
    "            'n_estimators': trial.suggest_int('n_estimators', 100, 500),\n",
    "            'max_depth': trial.suggest_int('max_depth', 1, 8),\n",
    "            'min_samples_split': trial.suggest_float('min_samples_split', 0.1, 1.0),\n",
    "            'min_samples_leaf': trial.suggest_float('min_samples_leaf', 0.1, 0.5),\n",
    "            'max_features': trial.suggest_float('max_features', 0.2, 1.0),\n",
    "            'random_state': 42\n",
    "        }\n",
    "\n",
    "        # Implement cross-validation\n",
    "        cv_scores = cross_val_score(RandomForestRegressor(**params), X_train_scaled_df, y_train, cv=CV, scoring=SCORING)\n",
    "        mean_mse = cv_scores.mean()  # Note the negative sign for mean_squared_error\n",
    "\n",
    "        return mean_mse\n",
    "\n",
    "    # Create an Optuna study for minimizing Mean Squared Error\n",
    "    study = optuna.create_study(direction=DIRECTION)\n",
    "    study.optimize(objective, n_trials=TRIALS)  # You can increase n_trials for more optimization\n",
    "\n",
    "    PARAMS_RF = study.best_params\n",
    "    best_mse = study.best_value  # Note the negative sign for mean_squared_error\n",
    "\n",
    "    print(\"Best hyperparameters:\", PARAMS_RF)\n",
    "    print(f\"Best Mean {SCORING}:\", best_mse)\n",
    "else:\n",
    "    PARAMS_RF = {}\n"
   ]
  },
  {
   "cell_type": "code",
   "execution_count": 438,
   "metadata": {},
   "outputs": [],
   "source": [
    "import optuna\n",
    "from sklearn.ensemble import GradientBoostingRegressor\n",
    "from sklearn.metrics import mean_squared_error\n",
    "from sklearn.model_selection import cross_val_score, KFold\n",
    "\n",
    "if HYPERTRAINING:\n",
    "    def objective(trial):\n",
    "        # Define hyperparameters to optimize\n",
    "        params = {\n",
    "            'n_estimators': trial.suggest_int('n_estimators', 100, 500),\n",
    "            'max_depth': trial.suggest_int('max_depth', 1, 8),\n",
    "            'min_samples_split': trial.suggest_float('min_samples_split', 0.1, 1.0),\n",
    "            'min_samples_leaf': trial.suggest_float('min_samples_leaf', 0.1, 0.5),\n",
    "            'max_features': trial.suggest_float('max_features', 0.6, 1.0),\n",
    "            'random_state': 42\n",
    "        }\n",
    "\n",
    "        # Implement cross-validation\n",
    "        cv_scores = cross_val_score(GradientBoostingRegressor(**params), X_train_scaled_df, y_train, cv=CV, scoring=SCORING)\n",
    "        mean_mse = cv_scores.mean()  # Note the negative sign for mean_squared_error\n",
    "\n",
    "        return mean_mse\n",
    "\n",
    "    # Create an Optuna study for minimizing Mean Squared Error\n",
    "    study = optuna.create_study(direction=DIRECTION)\n",
    "    study.optimize(objective, n_trials=TRIALS)  # You can increase n_trials for more optimization\n",
    "\n",
    "    PARAMS_GB = study.best_params\n",
    "    best_mse = study.best_value  # Note the negative sign for mean_squared_error\n",
    "\n",
    "    print(\"Best hyperparameters:\", PARAMS_GB)\n",
    "    print(f\"Best Mean {SCORING}:\", best_mse)\n",
    "else:\n",
    "    PARAMS_GB = {}\n"
   ]
  },
  {
   "cell_type": "code",
   "execution_count": 439,
   "metadata": {},
   "outputs": [],
   "source": [
    "import optuna\n",
    "from sklearn.linear_model import Ridge\n",
    "from sklearn.metrics import mean_squared_error\n",
    "from sklearn.model_selection import cross_val_score, KFold\n",
    "\n",
    "if HYPERTRAINING:\n",
    "    def objective(trial):\n",
    "        # Define hyperparameters to optimize\n",
    "        params = {\n",
    "            'alpha': trial.suggest_float('alpha', 0.01, 10.0),\n",
    "            'fit_intercept': trial.suggest_categorical('fit_intercept', [True, False]),\n",
    "        }\n",
    "\n",
    "        # Implement cross-validation\n",
    "        cv_scores = cross_val_score(Ridge(**params), X_train_scaled_df, y_train, cv=CV, scoring=SCORING)\n",
    "        mean_mse = cv_scores.mean()  # Note the negative sign for mean_squared_error\n",
    "\n",
    "        return mean_mse\n",
    "\n",
    "    # Create an Optuna study for minimizing Mean Squared Error\n",
    "    study = optuna.create_study(direction=DIRECTION)\n",
    "    study.optimize(objective, n_trials=TRIALS)  # You can increase n_trials for more optimization\n",
    "\n",
    "    PARAMS_RIDGE = study.best_params\n",
    "    best_mse = study.best_value  # Note the negative sign for mean_squared_error\n",
    "\n",
    "    print(\"Best hyperparameters:\", PARAMS_RIDGE)\n",
    "    print(f\"Best Mean {SCORING}:\", best_mse)\n",
    "else:\n",
    "    PARAMS_RIDGE = {}\n"
   ]
  },
  {
   "cell_type": "markdown",
   "metadata": {},
   "source": [
    "# TODOS\n",
    "- SHAP Values for Regression Models -> DONE\n",
    "- SCV and Logistic Regression -> nope\n",
    "- Hyperparameter Tuning -> nope\n",
    "- classification model einbauen -> DONE\n",
    "- Make Usable in Deployment  -> DONE\n",
    "- Finishing + FKAccuaracy -> Shooting\n",
    "- Blog umschreiben\n",
    "- Video machen :)"
   ]
  },
  {
   "cell_type": "code",
   "execution_count": 440,
   "metadata": {},
   "outputs": [
    {
     "name": "stdout",
     "output_type": "stream",
     "text": [
      "Ridge Regression training----->\n"
     ]
    },
    {
     "data": {
      "image/png": "[encoded data removed]",
      "text/plain": [
       "<Figure size 1000x800 with 1 Axes>"
      ]
     },
     "metadata": {},
     "output_type": "display_data"
    },
    {
     "name": "stderr",
     "output_type": "stream",
     "text": [
      "100%|██████████| 30/30 [00:01<00:00, 24.82it/s]\n"
     ]
    },
    {
     "data": {
      "image/png": "[encoded data removed]",
      "text/plain": [
       "<Figure size 800x430 with 2 Axes>"
      ]
     },
     "metadata": {},
     "output_type": "display_data"
    },
    {
     "name": "stdout",
     "output_type": "stream",
     "text": [
      "              precision    recall  f1-score   support\n",
      "\n",
      "       False       0.95      0.90      0.93        42\n",
      "        True       0.43      0.60      0.50         5\n",
      "\n",
      "    accuracy                           0.87        47\n",
      "   macro avg       0.69      0.75      0.71        47\n",
      "weighted avg       0.89      0.87      0.88        47\n",
      "\n",
      "Huber Regression training----->\n"
     ]
    },
    {
     "data": {
      "image/png": "[encoded data removed]",
      "text/plain": [
       "<Figure size 1000x800 with 1 Axes>"
      ]
     },
     "metadata": {},
     "output_type": "display_data"
    },
    {
     "name": "stderr",
     "output_type": "stream",
     "text": [
      "100%|██████████| 30/30 [00:01<00:00, 16.34it/s]\n"
     ]
    },
    {
     "data": {
      "image/png": "[encoded data removed]",
      "text/plain": [
       "<Figure size 800x430 with 2 Axes>"
      ]
     },
     "metadata": {},
     "output_type": "display_data"
    },
    {
     "name": "stdout",
     "output_type": "stream",
     "text": [
      "              precision    recall  f1-score   support\n",
      "\n",
      "       False       0.95      0.93      0.94        42\n",
      "        True       0.50      0.60      0.55         5\n",
      "\n",
      "    accuracy                           0.89        47\n",
      "   macro avg       0.73      0.76      0.74        47\n",
      "weighted avg       0.90      0.89      0.90        47\n",
      "\n",
      "Linear Regression training----->\n"
     ]
    },
    {
     "data": {
      "image/png": "[encoded data removed]",
      "text/plain": [
       "<Figure size 1000x800 with 1 Axes>"
      ]
     },
     "metadata": {},
     "output_type": "display_data"
    },
    {
     "name": "stderr",
     "output_type": "stream",
     "text": [
      "100%|██████████| 30/30 [00:01<00:00, 15.97it/s]\n"
     ]
    },
    {
     "data": {
      "image/png": "[encoded data removed]",
      "text/plain": [
       "<Figure size 800x430 with 2 Axes>"
      ]
     },
     "metadata": {},
     "output_type": "display_data"
    },
    {
     "name": "stdout",
     "output_type": "stream",
     "text": [
      "              precision    recall  f1-score   support\n",
      "\n",
      "       False       0.95      0.90      0.93        42\n",
      "        True       0.43      0.60      0.50         5\n",
      "\n",
      "    accuracy                           0.87        47\n",
      "   macro avg       0.69      0.75      0.71        47\n",
      "weighted avg       0.89      0.87      0.88        47\n",
      "\n",
      "Model: Ridge Regression\n",
      "Mean Squared Error: 18.93\n",
      "Mean Absolute Error: 3.69\n",
      "R2 Score: 0.21\n",
      "\n",
      "Model: Huber Regression\n",
      "Mean Squared Error: 17.71\n",
      "Mean Absolute Error: 3.56\n",
      "R2 Score: 0.26\n",
      "\n",
      "Model: Linear Regression\n",
      "Mean Squared Error: 18.92\n",
      "Mean Absolute Error: 3.69\n",
      "R2 Score: 0.21\n",
      "\n"
     ]
    }
   ],
   "source": [
    "from sklearn.linear_model import LinearRegression,HuberRegressor\n",
    "\n",
    "from src.sport_analytics.model.eval import plot_feature_importance, log_metrics_in_mlflow_regression,log_metrics_in_mlflow, log_feature_list_as_artifact, plot_shap_summary\n",
    "from src.sport_analytics.model.prepare import select_features\n",
    "from src.sport_analytics.utils import *\n",
    "import mlflow\n",
    "import mlflow.sklearn\n",
    "import mlflow.xgboost\n",
    "import mlflow.lightgbm\n",
    "import pandas as pd\n",
    "from sklearn.metrics import mean_squared_error, mean_absolute_error, r2_score\n",
    "\n",
    "from sklearn.linear_model import Ridge\n",
    "\n",
    "\n",
    "\n",
    "regression_models = {\n",
    "    'Ridge Regression': Ridge(**PARAMS_RIDGE),\n",
    "    'Huber Regression':HuberRegressor(),\n",
    "    # 'AdaBoost Regressor': AdaBoostRegressor(random_state=42),\n",
    "\n",
    "    # 'Lasso Regression': Lasso(),\n",
    "    # 'ElasticNet Regression': ElasticNet(),\n",
    "    'Linear Regression': LinearRegression(),\n",
    "    # 'Random Forest Regressor': RandomForestRegressor(**PARAMS_RF,random_state=42),\n",
    "    # 'Gradient Boosting Regressor': GradientBoostingRegressor(**PARAMS_GB,random_state=42),\n",
    "    # 'XGBoost Regressor': xgb.XGBRegressor(random_state=42),\n",
    "    # 'LightGBM Regressor': lgb.LGBMRegressor(random_state=42)\n",
    "    # Add more models as needed\n",
    "}\n",
    "\n",
    "\n",
    "regression_results = {}\n",
    "import datetime\n",
    "# Set the experiment name\n",
    "mlflow.set_experiment(EXPERIEMENT_NAME)\n",
    "\n",
    "# Start MLflow run with a specific run name and description\n",
    "for model_name, model in regression_models.items():\n",
    "    from datetime import datetime\n",
    "\n",
    "    # Get the current timestamp\n",
    "    timestamp = datetime.now().strftime(\"%Y%m%d%H%M%S\")\n",
    "    with mlflow.start_run(run_name=f\"{model_name}_{timestamp}\"):\n",
    "\n",
    "        print(model_name, \"training----->\")\n",
    "\n",
    "        # Log parameters\n",
    "        mlflow.log_param(\"Model_Name\", model_name)\n",
    "        mlflow.log_params(model.get_params())\n",
    "\n",
    "        features = select_features(method=AUTO_FEATURE_SELECT,X=X_train_scaled_df,y=y_train,model=model)\n",
    "        \n",
    "        model.fit(X_train_scaled_df[features], y_train)\n",
    "        y_pred = model.predict(X_test_scaled_df[features])\n",
    "        \n",
    "        # Log Params\n",
    "        log_feature_list_as_artifact(PLAYER_ATTRIBUTES, filename=\"feature_list.txt\")\n",
    "\n",
    "        # Create a dictionary with parameters and their values\n",
    "        params_to_log = {\n",
    "            'HYPERTRAINING': HYPERTRAINING,\n",
    "            'CV': CV,\n",
    "            'SCORING': SCORING,\n",
    "            'features_anzahl': len(features),\n",
    "            'TARGET_OVERALL': TARGET_OVERALL\n",
    "        }\n",
    "\n",
    "        # Log parameters using log_params\n",
    "        mlflow.log_params(params_to_log)\n",
    "\n",
    "        # Log artifacts\n",
    "        mlflow.sklearn.log_model(model, model_name)\n",
    "\n",
    "        # Evaluation Metrics\n",
    "        log_metrics_in_mlflow_regression(y_test=y_test, y_pred=y_pred,X = X_test_scaled_df[features])\n",
    "        log_metrics_in_mlflow(y_test=y_test>TARGET_OVERALL,y_prob=None,y_pred=y_pred>TARGET_OVERALL)\n",
    "\n",
    "        # Evaluation Plots (Note: Regression models may not have ROC curves, so adapt this as needed)\n",
    "        plot_feature_importance(model, '', top_n=20)\n",
    "        explainer = plot_shap_summary(model=model,df=X_test_scaled_df[features],K = 30)\n",
    "\n",
    "        # Output for quick evaluation\n",
    "        mse = mean_squared_error(y_test, y_pred)\n",
    "        mae = mean_absolute_error(y_test, y_pred)\n",
    "        r2 = r2_score(y_test, y_pred)\n",
    "        \n",
    "        from sklearn.metrics import  classification_report\n",
    "        report = classification_report(y_test>TARGET_OVERALL, y_pred>TARGET_OVERALL)\n",
    "        print(report)\n",
    "\n",
    "     \n",
    "        regression_results[model_name] = {\n",
    "            'Model': model,\n",
    "            'Scaler': scaler,\n",
    "            'explainer':explainer,\n",
    "            'attributes': features,\n",
    "            'Classification Report': report,\n",
    "            'Mean Squared Error': mse,\n",
    "            'Mean Absolute Error': mae,\n",
    "            'R2 Score': r2\n",
    "        }\n",
    "\n",
    "# Evaluate and print results for each model\n",
    "for model_name, results in regression_results.items():\n",
    "    print(f\"Model: {model_name}\")\n",
    "    print(f\"Mean Squared Error: {results['Mean Squared Error']:.2f}\")\n",
    "    print(f\"Mean Absolute Error: {results['Mean Absolute Error']:.2f}\")\n",
    "    print(f\"R2 Score: {results['R2 Score']:.2f}\")\n",
    "    print()\n",
    "\n",
    "\n"
   ]
  },
  {
   "cell_type": "code",
   "execution_count": 441,
   "metadata": {},
   "outputs": [],
   "source": [
    "from src.sport_analytics.model.utils import *\n",
    "if SAVE_MODEL_NAME!=\"\":\n",
    "    save_dict_as_pickle(data_dict = regression_results, file_path=f\"{CONFIG.TRAINED_MODELS}/{SAVE_MODEL_NAME}.pkl\")"
   ]
  },
  {
   "cell_type": "markdown",
   "metadata": {},
   "source": [
    "# evaluate Model"
   ]
  },
  {
   "cell_type": "code",
   "execution_count": 442,
   "metadata": {},
   "outputs": [
    {
     "data": {
      "text/html": [
       "<div>\n",
       "<style scoped>\n",
       "    .dataframe tbody tr th:only-of-type {\n",
       "        vertical-align: middle;\n",
       "    }\n",
       "\n",
       "    .dataframe tbody tr th {\n",
       "        vertical-align: top;\n",
       "    }\n",
       "\n",
       "    .dataframe thead th {\n",
       "        text-align: right;\n",
       "    }\n",
       "</style>\n",
       "<table border=\"1\" class=\"dataframe\">\n",
       "  <thead>\n",
       "    <tr style=\"text-align: right;\">\n",
       "      <th></th>\n",
       "      <th>Finishing</th>\n",
       "      <th>ShortPassing</th>\n",
       "      <th>Dribbling</th>\n",
       "      <th>FKAccuracy</th>\n",
       "      <th>LongPassing</th>\n",
       "      <th>Composure</th>\n",
       "      <th>Stamina</th>\n",
       "      <th>Strength</th>\n",
       "      <th>LongShots</th>\n",
       "      <th>Interceptions</th>\n",
       "      <th>Positioning</th>\n",
       "      <th>Vision</th>\n",
       "      <th>StandingTackle</th>\n",
       "    </tr>\n",
       "  </thead>\n",
       "  <tbody>\n",
       "    <tr>\n",
       "      <th>count</th>\n",
       "      <td>152.000000</td>\n",
       "      <td>152.000000</td>\n",
       "      <td>152.000000</td>\n",
       "      <td>152.000000</td>\n",
       "      <td>152.000000</td>\n",
       "      <td>152.000000</td>\n",
       "      <td>152.000000</td>\n",
       "      <td>152.000000</td>\n",
       "      <td>152.000000</td>\n",
       "      <td>152.000000</td>\n",
       "      <td>152.000000</td>\n",
       "      <td>152.000000</td>\n",
       "      <td>152.000000</td>\n",
       "    </tr>\n",
       "    <tr>\n",
       "      <th>mean</th>\n",
       "      <td>54.697368</td>\n",
       "      <td>74.190789</td>\n",
       "      <td>69.763158</td>\n",
       "      <td>55.105263</td>\n",
       "      <td>70.776316</td>\n",
       "      <td>35.236842</td>\n",
       "      <td>71.750000</td>\n",
       "      <td>63.375000</td>\n",
       "      <td>62.223684</td>\n",
       "      <td>61.171053</td>\n",
       "      <td>62.500000</td>\n",
       "      <td>69.657895</td>\n",
       "      <td>62.151316</td>\n",
       "    </tr>\n",
       "    <tr>\n",
       "      <th>std</th>\n",
       "      <td>10.225950</td>\n",
       "      <td>4.860618</td>\n",
       "      <td>6.398196</td>\n",
       "      <td>11.540977</td>\n",
       "      <td>5.265403</td>\n",
       "      <td>33.179571</td>\n",
       "      <td>10.279698</td>\n",
       "      <td>11.502843</td>\n",
       "      <td>11.058063</td>\n",
       "      <td>10.624086</td>\n",
       "      <td>7.786046</td>\n",
       "      <td>6.681104</td>\n",
       "      <td>8.760810</td>\n",
       "    </tr>\n",
       "    <tr>\n",
       "      <th>min</th>\n",
       "      <td>28.000000</td>\n",
       "      <td>57.000000</td>\n",
       "      <td>44.000000</td>\n",
       "      <td>31.000000</td>\n",
       "      <td>55.000000</td>\n",
       "      <td>0.000000</td>\n",
       "      <td>40.000000</td>\n",
       "      <td>30.000000</td>\n",
       "      <td>35.000000</td>\n",
       "      <td>26.000000</td>\n",
       "      <td>43.000000</td>\n",
       "      <td>37.000000</td>\n",
       "      <td>38.000000</td>\n",
       "    </tr>\n",
       "    <tr>\n",
       "      <th>25%</th>\n",
       "      <td>47.000000</td>\n",
       "      <td>71.750000</td>\n",
       "      <td>66.000000</td>\n",
       "      <td>46.750000</td>\n",
       "      <td>68.000000</td>\n",
       "      <td>0.000000</td>\n",
       "      <td>66.750000</td>\n",
       "      <td>57.750000</td>\n",
       "      <td>56.000000</td>\n",
       "      <td>56.000000</td>\n",
       "      <td>57.000000</td>\n",
       "      <td>66.000000</td>\n",
       "      <td>56.000000</td>\n",
       "    </tr>\n",
       "    <tr>\n",
       "      <th>50%</th>\n",
       "      <td>56.000000</td>\n",
       "      <td>74.500000</td>\n",
       "      <td>70.000000</td>\n",
       "      <td>55.000000</td>\n",
       "      <td>71.000000</td>\n",
       "      <td>56.500000</td>\n",
       "      <td>73.000000</td>\n",
       "      <td>64.000000</td>\n",
       "      <td>64.500000</td>\n",
       "      <td>63.000000</td>\n",
       "      <td>63.000000</td>\n",
       "      <td>70.000000</td>\n",
       "      <td>63.500000</td>\n",
       "    </tr>\n",
       "    <tr>\n",
       "      <th>75%</th>\n",
       "      <td>63.000000</td>\n",
       "      <td>78.000000</td>\n",
       "      <td>74.000000</td>\n",
       "      <td>64.250000</td>\n",
       "      <td>74.250000</td>\n",
       "      <td>66.000000</td>\n",
       "      <td>78.000000</td>\n",
       "      <td>71.000000</td>\n",
       "      <td>71.000000</td>\n",
       "      <td>68.000000</td>\n",
       "      <td>68.000000</td>\n",
       "      <td>74.000000</td>\n",
       "      <td>68.250000</td>\n",
       "    </tr>\n",
       "    <tr>\n",
       "      <th>max</th>\n",
       "      <td>77.000000</td>\n",
       "      <td>86.000000</td>\n",
       "      <td>86.000000</td>\n",
       "      <td>79.000000</td>\n",
       "      <td>84.000000</td>\n",
       "      <td>84.000000</td>\n",
       "      <td>93.000000</td>\n",
       "      <td>88.000000</td>\n",
       "      <td>87.000000</td>\n",
       "      <td>82.000000</td>\n",
       "      <td>83.000000</td>\n",
       "      <td>85.000000</td>\n",
       "      <td>82.000000</td>\n",
       "    </tr>\n",
       "  </tbody>\n",
       "</table>\n",
       "</div>"
      ],
      "text/plain": [
       "        Finishing  ShortPassing   Dribbling  FKAccuracy  LongPassing  \\\n",
       "count  152.000000    152.000000  152.000000  152.000000   152.000000   \n",
       "mean    54.697368     74.190789   69.763158   55.105263    70.776316   \n",
       "std     10.225950      4.860618    6.398196   11.540977     5.265403   \n",
       "min     28.000000     57.000000   44.000000   31.000000    55.000000   \n",
       "25%     47.000000     71.750000   66.000000   46.750000    68.000000   \n",
       "50%     56.000000     74.500000   70.000000   55.000000    71.000000   \n",
       "75%     63.000000     78.000000   74.000000   64.250000    74.250000   \n",
       "max     77.000000     86.000000   86.000000   79.000000    84.000000   \n",
       "\n",
       "        Composure     Stamina    Strength   LongShots  Interceptions  \\\n",
       "count  152.000000  152.000000  152.000000  152.000000     152.000000   \n",
       "mean    35.236842   71.750000   63.375000   62.223684      61.171053   \n",
       "std     33.179571   10.279698   11.502843   11.058063      10.624086   \n",
       "min      0.000000   40.000000   30.000000   35.000000      26.000000   \n",
       "25%      0.000000   66.750000   57.750000   56.000000      56.000000   \n",
       "50%     56.500000   73.000000   64.000000   64.500000      63.000000   \n",
       "75%     66.000000   78.000000   71.000000   71.000000      68.000000   \n",
       "max     84.000000   93.000000   88.000000   87.000000      82.000000   \n",
       "\n",
       "       Positioning      Vision  StandingTackle  \n",
       "count   152.000000  152.000000      152.000000  \n",
       "mean     62.500000   69.657895       62.151316  \n",
       "std       7.786046    6.681104        8.760810  \n",
       "min      43.000000   37.000000       38.000000  \n",
       "25%      57.000000   66.000000       56.000000  \n",
       "50%      63.000000   70.000000       63.500000  \n",
       "75%      68.000000   74.000000       68.250000  \n",
       "max      83.000000   85.000000       82.000000  "
      ]
     },
     "execution_count": 442,
     "metadata": {},
     "output_type": "execute_result"
    }
   ],
   "source": [
    "X_train.describe()"
   ]
  },
  {
   "cell_type": "code",
   "execution_count": 443,
   "metadata": {},
   "outputs": [
    {
     "data": {
      "text/plain": [
       "count    47.000000\n",
       "mean     74.276596\n",
       "std       4.950635\n",
       "min      60.000000\n",
       "25%      72.000000\n",
       "50%      74.000000\n",
       "75%      77.000000\n",
       "max      84.000000\n",
       "Name: target, dtype: float64"
      ]
     },
     "execution_count": 443,
     "metadata": {},
     "output_type": "execute_result"
    }
   ],
   "source": [
    "y_test.describe()"
   ]
  },
  {
   "cell_type": "code",
   "execution_count": 444,
   "metadata": {},
   "outputs": [],
   "source": [
    "my_model = regression_results['Huber Regression']['Model']\n",
    "my_features = regression_results['Huber Regression']['attributes']\n"
   ]
  },
  {
   "cell_type": "code",
   "execution_count": 445,
   "metadata": {},
   "outputs": [
    {
     "data": {
      "text/plain": [
       "47"
      ]
     },
     "execution_count": 445,
     "metadata": {},
     "output_type": "execute_result"
    }
   ],
   "source": [
    "result_df = pd.Series(my_model.predict(X_test_scaled_df[my_features]),index=X_test_scaled_df.index)\n",
    "len(result_df)"
   ]
  },
  {
   "cell_type": "code",
   "execution_count": 446,
   "metadata": {},
   "outputs": [
    {
     "data": {
      "text/plain": [
       "<Axes: >"
      ]
     },
     "execution_count": 446,
     "metadata": {},
     "output_type": "execute_result"
    },
    {
     "data": {
      "image/png": "[encoded data removed]",
      "text/plain": [
       "<Figure size 640x480 with 1 Axes>"
      ]
     },
     "metadata": {},
     "output_type": "display_data"
    }
   ],
   "source": [
    "(y_test-result_df).sort_values(ascending=False).hist()"
   ]
  },
  {
   "cell_type": "code",
   "execution_count": 447,
   "metadata": {},
   "outputs": [
    {
     "data": {
      "text/plain": [
       "<Axes: >"
      ]
     },
     "execution_count": 447,
     "metadata": {},
     "output_type": "execute_result"
    },
    {
     "data": {
      "image/png": "[encoded data removed]",
      "text/plain": [
       "<Figure size 640x480 with 1 Axes>"
      ]
     },
     "metadata": {},
     "output_type": "display_data"
    }
   ],
   "source": [
    "result_df.sort_values(ascending=False).hist()"
   ]
  },
  {
   "cell_type": "code",
   "execution_count": 448,
   "metadata": {},
   "outputs": [
    {
     "data": {
      "text/plain": [
       "count    47.000000\n",
       "mean     -1.944731\n",
       "std       3.771946\n",
       "min     -10.840438\n",
       "25%      -4.522987\n",
       "50%      -2.576448\n",
       "75%      -0.007039\n",
       "max       7.628454\n",
       "dtype: float64"
      ]
     },
     "execution_count": 448,
     "metadata": {},
     "output_type": "execute_result"
    }
   ],
   "source": [
    "(y_test-result_df).describe()"
   ]
  },
  {
   "cell_type": "code",
   "execution_count": 449,
   "metadata": {},
   "outputs": [
    {
     "data": {
      "text/html": [
       "<div>\n",
       "<style scoped>\n",
       "    .dataframe tbody tr th:only-of-type {\n",
       "        vertical-align: middle;\n",
       "    }\n",
       "\n",
       "    .dataframe tbody tr th {\n",
       "        vertical-align: top;\n",
       "    }\n",
       "\n",
       "    .dataframe thead th {\n",
       "        text-align: right;\n",
       "    }\n",
       "</style>\n",
       "<table border=\"1\" class=\"dataframe\">\n",
       "  <thead>\n",
       "    <tr style=\"text-align: right;\">\n",
       "      <th></th>\n",
       "      <th></th>\n",
       "      <th></th>\n",
       "      <th>Finishing</th>\n",
       "      <th>ShortPassing</th>\n",
       "      <th>Dribbling</th>\n",
       "      <th>FKAccuracy</th>\n",
       "      <th>LongPassing</th>\n",
       "      <th>Composure</th>\n",
       "      <th>Stamina</th>\n",
       "      <th>Strength</th>\n",
       "      <th>LongShots</th>\n",
       "      <th>Interceptions</th>\n",
       "      <th>Positioning</th>\n",
       "      <th>Vision</th>\n",
       "      <th>StandingTackle</th>\n",
       "    </tr>\n",
       "    <tr>\n",
       "      <th>ID</th>\n",
       "      <th>Name</th>\n",
       "      <th>FIFA</th>\n",
       "      <th></th>\n",
       "      <th></th>\n",
       "      <th></th>\n",
       "      <th></th>\n",
       "      <th></th>\n",
       "      <th></th>\n",
       "      <th></th>\n",
       "      <th></th>\n",
       "      <th></th>\n",
       "      <th></th>\n",
       "      <th></th>\n",
       "      <th></th>\n",
       "      <th></th>\n",
       "    </tr>\n",
       "  </thead>\n",
       "  <tbody>\n",
       "    <tr>\n",
       "      <th>246646</th>\n",
       "      <th>M. Caqueret</th>\n",
       "      <th>2020</th>\n",
       "      <td>52.0</td>\n",
       "      <td>74.0</td>\n",
       "      <td>66.0</td>\n",
       "      <td>52.0</td>\n",
       "      <td>74.0</td>\n",
       "      <td>69.0</td>\n",
       "      <td>66.0</td>\n",
       "      <td>56.0</td>\n",
       "      <td>56.0</td>\n",
       "      <td>60.0</td>\n",
       "      <td>57.0</td>\n",
       "      <td>72.0</td>\n",
       "      <td>59.0</td>\n",
       "    </tr>\n",
       "    <tr>\n",
       "      <th>246104</th>\n",
       "      <th>R. Gravenberch</th>\n",
       "      <th>2020</th>\n",
       "      <td>55.0</td>\n",
       "      <td>72.0</td>\n",
       "      <td>70.0</td>\n",
       "      <td>56.0</td>\n",
       "      <td>73.0</td>\n",
       "      <td>64.0</td>\n",
       "      <td>62.0</td>\n",
       "      <td>72.0</td>\n",
       "      <td>61.0</td>\n",
       "      <td>51.0</td>\n",
       "      <td>52.0</td>\n",
       "      <td>69.0</td>\n",
       "      <td>56.0</td>\n",
       "    </tr>\n",
       "    <tr>\n",
       "      <th>245367</th>\n",
       "      <th>X. Simons</th>\n",
       "      <th>2021</th>\n",
       "      <td>53.0</td>\n",
       "      <td>67.0</td>\n",
       "      <td>68.0</td>\n",
       "      <td>45.0</td>\n",
       "      <td>65.0</td>\n",
       "      <td>54.0</td>\n",
       "      <td>60.0</td>\n",
       "      <td>47.0</td>\n",
       "      <td>55.0</td>\n",
       "      <td>64.0</td>\n",
       "      <td>67.0</td>\n",
       "      <td>67.0</td>\n",
       "      <td>64.0</td>\n",
       "    </tr>\n",
       "    <tr>\n",
       "      <th>244675</th>\n",
       "      <th>Sancet</th>\n",
       "      <th>2020</th>\n",
       "      <td>63.0</td>\n",
       "      <td>71.0</td>\n",
       "      <td>74.0</td>\n",
       "      <td>36.0</td>\n",
       "      <td>64.0</td>\n",
       "      <td>67.0</td>\n",
       "      <td>58.0</td>\n",
       "      <td>46.0</td>\n",
       "      <td>62.0</td>\n",
       "      <td>62.0</td>\n",
       "      <td>66.0</td>\n",
       "      <td>71.0</td>\n",
       "      <td>57.0</td>\n",
       "    </tr>\n",
       "    <tr>\n",
       "      <th>241637</th>\n",
       "      <th>A. Tchouaméni</th>\n",
       "      <th>2020</th>\n",
       "      <td>49.0</td>\n",
       "      <td>72.0</td>\n",
       "      <td>71.0</td>\n",
       "      <td>45.0</td>\n",
       "      <td>70.0</td>\n",
       "      <td>70.0</td>\n",
       "      <td>72.0</td>\n",
       "      <td>74.0</td>\n",
       "      <td>48.0</td>\n",
       "      <td>69.0</td>\n",
       "      <td>67.0</td>\n",
       "      <td>66.0</td>\n",
       "      <td>71.0</td>\n",
       "    </tr>\n",
       "    <tr>\n",
       "      <th>245155</th>\n",
       "      <th>M. Kudus</th>\n",
       "      <th>2020</th>\n",
       "      <td>61.0</td>\n",
       "      <td>68.0</td>\n",
       "      <td>75.0</td>\n",
       "      <td>38.0</td>\n",
       "      <td>65.0</td>\n",
       "      <td>72.0</td>\n",
       "      <td>72.0</td>\n",
       "      <td>67.0</td>\n",
       "      <td>55.0</td>\n",
       "      <td>49.0</td>\n",
       "      <td>65.0</td>\n",
       "      <td>65.0</td>\n",
       "      <td>49.0</td>\n",
       "    </tr>\n",
       "    <tr>\n",
       "      <th>247328</th>\n",
       "      <th>Unai Vencedor</th>\n",
       "      <th>2020</th>\n",
       "      <td>52.0</td>\n",
       "      <td>64.0</td>\n",
       "      <td>63.0</td>\n",
       "      <td>76.0</td>\n",
       "      <td>67.0</td>\n",
       "      <td>69.0</td>\n",
       "      <td>63.0</td>\n",
       "      <td>64.0</td>\n",
       "      <td>63.0</td>\n",
       "      <td>52.0</td>\n",
       "      <td>45.0</td>\n",
       "      <td>64.0</td>\n",
       "      <td>63.0</td>\n",
       "    </tr>\n",
       "  </tbody>\n",
       "</table>\n",
       "</div>"
      ],
      "text/plain": [
       "                            Finishing  ShortPassing  Dribbling  FKAccuracy  \\\n",
       "ID     Name           FIFA                                                   \n",
       "246646 M. Caqueret    2020       52.0          74.0       66.0        52.0   \n",
       "246104 R. Gravenberch 2020       55.0          72.0       70.0        56.0   \n",
       "245367 X. Simons      2021       53.0          67.0       68.0        45.0   \n",
       "244675 Sancet         2020       63.0          71.0       74.0        36.0   \n",
       "241637 A. Tchouaméni  2020       49.0          72.0       71.0        45.0   \n",
       "245155 M. Kudus       2020       61.0          68.0       75.0        38.0   \n",
       "247328 Unai Vencedor  2020       52.0          64.0       63.0        76.0   \n",
       "\n",
       "                            LongPassing  Composure  Stamina  Strength  \\\n",
       "ID     Name           FIFA                                              \n",
       "246646 M. Caqueret    2020         74.0       69.0     66.0      56.0   \n",
       "246104 R. Gravenberch 2020         73.0       64.0     62.0      72.0   \n",
       "245367 X. Simons      2021         65.0       54.0     60.0      47.0   \n",
       "244675 Sancet         2020         64.0       67.0     58.0      46.0   \n",
       "241637 A. Tchouaméni  2020         70.0       70.0     72.0      74.0   \n",
       "245155 M. Kudus       2020         65.0       72.0     72.0      67.0   \n",
       "247328 Unai Vencedor  2020         67.0       69.0     63.0      64.0   \n",
       "\n",
       "                            LongShots  Interceptions  Positioning  Vision  \\\n",
       "ID     Name           FIFA                                                  \n",
       "246646 M. Caqueret    2020       56.0           60.0         57.0    72.0   \n",
       "246104 R. Gravenberch 2020       61.0           51.0         52.0    69.0   \n",
       "245367 X. Simons      2021       55.0           64.0         67.0    67.0   \n",
       "244675 Sancet         2020       62.0           62.0         66.0    71.0   \n",
       "241637 A. Tchouaméni  2020       48.0           69.0         67.0    66.0   \n",
       "245155 M. Kudus       2020       55.0           49.0         65.0    65.0   \n",
       "247328 Unai Vencedor  2020       63.0           52.0         45.0    64.0   \n",
       "\n",
       "                            StandingTackle  \n",
       "ID     Name           FIFA                  \n",
       "246646 M. Caqueret    2020            59.0  \n",
       "246104 R. Gravenberch 2020            56.0  \n",
       "245367 X. Simons      2021            64.0  \n",
       "244675 Sancet         2020            57.0  \n",
       "241637 A. Tchouaméni  2020            71.0  \n",
       "245155 M. Kudus       2020            49.0  \n",
       "247328 Unai Vencedor  2020            63.0  "
      ]
     },
     "execution_count": 449,
     "metadata": {},
     "output_type": "execute_result"
    }
   ],
   "source": [
    "outlier = (y_test-result_df)>3\n",
    "X_test[outlier]\n"
   ]
  },
  {
   "cell_type": "code",
   "execution_count": 450,
   "metadata": {},
   "outputs": [
    {
     "data": {
      "text/plain": [
       "ID      Name            FIFA\n",
       "246646  M. Caqueret     2020    79.0\n",
       "246104  R. Gravenberch  2020    79.0\n",
       "245367  X. Simons       2021    79.0\n",
       "244675  Sancet          2020    81.0\n",
       "241637  A. Tchouaméni   2020    84.0\n",
       "245155  M. Kudus        2020    79.0\n",
       "247328  Unai Vencedor   2020    77.0\n",
       "Name: target, dtype: float64"
      ]
     },
     "execution_count": 450,
     "metadata": {},
     "output_type": "execute_result"
    }
   ],
   "source": [
    "y_test[outlier]"
   ]
  },
  {
   "cell_type": "code",
   "execution_count": 451,
   "metadata": {},
   "outputs": [
    {
     "data": {
      "text/plain": [
       "ID      Name            FIFA\n",
       "246646  M. Caqueret     2020    75.641091\n",
       "246104  R. Gravenberch  2020    74.997769\n",
       "245367  X. Simons       2021    74.976399\n",
       "244675  Sancet          2020    76.072114\n",
       "241637  A. Tchouaméni   2020    76.371546\n",
       "245155  M. Kudus        2020    73.440146\n",
       "247328  Unai Vencedor   2020    73.375526\n",
       "dtype: float64"
      ]
     },
     "execution_count": 451,
     "metadata": {},
     "output_type": "execute_result"
    }
   ],
   "source": [
    "result_df[outlier]"
   ]
  },
  {
   "cell_type": "code",
   "execution_count": 452,
   "metadata": {},
   "outputs": [
    {
     "data": {
      "text/plain": [
       "count    47.000000\n",
       "mean      0.974410\n",
       "std       0.050413\n",
       "min       0.846974\n",
       "25%       0.941786\n",
       "50%       0.967211\n",
       "75%       0.999954\n",
       "max       1.099886\n",
       "dtype: float64"
      ]
     },
     "execution_count": 452,
     "metadata": {},
     "output_type": "execute_result"
    }
   ],
   "source": [
    "(y_test/result_df).describe()"
   ]
  },
  {
   "cell_type": "code",
   "execution_count": 453,
   "metadata": {},
   "outputs": [
    {
     "data": {
      "text/plain": [
       "count    47.000000\n",
       "mean      0.974410\n",
       "std       0.050413\n",
       "min       0.846974\n",
       "25%       0.941786\n",
       "50%       0.967211\n",
       "75%       0.999954\n",
       "max       1.099886\n",
       "dtype: float64"
      ]
     },
     "execution_count": 453,
     "metadata": {},
     "output_type": "execute_result"
    }
   ],
   "source": [
    "(y_test/result_df).describe()"
   ]
  },
  {
   "cell_type": "code",
   "execution_count": 454,
   "metadata": {},
   "outputs": [
    {
     "data": {
      "text/plain": [
       "array([[1.       , 0.6477131],\n",
       "       [0.6477131, 1.       ]])"
      ]
     },
     "execution_count": 454,
     "metadata": {},
     "output_type": "execute_result"
    }
   ],
   "source": [
    "np.corrcoef(y_test,result_df)"
   ]
  },
  {
   "cell_type": "code",
   "execution_count": 455,
   "metadata": {},
   "outputs": [
    {
     "data": {
      "image/png": "[encoded data removed]",
      "text/plain": [
       "<Figure size 640x480 with 1 Axes>"
      ]
     },
     "metadata": {},
     "output_type": "display_data"
    }
   ],
   "source": [
    "import matplotlib.pyplot as plt\n",
    "plt.scatter(y_test, result_df, color='blue', alpha=0.5)\n",
    "plt.plot([min(y_test), max(y_test)], [min(y_test), max(y_test)], color='red', linestyle='--', label='Diagonal line')\n",
    "\n",
    "plt.title('Scatter Plot of y_test vs result_df')\n",
    "plt.xlabel('y_test')\n",
    "plt.ylabel('result_df')\n",
    "plt.show()"
   ]
  },
  {
   "cell_type": "code",
   "execution_count": 456,
   "metadata": {},
   "outputs": [],
   "source": [
    "result_df = result_df.sort_values(ascending=False)"
   ]
  },
  {
   "cell_type": "code",
   "execution_count": 457,
   "metadata": {},
   "outputs": [
    {
     "data": {
      "text/plain": [
       "ID      Name              FIFA\n",
       "235569  T. Ndombele       2020    82.963819\n",
       "247851  Bruno Guimarães   2021    82.088695\n",
       "234060  Y. Herrera        2021    81.461542\n",
       "248243  E. Camavinga      2021    81.144481\n",
       "253109  J. Veerman        2021    80.890584\n",
       "237629  A. Maier          2021    80.186878\n",
       "236496  M. Guendouzi      2020    79.486446\n",
       "244374  M. Shaparenko     2020    79.127795\n",
       "244788  P. Bucha          2021    78.948020\n",
       "234078  O. Mangala        2020    78.847069\n",
       "237161  S. Longstaff      2020    78.723674\n",
       "253157  H. Boudaoui       2021    78.576448\n",
       "231445  J. Dasilva        2021    78.504382\n",
       "243001  A. Cicâldău       2021    78.064751\n",
       "241928  A. Sambi Lokonga  2021    77.871839\n",
       "234795  A. Bernede        2020    77.550720\n",
       "251217  Jean Lucas        2020    77.381359\n",
       "234111  D. Turnbull       2021    77.335480\n",
       "241856  Manu Morlanes     2020    77.232284\n",
       "242816  Riqui Puig        2020    77.108474\n",
       "244280  A. Fein           2020    76.735353\n",
       "241607  T. Belmonte       2020    76.710495\n",
       "236015  M. Gibbs-White    2020    76.702821\n",
       "241637  A. Tchouaméni     2020    76.371546\n",
       "228946  M. Svanberg       2020    76.133381\n",
       "244675  Sancet            2020    76.072114\n",
       "252541  J. Chotard        2021    75.764105\n",
       "246646  M. Caqueret       2020    75.641091\n",
       "246885  N. Capaldo        2021    75.582664\n",
       "241931  F. Moyano         2020    75.488669\n",
       "246104  R. Gravenberch    2020    74.997769\n",
       "245367  X. Simons         2021    74.976399\n",
       "246107  M. Palacios       2021    74.667161\n",
       "240970  M. Payero         2020    73.469331\n",
       "245155  M. Kudus          2020    73.440146\n",
       "247328  Unai Vencedor     2020    73.375526\n",
       "243349  D. Levitt         2021    73.126184\n",
       "247870  N. Umyarov        2020    73.092769\n",
       "242534  C. Cásseres Jr    2020    72.909559\n",
       "246683  L. Agoume         2020    72.694580\n",
       "245988  L. Connell        2020    72.529737\n",
       "246809  Marc Aguado       2020    72.466767\n",
       "257318  K. Ruiz-Atil      2021    72.197360\n",
       "245992  B. Gilmour        2020    71.880698\n",
       "247377  Marcos Antonio    2020    71.272244\n",
       "244289  K. Bafounta       2020    70.840438\n",
       "248856  D. Leyva          2021    69.768690\n",
       "dtype: float64"
      ]
     },
     "execution_count": 457,
     "metadata": {},
     "output_type": "execute_result"
    }
   ],
   "source": [
    "result_df.head(50)"
   ]
  },
  {
   "cell_type": "code",
   "execution_count": 458,
   "metadata": {},
   "outputs": [
    {
     "name": "stdout",
     "output_type": "stream",
     "text": [
      "3\n"
     ]
    },
    {
     "data": {
      "text/plain": [
       "ID      Name             FIFA\n",
       "235569  T. Ndombele      2020    82.963819\n",
       "247851  Bruno Guimarães  2021    82.088695\n",
       "248243  E. Camavinga     2021    81.144481\n",
       "dtype: float64"
      ]
     },
     "execution_count": 458,
     "metadata": {},
     "output_type": "execute_result"
    }
   ],
   "source": [
    "bool_ = (result_df>=TARGET_OVERALL)&(y_test>=TARGET_OVERALL)\n",
    "print(bool_.sum())\n",
    "result_df[bool_]"
   ]
  },
  {
   "cell_type": "code",
   "execution_count": 459,
   "metadata": {},
   "outputs": [
    {
     "name": "stdout",
     "output_type": "stream",
     "text": [
      "2\n"
     ]
    },
    {
     "data": {
      "text/plain": [
       "ID      Name           FIFA\n",
       "241637  A. Tchouaméni  2020    76.371546\n",
       "244675  Sancet         2020    76.072114\n",
       "dtype: float64"
      ]
     },
     "execution_count": 459,
     "metadata": {},
     "output_type": "execute_result"
    }
   ],
   "source": [
    "bool_ = (result_df<TARGET_OVERALL)&(y_test>=TARGET_OVERALL)\n",
    "print(bool_.sum())\n",
    "result_df[bool_]"
   ]
  },
  {
   "cell_type": "code",
   "execution_count": 460,
   "metadata": {},
   "outputs": [
    {
     "name": "stdout",
     "output_type": "stream",
     "text": [
      "3\n"
     ]
    },
    {
     "data": {
      "text/plain": [
       "ID      Name        FIFA\n",
       "234060  Y. Herrera  2021    81.461542\n",
       "253109  J. Veerman  2021    80.890584\n",
       "237629  A. Maier    2021    80.186878\n",
       "dtype: float64"
      ]
     },
     "execution_count": 460,
     "metadata": {},
     "output_type": "execute_result"
    }
   ],
   "source": [
    "bool_ = (result_df>TARGET_OVERALL)&(y_test<=TARGET_OVERALL)\n",
    "print(bool_.sum())\n",
    "result_df[bool_]"
   ]
  },
  {
   "cell_type": "code",
   "execution_count": 461,
   "metadata": {},
   "outputs": [
    {
     "name": "stdout",
     "output_type": "stream",
     "text": [
      "39\n"
     ]
    },
    {
     "data": {
      "text/plain": [
       "ID      Name              FIFA\n",
       "246646  M. Caqueret       2020    75.641091\n",
       "252541  J. Chotard        2021    75.764105\n",
       "228946  M. Svanberg       2020    76.133381\n",
       "236015  M. Gibbs-White    2020    76.702821\n",
       "241607  T. Belmonte       2020    76.710495\n",
       "244280  A. Fein           2020    76.735353\n",
       "242816  Riqui Puig        2020    77.108474\n",
       "241856  Manu Morlanes     2020    77.232284\n",
       "234111  D. Turnbull       2021    77.335480\n",
       "251217  Jean Lucas        2020    77.381359\n",
       "234795  A. Bernede        2020    77.550720\n",
       "241928  A. Sambi Lokonga  2021    77.871839\n",
       "243001  A. Cicâldău       2021    78.064751\n",
       "231445  J. Dasilva        2021    78.504382\n",
       "253157  H. Boudaoui       2021    78.576448\n",
       "237161  S. Longstaff      2020    78.723674\n",
       "234078  O. Mangala        2020    78.847069\n",
       "244788  P. Bucha          2021    78.948020\n",
       "244374  M. Shaparenko     2020    79.127795\n",
       "236496  M. Guendouzi      2020    79.486446\n",
       "dtype: float64"
      ]
     },
     "execution_count": 461,
     "metadata": {},
     "output_type": "execute_result"
    }
   ],
   "source": [
    "bool_ = (result_df<TARGET_OVERALL)&(y_test<TARGET_OVERALL)\n",
    "print(bool_.sum())\n",
    "result_df[bool_].sort_values().tail(20)"
   ]
  },
  {
   "cell_type": "code",
   "execution_count": 462,
   "metadata": {},
   "outputs": [
    {
     "name": "stdout",
     "output_type": "stream",
     "text": [
      "              precision    recall  f1-score   support\n",
      "\n",
      "       False       0.94      0.59      0.73        27\n",
      "        True       0.63      0.95      0.76        20\n",
      "\n",
      "    accuracy                           0.74        47\n",
      "   macro avg       0.79      0.77      0.74        47\n",
      "weighted avg       0.81      0.74      0.74        47\n",
      "\n"
     ]
    }
   ],
   "source": [
    "from sklearn.metrics import  classification_report\n",
    "print(classification_report(y_test>75, result_df>75))"
   ]
  },
  {
   "cell_type": "code",
   "execution_count": null,
   "metadata": {},
   "outputs": [],
   "source": []
  }
 ],
 "metadata": {
  "kernelspec": {
   "display_name": "Python 3",
   "language": "python",
   "name": "python3"
  },
  "language_info": {
   "codemirror_mode": {
    "name": "ipython",
    "version": 3
   },
   "file_extension": ".py",
   "mimetype": "text/x-python",
   "name": "python",
   "nbconvert_exporter": "python",
   "pygments_lexer": "ipython3",
   "version": "3.11.4"
  },
  "orig_nbformat": 4
 },
 "nbformat": 4,
 "nbformat_minor": 2
}
